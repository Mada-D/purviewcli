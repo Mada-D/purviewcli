{
    "metadata": {
        "kernelspec": {
            "name": "python3",
            "display_name": "Python 3",
            "language": "python"
        },
        "language_info": {
            "name": "python",
            "version": "3.6.6",
            "mimetype": "text/x-python",
            "codemirror_mode": {
                "name": "ipython",
                "version": 3
            },
            "pygments_lexer": "ipython3",
            "nbconvert_exporter": "python",
            "file_extension": ".py"
        }
    },
    "nbformat_minor": 2,
    "nbformat": 4,
    "cells": [
        {
            "cell_type": "markdown",
            "source": [
                "# Classification\n",
                "\n",
                "### **Pre-requisite**\n",
                "\n",
                "Install required Python packages."
            ],
            "metadata": {
                "azdata_cell_guid": "9f26af23-7537-403f-9f7e-006388778bd3"
            }
        },
        {
            "cell_type": "code",
            "source": [
                "%pip install -U purviewcli"
            ],
            "metadata": {
                "azdata_cell_guid": "047cc5a3-fcc0-403d-a0ea-c6aec362ed6d"
            },
            "outputs": [],
            "execution_count": null
        },
        {
            "cell_type": "markdown",
            "source": [
                "**1\\. Set the Environment Variable**\n",
                "\n",
                "Before purviewcli can be used, the environment variable `PURVIEW_NAME` needs to be set."
            ],
            "metadata": {
                "azdata_cell_guid": "3954ea4d-8707-45f6-a162-09060bef1423"
            }
        },
        {
            "cell_type": "code",
            "source": [
                "%env PURVIEW_NAME=purview-sandbox"
            ],
            "metadata": {
                "azdata_cell_guid": "c3942b28-ccc1-49fa-9458-3c8aa11ff950"
            },
            "outputs": [
                {
                    "name": "stdout",
                    "text": "env: PURVIEW_NAME=purview-sandbox\n",
                    "output_type": "stream"
                }
            ],
            "execution_count": 1
        },
        {
            "cell_type": "markdown",
            "source": [
                "### **2\\. \\[CREATE\\] Create a Classification**"
            ],
            "metadata": {
                "azdata_cell_guid": "a3c4f3f4-5c9a-4569-88d1-54f75cff9f65"
            }
        },
        {
            "cell_type": "code",
            "source": [
                "guid = 'd1e515e7-9c0a-43cb-b902-89b87bc002ee'\n",
                "classificationName = 'MICROSOFT.PERSONAL.NAME'\n",
                "!pv addEntityClassifications --guid=\"{guid}\" --classificationName=\"{classificationName}\""
            ],
            "metadata": {
                "azdata_cell_guid": "366fbb6f-da4e-4737-abc7-6ff7920a4ff1"
            },
            "outputs": [
                {
                    "name": "stdout",
                    "text": "{\r\n    \"operation\": \"[POST] https://purview-sandbox.catalog.purview.azure.com/api/atlas/v2/entity/guid/d1e515e7-9c0a-43cb-b902-89b87bc002ee/classifications\",\r\n    \"status\": \"The server successfully processed the request\"\r\n}\r\n",
                    "output_type": "stream"
                }
            ],
            "execution_count": 5
        },
        {
            "cell_type": "markdown",
            "source": [
                "### **3\\. \\[READ\\] Get a Classification for an Entity**"
            ],
            "metadata": {
                "azdata_cell_guid": "a6a810cb-05d9-45ae-9599-500348936bdf"
            }
        },
        {
            "cell_type": "code",
            "source": [
                "!pv getEntityClassification --guid=\"{guid}\" --classificationName=\"{classificationName}\""
            ],
            "metadata": {
                "azdata_cell_guid": "295bc879-5cfe-471a-9480-98f9c6adac21"
            },
            "outputs": [
                {
                    "name": "stdout",
                    "text": "{\r\n    \"entityGuid\": \"d1e515e7-9c0a-43cb-b902-89b87bc002ee\",\r\n    \"entityStatus\": \"ACTIVE\",\r\n    \"lastModifiedTS\": \"1\",\r\n    \"typeName\": \"MICROSOFT.PERSONAL.NAME\"\r\n}\r\n",
                    "output_type": "stream"
                }
            ],
            "execution_count": 7
        },
        {
            "cell_type": "markdown",
            "source": [
                "### **4\\. \\[READ\\] Get ALL Classifications for an Entity**"
            ],
            "metadata": {
                "azdata_cell_guid": "98c11b9d-1c99-4023-96ee-eb9f2ad353b2"
            }
        },
        {
            "cell_type": "code",
            "source": [
                "!pv getEntityClassifications --guid=\"{guid}\""
            ],
            "metadata": {
                "azdata_cell_guid": "c0d42259-fb11-47a9-a2b8-a1d22bd57865"
            },
            "outputs": [
                {
                    "name": "stdout",
                    "text": "{\r\n    \"list\": [\r\n        {\r\n            \"entityGuid\": \"d1e515e7-9c0a-43cb-b902-89b87bc002ee\",\r\n            \"entityStatus\": \"ACTIVE\",\r\n            \"lastModifiedTS\": \"1\",\r\n            \"typeName\": \"MICROSOFT.PERSONAL.NAME\"\r\n        }\r\n    ],\r\n    \"pageSize\": 1,\r\n    \"sortType\": \"NONE\",\r\n    \"startIndex\": 0,\r\n    \"totalCount\": 1\r\n}\r\n",
                    "output_type": "stream"
                }
            ],
            "execution_count": 9
        },
        {
            "cell_type": "markdown",
            "source": [
                "### **5\\. \\[DELETE\\] Remove a Classification from an Entity**"
            ],
            "metadata": {
                "azdata_cell_guid": "321de6f7-f6c0-4e8a-afaa-38591d152b26"
            }
        },
        {
            "cell_type": "code",
            "source": [
                "!pv deleteEntityClassification --guid=\"{guid}\" --classificationName=\"{classificationName}\""
            ],
            "metadata": {
                "azdata_cell_guid": "f840f178-970b-4727-b95a-66b5f9e08123"
            },
            "outputs": [
                {
                    "name": "stdout",
                    "text": "{\r\n    \"operation\": \"[DELETE] https://purview-sandbox.catalog.purview.azure.com/api/atlas/v2/entity/guid/d1e515e7-9c0a-43cb-b902-89b87bc002ee/classification/MICROSOFT.PERSONAL.NAME\",\r\n    \"status\": \"The server successfully processed the request\"\r\n}\r\n",
                    "output_type": "stream"
                }
            ],
            "execution_count": 10
        },
        {
            "cell_type": "markdown",
            "source": [
                "### **Get a Classification Definition**"
            ],
            "metadata": {
                "azdata_cell_guid": "7400f757-a0a8-4494-90a0-a202488bfb85"
            }
        },
        {
            "cell_type": "code",
            "source": [
                "!pv getClassificationdef --name \"{classificationName}\""
            ],
            "metadata": {
                "azdata_cell_guid": "432d858c-81e3-4cca-8b04-aa80b5bd5045"
            },
            "outputs": [
                {
                    "name": "stdout",
                    "text": "{\r\n    \"attributeDefs\": [],\r\n    \"category\": \"CLASSIFICATION\",\r\n    \"createTime\": 1611217878854,\r\n    \"createdBy\": \"admin\",\r\n    \"description\": \"Person's Name\",\r\n    \"entityTypes\": [],\r\n    \"guid\": \"431bfbe0-c2f7-4aff-8124-7fff57eaff22\",\r\n    \"name\": \"MICROSOFT.PERSONAL.NAME\",\r\n    \"options\": {\r\n        \"displayName\": \"Person's Name\"\r\n    },\r\n    \"subTypes\": [],\r\n    \"superTypes\": [],\r\n    \"typeVersion\": \"1.0\",\r\n    \"updateTime\": 1611217878854,\r\n    \"updatedBy\": \"admin\",\r\n    \"version\": 1\r\n}\r\n",
                    "output_type": "stream"
                }
            ],
            "execution_count": 11
        },
        {
            "cell_type": "markdown",
            "source": [
                "### **Get Classification Definitions**"
            ],
            "metadata": {
                "azdata_cell_guid": "507c3164-d53c-4357-8772-1d06b2c000e4"
            }
        },
        {
            "cell_type": "code",
            "source": [
                "import json\n",
                "import pandas as pd\n",
                "\n",
                "# Get Definitions\n",
                "typedefs = !pv getTypedefs --type 'classification'\n",
                "jtypes = json.loads(''.join(typedefs))\n",
                "df = pd.DataFrame(jtypes['classificationDefs'])"
            ],
            "metadata": {
                "azdata_cell_guid": "48a5479e-b7d2-44ab-a3ef-a4a078f49996"
            },
            "outputs": [],
            "execution_count": 2
        },
        {
            "cell_type": "code",
            "source": [
                "for name in df['name'].values:\n",
                "        print(name)"
            ],
            "metadata": {
                "azdata_cell_guid": "43e169da-0292-45a0-b11d-1ebb268787c1"
            },
            "outputs": [
                {
                    "name": "stdout",
                    "text": "MICROSOFT.GOVERNMENT.CHILE.CDI_NUMBER\nMICROSOFT.GOVERNMENT.US.SOCIAL_SECURITY_NUMBER\nMICROSOFT.FINANCIAL.JAPAN.BANK_ACCOUNT_NUMBER\nMICROSOFT.GOVERNMENT.TURKEY.TURKISH_NATIONAL_IDENTIFICATION_NUMBER\nMICROSOFT.GOVERNMENT.FRANCE.DRIVERS_LICENSE_NUMBER\nMICROSOFT.GOVERNMENT.IRELAND.PERSONAL_PUBLIC_SERVICE_NUMBER\nMICROSOFT.GOVERNMENT.TAIWAN.NATIONAL_ID_NUMBER\nMICROSOFT.GOVERNMENT.POLAND.PESEL_NUMBER\nMICROSOFT.FINANCIAL.CREDIT_CARD_NUMBER\nMICROSOFT.FINANCIAL.ISRAEL.BANK_ACCOUNT_NUMBER\nMICROSOFT.FINANCIAL.INTERNATIONAL.BANK_ACCOUNT_NUMBER\nMICROSOFT.GOVERNMENT.BRAZIL.LEGAL_IDENTITY_ID_CARD\nMICROSOFT.FINANCIAL.AUSTRALIA.BANK_ACCOUNT_NUMBER\nMICROSOFT.PERSONAL.DATE_OF_BIRTH\nMICROSOFT.GOVERNMENT.FRANCE.PASSPORT_NUMBER\nMICROSOFT.PERSONAL.EU.MOBILE_PHONE_NUMBER\nMICROSOFT.GOVERNMENT.CANADA.PERSONAL_HEALTH_IDENTIFICATION_NUMBER\nMICROSOFT.GOVERNMENT.CZECH.NATIONAL_ID_CARD_NUMBER\nMICROSOFT.GOVERNMENT.JAPAN.SOCIAL_INSURANCE_NUMBER\nMICROSOFT.FINANCIAL.US.BANK_ACCOUNT_NUMBER\nMICROSOFT.GOVERNMENT.US.ZIP_CODE\nMICROSOFT.GOVERNMENT.GERMANY.PASSPORT_NUMBER\nMICROSOFT.SECURITY.COMMON_PASSWORDS\nMICROSOFT.PERSONAL.ETHNIC_GROUP\nMICROSOFT.GOVERNMENT.SWEDEN.PASSPORT_NUMBER\nMICROSOFT.GOVERNMENT.TAIWAN.RESIDENT_CERTIFICATE\nMICROSOFT.GOVERNMENT.POLAND.PASSPORT_NUMBER\nMICROSOFT.GOVERNMENT.SINGAPORE.NATIONAL_REGISTRATION_IDENTITY_CARD_NUMBER\nMICROSOFT.PERSONAL.NAME\nMICROSOFT.GOVERNMENT.ISRAEL.NATIONAL_ID_NUMBER\nMICROSOFT.GOVERNMENT.INDONESIA.IDENTITY_CARD_NUMBER\nMICROSOFT.GOVERNMENT.FINLAND.PASSPORT_NUMBER\nMICROSOFT.GOVERNMENT.GREECE.ID_CARD_NUMBER\nMICROSOFT.GOVERNMENT.SAUDIARABIA.NATIONAL_ID_NUMBER\nMICROSOFT.PERSONAL.GEOLOCATION\nMICROSOFT.GOVERNMENT.FRANCE.CNI\nMICROSOFT.GOVERNMENT.FRANCE.SOCIAL_SECURITY_NUMBER\nMICROSOFT.GOVERNMENT.AUSTRALIA.MEDICAL_ACCOUNT_NUMBER\nMICROSOFT.FINANCIAL.CANADA.BANK_ACCOUNT_NUMBER\nMICROSOFT.GOVERNMENT.ITALY.DRIVERS_LICENSE_NUMBER\nMICROSOFT.GOVERNMENT.HONGKONG.ID_CARD_NUMBER\nMICROSOFT.GOVERNMENT.SPAIN.SOCIAL_SECURITY_NUMBER\nMICROSOFT.GOVERNMENT.UK.ELECTORAL_ROLL_NUMBER\nMICROSOFT.GOVERNMENT.EU.TAX_IDENTIFICATION_NUMBER\nMICROSOFT.GOVERNMENT.UK.NATIONAL_HEALTH_SERVICE_NUMBER\nMICROSOFT.GOVERNMENT.UK.NATIONAL_INSURANCE_NUMBER\nMICROSOFT.GOVERNMENT.CANADA.SOCIAL_INSURANCE_NUMBER\nMICROSOFT.GOVERNMENT.EU.SOCIAL_SECURITY_NUMBER_OR_EQUIVALENT_ID\nMICROSOFT.FINANCIAL.SWIFT_CODE\nMICROSOFT.GOVERNMENT.AUSTRALIA.PASSPORT_NUMBER\nMICROSOFT.GOVERNMENT.JAPAN.PASSPORT_NUMBER\nMICROSOFT.GOVERNMENT.SOUTHAFRICA.IDENTIFICATION_NUMBER\nMICROSOFT.PERSONAL.IPADDRESS\nMICROSOFT.GOVERNMENT.UK.PASSPORT_NUMBER\nMICROSOFT.GOVERNMENT.NORWAY.IDENTIFICATION_NUMBER\nMICROSOFT.GOVERNMENT.BELGIUM.NATIONAL_NUMBER\nMICROSOFT.GOVERNMENT.DENMARK.PERSONAL_ID_NUMBER\nMICROSOFT.GOVERNMENT.TAIWAN.PASSPORT_NUMBER\nMICROSOFT.GOVERNMENT.CHINA.RESIDENT_IDENTITY_CARD_NUMBER\nMICROSOFT.GOVERNMENT.EU.PASSPORT_NUMBER\nMICROSOFT.GOVERNMENT.JAPAN.RESIDENCE_CARD_NUMBER\nMICROSOFT.FINANCIAL.US.ABA_ROUTING_NUMBER\nMICROSOFT.GOVERNMENT.BRAZIL.CPF_NUMBER\nMICROSOFT.GOVERNMENT.NETHERLANDS.BSN_NUMBER\nMICROSOFT.GOVERNMENT.EU.DRIVERS_LICENSE_NUMBER\nCUSTOM.WINE.TWITTER_HANDLE\nMICROSOFT.GOVERNMENT.GERMANY.DRIVERS_LICENSE_NUMBER\nMICROSOFT.GOVERNMENT.US.INDIVIDUAL_TAXPAYER_IDENTIFICATION_NUMBER\nMICROSOFT.GOVERNMENT.JAPAN.RESIDENT_REGISTRATION_NUMBER\nMICROSOFT.GOVERNMENT.POLAND.IDENTITY_CARD\nMICROSOFT.GOVERNMENT.FINLAND.NATIONAL_ID_NUMBER\nMICROSOFT.GOVERNMENT.GERMANY.ID_CARD_NUMBER\nMICROSOFT.GOVERNMENT.EU.NATIONAL_IDENTIFICATION_NUMBER\nMICROSOFT.GOVERNMENT.US.DRIVERS_LICENSE_NUMBER\nMICROSOFT.GOVERNMENT.CROATIA.PERSONAL_IDENTIFICATION_NUMBER\nMICROSOFT.MISCELLANEOUS.IPADDRESS\nMICROSOFT.PERSONAL.AGE\nMICROSOFT.GOVERNMENT.INDIA.UNIQUE_IDENTIFCATION_NUMBER\nMICROSOFT.GOVERNMENT.CANADA.HEALTH_SERVICE_NUMBER\nMICROSOFT.PERSONAL.US.PHONE_NUMBER\nMICROSOFT.GOVERNMENT.UK.DRIVERS_LICENSE_NUMBER\nMICROSOFT.GOVERNMENT.ARGENTINA.DNI_NUMBER\nMICROSOFT.GOVERNMENT.SWEDEN.NATIONAL_ID_NUMBER\nMICROSOFT.GOVERNMENT.US.DRUG_ENFORCEMENT_AGENCY_NUMBER\nMICROSOFT.GOVERNMENT.BRAZIL.NATIONAL_ID_CARD\nMICROSOFT.GOVERNMENT.CANADA.PASSPORT_NUMBER\nMICROSOFT.GOVERNMENT.US.PASSPORT_NUMBER\nMICROSOFT.GOVERNMENT.NEWZEALAND.MINISTRY_OF_HEALTH_NUMBER\nMICROSOFT.GOVERNMENT.US.STATE\nMICROSOFT.GOVERNMENT.CROATIA.ID_CARD_NUMBER\nMICROSOFT.GOVERNMENT.AUSTRALIA.DRIVERS_LICENSE_NUMBER\nMICROSOFT.GOVERNMENT.INDIA.PAN_INDIVIDUAL\nMICROSOFT.GOVERNMENT.COUNTRY_NAME\nMICROSOFT.PERSONAL.EMAIL\nMICROSOFT.GOVERNMENT.PHILIPPINES.UNIFIED_MULTIPURPOSE_ID_NUMBER\nMICROSOFT.GOVERNMENT.SOUTHKOREA.RESIDENT_REGISTRATION_NUMBER\nMICROSOFT.GOVERNMENT.CITY_NAME\nMICROSOFT.GOVERNMENT.THAILAND.THAI_POPULATION_IDENTIFICATION_CODE\nMICROSOFT.PERSONAL.EU.PHONE_NUMBER\nMICROSOFT.GOVERNMENT.PORTUGAL.CITIZEN_CARD_NUMBER\nMICROSOFT.FINANCIAL.EU_DEBIT_CARD\nMICROSOFT.GOVERNMENT.AUSTRALIA.TAX_FILE_NUMBER\nMICROSOFT.GOVERNMENT.CANADA.DRIVERS_LICENSE_NUMBER\nMICROSOFT.SYSTEM.TEMP_FILE\nMICROSOFT.GOVERNMENT.JAPAN.DRIVERS_LICENSE_NUMBER\nMICROSOFT.POWERBI.ENDORSEMENT\nMICROSOFT.GOVERNMENT.MALAYSIA.IDENTITY_CARD_NUMBER\nMICROSOFT.PERSONAL.EU.GPS_COORDINATES\n",
                    "output_type": "stream"
                }
            ],
            "execution_count": 3
        }
    ]
}