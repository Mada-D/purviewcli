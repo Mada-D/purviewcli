{
    "metadata": {
        "kernelspec": {
            "name": "python3",
            "display_name": "Python 3",
            "language": "python"
        },
        "language_info": {
            "name": "python",
            "version": "3.6.6",
            "mimetype": "text/x-python",
            "codemirror_mode": {
                "name": "ipython",
                "version": 3
            },
            "pygments_lexer": "ipython3",
            "nbconvert_exporter": "python",
            "file_extension": ".py"
        }
    },
    "nbformat_minor": 2,
    "nbformat": 4,
    "cells": [
        {
            "cell_type": "markdown",
            "source": [
                "# Entity\n",
                "### **Pre-requisite**\n",
                "Install required Python packages."
            ],
            "metadata": {
                "azdata_cell_guid": "42fb003c-adf1-4eed-a34a-ebf8d53dc75e"
            }
        },
        {
            "cell_type": "code",
            "source": [
                "%pip install purviewcli"
            ],
            "metadata": {
                "azdata_cell_guid": "fa059e9f-27cd-4b93-b8cc-4f68bff46116"
            },
            "outputs": [],
            "execution_count": null
        },
        {
            "cell_type": "markdown",
            "source": [
                "Load Python Libraries"
            ],
            "metadata": {
                "azdata_cell_guid": "6b048dc1-2f85-4fb7-8ebf-c10951e1b816"
            }
        },
        {
            "cell_type": "code",
            "source": [
                "import json"
            ],
            "metadata": {
                "azdata_cell_guid": "0d5bd915-00c6-4e76-ba2d-a8c250a7286a",
                "tags": []
            },
            "outputs": [],
            "execution_count": null
        },
        {
            "cell_type": "markdown",
            "source": [
                "### **1\\. Set the Environment Variable**\n",
                "\n",
                "Before purviewcli can be used, the environment variable `PURVIEW_NAME` needs to be set."
            ],
            "metadata": {
                "azdata_cell_guid": "f2c9d29c-d3b2-48aa-9c37-f85b2adb8d58"
            }
        },
        {
            "cell_type": "code",
            "source": [
                "%env PURVIEW_NAME=purview-sandbox"
            ],
            "metadata": {
                "azdata_cell_guid": "c5ec8581-3c04-4b60-b3e9-3b41571832fc"
            },
            "outputs": [],
            "execution_count": null
        },
        {
            "cell_type": "markdown",
            "source": [
                "### **1\\. Purge Purview Entities**\n",
                "\n",
                "The script below will purge Azure Purview of all existing entities."
            ],
            "metadata": {
                "azdata_cell_guid": "8b6fd8b1-8b0f-478f-b5b5-a7098fbda326"
            }
        },
        {
            "cell_type": "code",
            "source": [
                "# Initialise Variables\n",
                "batch_size = 500\n",
                "offset = 0\n",
                "my_items = []\n",
                "\n",
                "# Initial Search Query\n",
                "my_output = !pv search --keywords '*' --limit {batch_size}\n",
                "my_data = json.loads(''.join(my_output))\n",
                "my_items.extend(my_data['value'])\n",
                "offset += batch_size\n",
                "\n",
                "# Additional Requests\n",
                "search_count = my_data['@search.count']\n",
                "while offset < search_count:\n",
                "    my_output = !pv search --keywords '*' --limit {batch_size} --offset {offset}\n",
                "    my_data = json.loads(''.join(my_output))\n",
                "    my_items.extend(my_data['value'])\n",
                "    offset += batch_size\n",
                "\n",
                "# !!! DELETE ALL ENTITIES !!!\n",
                "# for item in my_items:\n",
                "#     guid = item['id']\n",
                "#     name = item['name']\n",
                "#     entityType = item['entityType']\n",
                "#     if entityType != 'AtlasGlossary' and entityType != 'AtlasGlossaryTerm':\n",
                "#         !pv deleteEntity --guid {guid}"
            ],
            "metadata": {
                "azdata_cell_guid": "b2389358-9972-4ff8-9d48-fdd0bcfbcce9"
            },
            "outputs": [],
            "execution_count": null
        },
        {
            "cell_type": "markdown",
            "source": [
                "### **2\\. Create an Entity**"
            ],
            "metadata": {
                "azdata_cell_guid": "4ceda50e-10b4-4a36-b94f-495087a6384b"
            }
        },
        {
            "cell_type": "code",
            "source": [
                ""
            ],
            "metadata": {
                "azdata_cell_guid": "683e9d82-837a-40d4-a732-482feeb8fe78"
            },
            "outputs": [],
            "execution_count": null
        }
    ]
}