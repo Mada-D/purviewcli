{
    "metadata": {
        "kernelspec": {
            "name": "python3",
            "display_name": "Python 3",
            "language": "python"
        },
        "language_info": {
            "name": "python",
            "version": "3.6.6",
            "mimetype": "text/x-python",
            "codemirror_mode": {
                "name": "ipython",
                "version": 3
            },
            "pygments_lexer": "ipython3",
            "nbconvert_exporter": "python",
            "file_extension": ".py"
        }
    },
    "nbformat_minor": 2,
    "nbformat": 4,
    "cells": [
        {
            "cell_type": "markdown",
            "source": [
                "# Entity\n",
                "### **Pre-requisite**\n",
                "Install required Python packages."
            ],
            "metadata": {
                "azdata_cell_guid": "42fb003c-adf1-4eed-a34a-ebf8d53dc75e"
            }
        },
        {
            "cell_type": "code",
            "source": [
                "%pip install --upgrade purviewcli"
            ],
            "metadata": {
                "azdata_cell_guid": "fa059e9f-27cd-4b93-b8cc-4f68bff46116"
            },
            "outputs": [],
            "execution_count": null
        },
        {
            "cell_type": "markdown",
            "source": [
                "**Set the Environment Variable**\n",
                "\n",
                "Before purviewcli can be used, the environment variable `PURVIEW_NAME` needs to be set."
            ],
            "metadata": {
                "azdata_cell_guid": "f2c9d29c-d3b2-48aa-9c37-f85b2adb8d58"
            }
        },
        {
            "cell_type": "code",
            "source": [
                "%env PURVIEW_NAME=purview-sandbox"
            ],
            "metadata": {
                "azdata_cell_guid": "c5ec8581-3c04-4b60-b3e9-3b41571832fc"
            },
            "outputs": [],
            "execution_count": null
        },
        {
            "cell_type": "markdown",
            "source": [
                "## Entities"
            ],
            "metadata": {
                "azdata_cell_guid": "4faa095b-b2a2-4366-b28a-268633318bb9"
            }
        },
        {
            "cell_type": "code",
            "source": [
                "# Create an Entity\n",
                "!pv entity create --name 'MyFirstEntity' --qualifiedName 'taygan/custom/my_first_entity' --typeName 'azure_sql_table'"
            ],
            "metadata": {
                "azdata_cell_guid": "4755a88e-f2f7-424d-940d-195aa609d834",
                "tags": []
            },
            "outputs": [],
            "execution_count": null
        },
        {
            "cell_type": "code",
            "source": [
                "# Read an Entity\n",
                "guid = '717611ee-9b02-4f6f-99f1-9af6f6f60000'\n",
                "!pv entity read --guid {guid}"
            ],
            "metadata": {
                "azdata_cell_guid": "bcfbca3d-9fea-4efa-8c1a-34add04e3ff0"
            },
            "outputs": [],
            "execution_count": null
        },
        {
            "cell_type": "code",
            "source": [
                "# Delete an Entity\n",
                "guid = 'b2058227-3c3e-4d45-a97a-08f6f6f60000'\n",
                "!pv entity delete --guid {guid}"
            ],
            "metadata": {
                "azdata_cell_guid": "06bc2c56-4d84-4ea6-94a1-33ed743c711c",
                "tags": []
            },
            "outputs": [],
            "execution_count": null
        },
        {
            "cell_type": "code",
            "source": [
                "# Bulk Entity Creation\n",
                "name1 = 'Entity01'\n",
                "name2 = 'Entity02'\n",
                "name3 = 'Entity03'\n",
                "typeName = 'azure_sql_table'\n",
                "!pv entity createBulk --name {name1} --qualifiedName {name1} --typeName {typeName} --name {name2} --qualifiedName {name2} --typeName {typeName} --name {name3} --qualifiedName {name3} --typeName {typeName}"
            ],
            "metadata": {
                "azdata_cell_guid": "98623c49-c1f3-4a21-9dae-5ef329a9f258"
            },
            "outputs": [],
            "execution_count": null
        },
        {
            "cell_type": "code",
            "source": [
                "# Bulk Entity Read\n",
                "guid1 = '47cb6e63-7e42-4c0b-9288-88f6f6f60000'\n",
                "guid2 = 'bb8d0524-c40a-4711-b760-9cf6f6f60000'\n",
                "guid3 = 'b9498d28-7a9c-4717-acb2-34f6f6f60000'\n",
                "!pv entity readBulk --guid {guid1} --guid {guid2} --guid {guid3}"
            ],
            "metadata": {
                "azdata_cell_guid": "bbc61655-5493-4daa-86d6-e8cbe0db9b57",
                "tags": []
            },
            "outputs": [],
            "execution_count": null
        },
        {
            "cell_type": "code",
            "source": [
                "# Read Entity header\n",
                "guid = '47cb6e63-7e42-4c0b-9288-88f6f6f60000'\n",
                "!pv entity readHeader --guid {guid}"
            ],
            "metadata": {
                "azdata_cell_guid": "932e038b-4b11-4eb2-a747-dfb3db9ca1e3",
                "tags": []
            },
            "outputs": [],
            "execution_count": null
        },
        {
            "cell_type": "markdown",
            "source": [
                "## Classifications"
            ],
            "metadata": {
                "azdata_cell_guid": "fe6c4fd4-062a-45fa-9165-fc86ee60aee2"
            }
        },
        {
            "cell_type": "code",
            "source": [
                "# Apply multiple Classifications to an Entity\n",
                "guid = 'b9498d28-7a9c-4717-acb2-34f6f6f60000'\n",
                "classification1 = 'MICROSOFT.FINANCIAL.CREDIT_CARD_NUMBER'\n",
                "classification2 = 'MICROSOFT.PERSONAL.DATE_OF_BIRTH'\n",
                "classification3 = 'MICROSOFT.MISCELLANEOUS.IPADDRESS'\n",
                "!pv entity createClassifications --guid {guid} --classificationName {classification1} --classificationName {classification2} --classificationName {classification3}"
            ],
            "metadata": {
                "azdata_cell_guid": "01d83355-e72d-42aa-8be3-8b6cb38784d1",
                "tags": []
            },
            "outputs": [],
            "execution_count": null
        },
        {
            "cell_type": "code",
            "source": [
                "# Get all Classifications from an Entity\n",
                "guid = 'b9498d28-7a9c-4717-acb2-34f6f6f60000'\n",
                "!pv entity readClassifications --guid {guid}"
            ],
            "metadata": {
                "azdata_cell_guid": "fc33187f-d07c-40a8-b3be-a0ceb6746cd2"
            },
            "outputs": [],
            "execution_count": null
        },
        {
            "cell_type": "code",
            "source": [
                "# Get a single Classification from an Entity\n",
                "guid = 'b9498d28-7a9c-4717-acb2-34f6f6f60000'\n",
                "classification = 'MICROSOFT.FINANCIAL.CREDIT_CARD_NUMBER'\n",
                "!pv entity readClassification --guid {guid} --classificationName {classification}"
            ],
            "metadata": {
                "azdata_cell_guid": "443308fa-6b91-4880-a256-b41a2fb2a2ba"
            },
            "outputs": [],
            "execution_count": null
        },
        {
            "cell_type": "code",
            "source": [
                "# Remove a Classification from an Entity\n",
                "guid = 'b9498d28-7a9c-4717-acb2-34f6f6f60000'\n",
                "classification = 'MICROSOFT.FINANCIAL.CREDIT_CARD_NUMBER'\n",
                "!pv entity deleteClassification --guid {guid} --classificationName {classification}"
            ],
            "metadata": {
                "azdata_cell_guid": "fa5f31b2-8e58-4c5b-97cd-59a51b4c5337",
                "tags": []
            },
            "outputs": [],
            "execution_count": null
        },
        {
            "cell_type": "code",
            "source": [
                "# Apply a single Classification to multiple Entities\n",
                "classification = 'MICROSOFT.FINANCIAL.CREDIT_CARD_NUMBER'\n",
                "guid1 = '47cb6e63-7e42-4c0b-9288-88f6f6f60000'\n",
                "guid2 = 'bb8d0524-c40a-4711-b760-9cf6f6f60000'\n",
                "guid3 = 'b9498d28-7a9c-4717-acb2-34f6f6f60000'\n",
                "!pv entity createBulkClassification --classificationName {classification} --guid {guid1} --guid {guid2} --guid {guid3}"
            ],
            "metadata": {
                "azdata_cell_guid": "e673bed7-12d6-4732-861a-5ab14d60446a"
            },
            "outputs": [],
            "execution_count": null
        },
        {
            "cell_type": "markdown",
            "source": [
                "## Unique Attribute Type - Entity"
            ],
            "metadata": {
                "azdata_cell_guid": "160eb6df-bd54-4fdc-a7d1-ca2270b63b7a"
            }
        },
        {
            "cell_type": "code",
            "source": [
                "# Read an Entity via an Attribute that is unique (e.g. qualifiedName)\n",
                "typeName = 'azure_sql_table'\n",
                "attrKey = 'qualifiedName'\n",
                "attrVal = 'mssql://sqlsvr8951.database.windows.net/sqldb8951/SalesLT/Product'\n",
                "!pv entity readUniqueAttributeType --typeName {typeName} --attrKey {attrKey} --attrVal {attrVal}"
            ],
            "metadata": {
                "azdata_cell_guid": "4b130d66-e006-47dd-83f9-8bf0657ca406"
            },
            "outputs": [],
            "execution_count": null
        },
        {
            "cell_type": "code",
            "source": [
                "# Delete an Entity via an Attribute that is unique (e.g. qualifiedName)\n",
                "typeName = 'azure_sql_table'\n",
                "attrKey = 'qualifiedName'\n",
                "attrVal = 'mssql://sqlsvr8951.database.windows.net/sqldb8951/SalesLT/Product'\n",
                "!pv entity deleteUniqueAttributeType --typeName {typeName} --attrKey {attrKey} --attrVal {attrVal}"
            ],
            "metadata": {
                "azdata_cell_guid": "754e2c51-e0d2-48be-abfa-a9a0889ece20"
            },
            "outputs": [],
            "execution_count": null
        },
        {
            "cell_type": "code",
            "source": [
                "# Update an Entity via an Attribute that is unique (e.g. qualifiedName)\n",
                "typeName = 'azure_sql_table'\n",
                "attrKey = 'qualifiedName'\n",
                "attrVal = 'mssql://sqlsvr8951.database.windows.net/sqldb8951/SalesLT/ProductDescription'\n",
                "!pv entity updateUniqueAttributeType --typeName {typeName} --attrKey {attrKey} --attrVal {attrVal} --description 'This is a long description.'"
            ],
            "metadata": {
                "azdata_cell_guid": "95d4a8b4-61c6-4a5a-a2bf-aa2f2ca4f49c"
            },
            "outputs": [],
            "execution_count": null
        },
        {
            "cell_type": "code",
            "source": [
                "# Bulk Entity Read via an Attribute that is unique (e.g. qualifiedName)\n",
                "typeName = 'azure_sql_table'\n",
                "attrKey = 'qualifiedName'\n",
                "attrVal1 = 'mssql://sqlsvr8951.database.windows.net/sqldb8951/SalesLT/ProductDescription'\n",
                "attrVal2 = 'mssql://sqlsvr8951.database.windows.net/sqldb8951/SalesLT/Customer'\n",
                "attrVal3 = 'mssql://sqlsvr8951.database.windows.net/sqldb8951/SalesLT/ProductModel'\n",
                "!pv entity readBulkUniqueAttributeType --typeName {typeName} --attrKey {attrKey} --attrVal {attrVal1} --attrKey {attrKey} --attrVal {attrVal2} --attrKey {attrKey} --attrVal {attrVal3}"
            ],
            "metadata": {
                "azdata_cell_guid": "8d1fab3c-da72-451a-8201-8c3904995bcb"
            },
            "outputs": [],
            "execution_count": null
        },
        {
            "cell_type": "markdown",
            "source": [
                "## Unique Attribute Type - Classification"
            ],
            "metadata": {
                "azdata_cell_guid": "8c7d63dd-c86c-4079-8f04-a60f5ba73b03"
            }
        },
        {
            "cell_type": "code",
            "source": [
                "# Apply multiple Classifications to an Entity via an Attribute that is unique (e.g. qualifiedName)\n",
                "typeName = 'azure_sql_table'\n",
                "attrKey = 'qualifiedName'\n",
                "attrVal = 'mssql://sqlsvr8951.database.windows.net/sqldb8951/SalesLT/ProductDescription'\n",
                "classification1 = 'MICROSOFT.FINANCIAL.CREDIT_CARD_NUMBER'\n",
                "classification2 = 'MICROSOFT.PERSONAL.DATE_OF_BIRTH'\n",
                "classification3 = 'MICROSOFT.MISCELLANEOUS.IPADDRESS'\n",
                "!pv entity createUniqueAttributeTypeClassifications --typeName {typeName} --attrKey {attrKey} --attrVal {attrVal} --classificationName {classification1} --classificationName {classification2} --classificationName {classification3}"
            ],
            "metadata": {
                "azdata_cell_guid": "8bacddc9-dcdb-418e-bbd8-cd83d6d88fa5"
            },
            "outputs": [],
            "execution_count": null
        },
        {
            "cell_type": "code",
            "source": [
                "# Remove a Classification from an Entity via an Attribute that is unique (e.g. qualifiedName)\n",
                "typeName = 'azure_sql_table'\n",
                "attrKey = 'qualifiedName'\n",
                "attrVal = 'mssql://sqlsvr8951.database.windows.net/sqldb8951/SalesLT/ProductDescription'\n",
                "classification = 'MICROSOFT.FINANCIAL.CREDIT_CARD_NUMBER'\n",
                "!pv entity deleteUniqueAttributeTypeClassification --typeName {typeName} --attrKey {attrKey} --attrVal {attrVal} --classificationName {classification}"
            ],
            "metadata": {
                "azdata_cell_guid": "0044bc3e-5f48-42d5-a64f-5c07f0d0168a",
                "tags": []
            },
            "outputs": [],
            "execution_count": null
        }
    ]
}