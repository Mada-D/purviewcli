{
    "metadata": {
        "kernelspec": {
            "name": "python3",
            "display_name": "Python 3.6.10 64-bit ('3.6.10')",
            "metadata": {
                "interpreter": {
                    "hash": "e9865ae0dd365f3487efc1569e0abaffde2416b0053c59844de7c1d0179bb87d"
                }
            }
        },
        "language_info": {
            "name": "powershell",
            "codemirror_mode": "shell",
            "mimetype": "text/x-sh",
            "file_extension": ".ps1",
            "version": "3.6.10-final"
        }
    },
    "nbformat_minor": 2,
    "nbformat": 4,
    "cells": [
        {
            "cell_type": "markdown",
            "source": [
                "# Glossary\n",
                "\n",
                "## Usage\n",
                "\n",
                "```\n",
                "pv command --parameterName value\n",
                "```\n",
                "\n",
                "Note:\n",
                "\n",
                "- **( )** (parens) required elements.\n",
                "- **\\[ \\]** (brackets) optional elements.\n",
                "- **|** (pipe) mutually exclusive elements.\n",
                "- **...** (ellipsis) one or more elements.\n",
                "\n",
                "## Commands\n",
                "\n",
                "**Glossary**\n",
                "\n",
                "```\n",
                "getGlossary [--glossaryGuid=<glossaryGuid>] [--limit=<limit> --offset=<offset> --sort=<sort>]\n",
                "getGlossaryDetailed (--glossaryGuid=<glossaryGuid>)\n",
                "deleteGlossary (--glossaryGuid=<glossaryGuid>)\n",
                "```\n",
                "\n",
                "**Category**\n",
                "\n",
                "```\n",
                "createGlossaryCategory (--categoryName=<name>) [--glossaryGuid=<glossaryGuid>]\n",
                "createGlossaryCategories (--categoryName=<name>...) [--glossaryGuid=<glossaryGuid>]\n",
                "getGlossaryCategory (--categoryGuid=<categoryGuid>)\n",
                "deleteGlossaryCategory (--categoryGuid=<categoryGuid>)\n",
                "getGlossaryCategories (--glossaryGuid=<glossaryGuid>) [--limit=<limit> --offset=<offset> --sort=<sort>]\n",
                "getGlossaryCategoriesHeaders (--glossaryGuid=<glossaryGuid>) [--limit=<limit> --offset=<offset> --sort=<sort>]\n",
                "getGlossaryCategoryRelated (--categoryGuid=<categoryGuid>) [--limit=<limit> --offset=<offset> --sort=<sort>]\n",
                "getGlossaryCategoryTerms (--categoryGuid=<categoryGuid>) [--limit=<limit> --offset=<offset> --sort=<sort>]\n",
                "```\n",
                "\n",
                "**Terms**\n",
                "\n",
                "```\n",
                "createGlossaryTerm (--termName=<termName>) [--glossaryGuid=<glossaryGuid> --status=<status> --longDescription=<longDescription> --abbreviation=<abbreviation> --synonym=<synonym>... --related=<related>... --resourceName=<resourceName>... --resourceUrl=<resourceUrl>... --expertId=<expertId>... --stewardId=<stewardId>...]\n",
                "createGlossaryTerms (--termName=<termName>...) [--glossaryGuid=<glossaryGuid> --status=<status>... --longDescription=<longDescription>...]\n",
                "getGlossaryTerm (--termGuid=<termGuid>)\n",
                "updateGlossaryTerm (--termGuid=<termGuid>) [--termName=<termName> --glossaryGuid=<glossaryGuid> --status=<status> --longDescription=<longDescription> --abbreviation=<abbreviation> --synonym=<synonym>... --related=<related>... --resourceName=<resourceName>... --resourceUrl=<resourceUrl>... --expertId=<expertId>... --stewardId=<stewardId>...]\n",
                "deleteGlossaryTerm (--termGuid=<termGuid>)\n",
                "purgeGlossaryTerms [--glossaryGuid=<glossaryGuid>]\n",
                "getGlossaryTerms (--glossaryGuid=<glossaryGuid>) [--limit=<limit> --offset=<offset> --sort=<sort>]\n",
                "getGlossaryTermsHeaders (--glossaryGuid=<glossaryGuid>) [--limit=<limit> --offset=<offset> --sort=<sort>]\n",
                "getGlossaryTermsRelated (--termGuid=<termGuid>) [--limit=<limit> --offset=<offset> --sort=<sort>]\n",
                "```\n",
                "\n",
                "**Assigned Entities**\n",
                "\n",
                "```\n",
                "assignEntities (--termGuid=<termGuid> --guid=<guid>...)\n",
                "getAssignedEntities (--termGuid=<termGuid>) [--limit=<limit> --offset=<offset> --sort=<sort>]\n",
                "deleteAssignedEntities (--termGuid=<termGuid> --guid=<guid>...)\n",
                "```\n",
                "\n",
                "**Template**\n",
                "\n",
                "```\n",
                "getGlossaryTemplate\n",
                "```"
            ],
            "metadata": {
                "azdata_cell_guid": "4162ef85-7b13-409d-bd0d-5a6be10c21b4"
            }
        },
        {
            "cell_type": "markdown",
            "source": [
                "### **Pre-requisite**\n",
                "\n",
                "You will need to install the purviewcli package.\n",
                "\n",
                "```\n",
                "pip install purviewcli\n",
                "```\n",
                "\n",
                "### **1\\. Set the Environment Variable**\n",
                "\n",
                "Before purviewcli can be used, the environment variable `PURVIEW_NAME` needs to be set."
            ],
            "metadata": {
                "azdata_cell_guid": "4b75ebf5-c466-402e-a4e5-3edbaeab9a66"
            }
        },
        {
            "cell_type": "code",
            "source": [
                " $env:PURVIEW_NAME = \"purview-sandbox\"\n",
                " Write-Host \"Environment Variable PURVIEW_NAME set to $env:PURVIEW_NAME.\""
            ],
            "metadata": {
                "azdata_cell_guid": "61a31be3-75b6-46cf-978a-16c9d7c6a80f",
                "tags": [
                    "hide_input"
                ]
            },
            "outputs": [],
            "execution_count": null
        },
        {
            "cell_type": "markdown",
            "source": [
                "### **2\\. Get Glossary**\n",
                "\n",
                "Retrieve all glossaries registered with Azure Purview."
            ],
            "metadata": {
                "azdata_cell_guid": "52a71580-ccd6-4cd3-9a63-9df0baf36259"
            }
        },
        {
            "cell_type": "code",
            "source": [
                "$glossary = pv getGlossary | ConvertFrom-Json\n",
                "$glossary"
            ],
            "metadata": {
                "azdata_cell_guid": "bbe9e9db-ec8b-42a7-9dfd-b79a0c62533e"
            },
            "outputs": [],
            "execution_count": null
        },
        {
            "cell_type": "markdown",
            "source": [
                "### **3\\. Create Glossary Term**\n",
                "\n",
                "Create a glossary term."
            ],
            "metadata": {
                "azdata_cell_guid": "9fca7a7f-1a25-471e-b3ba-81f65361e778"
            }
        },
        {
            "cell_type": "code",
            "source": [
                "$term = pv createGlossaryTerm --termName 'My First Term' --glossaryGuid ($glossary[0].guid) --status 'Draft' --longDescription 'This is a term definition.' | ConvertFrom-Json\n",
                "$term"
            ],
            "metadata": {
                "azdata_cell_guid": "3c3ff181-0e1a-435c-8f73-699bee7b9c37"
            },
            "outputs": [],
            "execution_count": null
        },
        {
            "cell_type": "markdown",
            "source": [
                "### **4\\. Get Glossary Term**\n",
                "\n",
                "Get specific glossary term."
            ],
            "metadata": {
                "azdata_cell_guid": "b18cb00d-a86b-4db6-b246-f5950f9ef9a4"
            }
        },
        {
            "cell_type": "code",
            "source": [
                "pv getGlossaryTerm --termGuid ($term.guid)"
            ],
            "metadata": {
                "azdata_cell_guid": "e8f9e0da-7dff-40b1-9214-8e3c7bb15326"
            },
            "outputs": [],
            "execution_count": null
        },
        {
            "cell_type": "markdown",
            "source": [
                "### **5\\. Update Glossary Term**\n",
                "\n",
                "Update the given glossary term."
            ],
            "metadata": {
                "azdata_cell_guid": "715ceb4a-301e-4e30-9f2a-13598552c75a"
            }
        },
        {
            "cell_type": "code",
            "source": [
                "pv updateGlossaryTerm --termGuid ($term.guid) --status 'Approved'"
            ],
            "metadata": {
                "azdata_cell_guid": "c0f59f14-8359-4add-9720-e439d86aa6ca"
            },
            "outputs": [],
            "execution_count": null
        },
        {
            "cell_type": "markdown",
            "source": [
                "### **6\\. Delete Glossary Term**\n",
                "\n",
                "Delete a glossary term."
            ],
            "metadata": {
                "azdata_cell_guid": "d1d09c78-6832-4fe4-a594-23c4f9f172ca"
            }
        },
        {
            "cell_type": "code",
            "source": [
                "pv deleteGlossaryTerm --termGuid ($term.guid)"
            ],
            "metadata": {
                "azdata_cell_guid": "a94a3a10-a6fc-4a3d-9a82-4d57a0595ddc"
            },
            "outputs": [],
            "execution_count": null
        },
        {
            "cell_type": "markdown",
            "source": [
                "### **7\\. Create Glossary Terms (Bulk)**\n",
                "\n",
                "Create glossary terms in bulk."
            ],
            "metadata": {
                "azdata_cell_guid": "993492dd-db23-4edd-bfda-80c9b4cd06f2"
            }
        },
        {
            "cell_type": "code",
            "source": [
                "pv createGlossaryTerms `\n",
                "--termName 'Term1' --status 'Draft' --longDescription 'Long description for Term1.' `\n",
                "--termName 'Term2' --status 'Approved' --longDescription 'Long description for Term2.' `\n",
                "--termName 'Term3' --status 'Expired' --longDescription 'Long description for Term3.' `\n",
                "--termName 'Term4' --status 'Alert' --longDescription 'Long description for Term4.'"
            ],
            "metadata": {
                "azdata_cell_guid": "7f52b07f-d1e7-471e-b0bd-13c9c6781f24"
            },
            "outputs": [],
            "execution_count": null
        },
        {
            "cell_type": "markdown",
            "source": [
                "### **8\\. Purge Glossary Terms (Bulk Deletion)**\n",
                "\n",
                "**<u><mark>WARNING:</mark></u>** This command will delete ALL terms from the glossary and remove ALL term assignments."
            ],
            "metadata": {
                "azdata_cell_guid": "b86b91d5-aac1-4aae-ab32-bab09115bbf4"
            }
        },
        {
            "cell_type": "code",
            "source": [
                "# IMPORTANT: Uncommenting and running the command below will purge the glossary of ALL terms.\n",
                "# pv purgeGlossaryTerms"
            ],
            "metadata": {
                "azdata_cell_guid": "f4eb2ed9-6d13-4ed3-a462-acb9ae637d0c"
            },
            "outputs": [],
            "execution_count": null
        },
        {
            "cell_type": "markdown",
            "source": [
                "### **9\\. Create Glossary Terms (Bulk via CSV)**\n",
                "\n",
                "Create glossary terms in bulk via a CSV file."
            ],
            "metadata": {
                "azdata_cell_guid": "a7fc4889-e563-43df-b0c4-66b896a9355f"
            }
        },
        {
            "cell_type": "code",
            "source": [
                "# Initialise Variables\n",
                "$filepath = '/Users/taygan/Downloads/AdventureWorks/DataDictionary.csv'\n",
                "$counter = 0\n",
                "$batch_size = 100\n",
                "$command = 'pv createGlossaryTerms'\n",
                "$csv = Import-CSV $filepath\n",
                "\n",
                "# Loop through rows in csv\n",
                "$csv | Foreach-Object{\n",
                "   $counter += 1\n",
                "   $command += \" --termName \"\"$($_.table): $($_.column)\"\" --status \"\"Approved\"\" --longDescription \"\"$($_.description)\"\"\"\n",
                "   if ($counter % $batch_size -eq 0) {\n",
                "      Write-Host \"[INFO] Uploading $($counter) of $($csv.length)\"\n",
                "      $results = Invoke-Expression $command\n",
                "      $command = 'pv createGlossaryTerms'\n",
                "   }\n",
                "}\n",
                "Write-Host \"[INFO] Uploading $($counter) of $($csv.length)\"\n",
                "$results = Invoke-Expression $command\n",
                "Write-Host \"[INFO] Bulk upload complete.\""
            ],
            "metadata": {
                "azdata_cell_guid": "bb1ce492-1274-4b6e-afb0-6aa4136ca4b2"
            },
            "outputs": [],
            "execution_count": null
        }
    ]
}