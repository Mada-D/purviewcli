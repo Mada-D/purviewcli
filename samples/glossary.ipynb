{
 "metadata": {
  "language_info": {
   "codemirror_mode": {
    "name": "ipython",
    "version": 3
   },
   "file_extension": ".py",
   "mimetype": "text/x-python",
   "name": "python",
   "nbconvert_exporter": "python",
   "pygments_lexer": "ipython3",
   "version": "3.7.6-final"
  },
  "orig_nbformat": 2,
  "kernelspec": {
   "name": "python3",
   "display_name": "Python 3.7.6 64-bit ('env')",
   "metadata": {
    "interpreter": {
     "hash": "06a38955b8ad85bbf3b14ddaf9620713de55cfb2da467adc159ddbd05253a687"
    }
   }
  }
 },
 "nbformat": 4,
 "nbformat_minor": 2,
 "cells": [
  {
   "source": [
    "# Glossary"
   ],
   "cell_type": "markdown",
   "metadata": {}
  },
  {
   "cell_type": "code",
   "execution_count": null,
   "metadata": {},
   "outputs": [],
   "source": [
    "# Set Environment Variable\n",
    "%env PURVIEW_NAME=purview-sandbox"
   ]
  },
  {
   "source": [
    "# Commands available\n",
    "!pv glossary --help"
   ],
   "cell_type": "code",
   "metadata": {
    "tags": []
   },
   "execution_count": null,
   "outputs": []
  },
  {
   "source": [
    "## Glossary"
   ],
   "cell_type": "markdown",
   "metadata": {}
  },
  {
   "cell_type": "code",
   "execution_count": null,
   "metadata": {},
   "outputs": [],
   "source": [
    "# Create a Glossary\n",
    "import json\n",
    "cli_output = !pv glossary create --glossaryName='My First Glossary'\n",
    "glossary = json.loads(''.join(cli_output))\n",
    "glossary"
   ]
  },
  {
   "cell_type": "code",
   "execution_count": null,
   "metadata": {},
   "outputs": [],
   "source": [
    "# Read a Glossary\n",
    "!pv glossary read --glossaryGuid={glossary['guid']}"
   ]
  },
  {
   "cell_type": "code",
   "execution_count": null,
   "metadata": {},
   "outputs": [],
   "source": [
    "# Delete a Glossary\n",
    "!pv glossary delete --glossaryGuid={glossary['guid']}"
   ]
  },
  {
   "cell_type": "code",
   "execution_count": null,
   "metadata": {
    "tags": [
     "outputPrepend"
    ]
   },
   "outputs": [],
   "source": [
    "# Detailed Glossary\n",
    "cli_output = !pv glossary read\n",
    "glossary = json.loads(''.join(cli_output))\n",
    "default_glossary = glossary[0]\n",
    "!pv glossary readDetailed --glossaryGuid={default_glossary['guid']}"
   ]
  },
  {
   "source": [
    "## Terms"
   ],
   "cell_type": "markdown",
   "metadata": {}
  },
  {
   "cell_type": "code",
   "execution_count": null,
   "metadata": {},
   "outputs": [],
   "source": [
    "# Purge Glossary Terms\n",
    "# terms = !pv glossary readTerms --glossaryGuid {default_glossary['guid']} \n",
    "# terms = json.loads(''.join(terms))\n",
    "\n",
    "# for term in terms:\n",
    "#     termGuid = term['guid']\n",
    "#     if 'assignedEntities' in term:\n",
    "#         for entity in term['assignedEntities']:\n",
    "#             guid = entity['guid']\n",
    "#             relationshipGuid = entity['relationshipGuid']\n",
    "#             !pv glossary deleteAssignedEntities --termGuid {termGuid} --guid {guid} --relationshipGuid {relationshipGuid}\n",
    "#     !pv glossary deleteTerm --termGuid {termGuid}"
   ]
  },
  {
   "cell_type": "code",
   "execution_count": null,
   "metadata": {},
   "outputs": [],
   "source": [
    "# Create a Term\n",
    "term = !pv glossary createTerm --glossaryGuid {default_glossary['guid']} --termName='My Term'\n",
    "term = json.loads(''.join(term))\n",
    "term"
   ]
  },
  {
   "cell_type": "code",
   "execution_count": null,
   "metadata": {},
   "outputs": [],
   "source": [
    "# Read a Term\n",
    "!pv glossary readTerm --termGuid={term['guid']}"
   ]
  },
  {
   "cell_type": "code",
   "execution_count": null,
   "metadata": {},
   "outputs": [],
   "source": [
    "# Update a Term\n",
    "# Need to fix\n",
    "!pv glossary updateTerm --termGuid={term['guid']} --termName='New Name'"
   ]
  },
  {
   "cell_type": "code",
   "execution_count": null,
   "metadata": {},
   "outputs": [],
   "source": [
    "# Delete a Term\n",
    "!pv glossary deleteTerm --termGuid={term['guid']}"
   ]
  },
  {
   "cell_type": "code",
   "execution_count": null,
   "metadata": {},
   "outputs": [],
   "source": [
    "# Create Terms (bulk)\n",
    "!pv glossary createTerms --glossaryGuid {default_glossary['guid']} --termName='Term1' --termName='Term2' --termName='Term3'"
   ]
  },
  {
   "cell_type": "code",
   "execution_count": null,
   "metadata": {},
   "outputs": [],
   "source": [
    "# Read Terms (bulk)\n",
    "!pv glossary readTerms --glossaryGuid {default_glossary['guid']} "
   ]
  },
  {
   "cell_type": "code",
   "execution_count": null,
   "metadata": {},
   "outputs": [],
   "source": [
    "# Read Terms Headers (bulk)\n",
    "!pv glossary readTermsHeaders --glossaryGuid {default_glossary['guid']}"
   ]
  },
  {
   "cell_type": "code",
   "execution_count": null,
   "metadata": {},
   "outputs": [],
   "source": [
    "# Create Term Assignment\n",
    "terms = !pv glossary readTerms --glossaryGuid {default_glossary['guid']} \n",
    "terms = json.loads(''.join(terms))\n",
    "term = terms[0]\n",
    "termGuid = term['guid']\n",
    "guid = '85bc9357-f227-4ad9-9379-b0173766f241'\n",
    "!pv glossary createAssignedEntities --termGuid={termGuid} --guid={guid}"
   ]
  },
  {
   "cell_type": "code",
   "execution_count": null,
   "metadata": {},
   "outputs": [],
   "source": [
    "# Read Term Assignments\n",
    "assignments = !pv glossary readAssignedEntities --termGuid={termGuid}\n",
    "assignments = json.loads(''.join(assignments))\n",
    "assignments"
   ]
  },
  {
   "cell_type": "code",
   "execution_count": null,
   "metadata": {},
   "outputs": [],
   "source": [
    "# Delete Term Assignment\n",
    "guid = assignments[0]['guid']\n",
    "relationshipGuid = assignments[0]['relationshipGuid']\n",
    "!pv glossary deleteAssignedEntities --termGuid={termGuid} --guid={guid} --relationshipGuid={relationshipGuid}    "
   ]
  },
  {
   "cell_type": "code",
   "execution_count": null,
   "metadata": {},
   "outputs": [],
   "source": [
    "# Read Related Terms \n",
    "# (seeAlso = Related Terms; synonyms = Synonyms)\n",
    "!pv glossary readTermsRelated --termGuid={termGuid}"
   ]
  },
  {
   "source": [
    "## Category"
   ],
   "cell_type": "markdown",
   "metadata": {}
  },
  {
   "cell_type": "code",
   "execution_count": null,
   "metadata": {},
   "outputs": [],
   "source": [
    "# Create a Category\n",
    "category = !pv glossary createCategory --glossaryGuid {default_glossary['guid']}  --categoryName='Category Name'\n",
    "category = json.loads(''.join(category))\n",
    "category"
   ]
  },
  {
   "cell_type": "code",
   "execution_count": null,
   "metadata": {},
   "outputs": [],
   "source": [
    "# Read a Category\n",
    "!pv glossary readCategory --categoryGuid={category['guid']}"
   ]
  },
  {
   "cell_type": "code",
   "execution_count": null,
   "metadata": {},
   "outputs": [],
   "source": [
    "# Delete a Category\n",
    "!pv glossary deleteCategory --categoryGuid={category['guid']}"
   ]
  },
  {
   "cell_type": "code",
   "execution_count": null,
   "metadata": {},
   "outputs": [],
   "source": [
    "# Read Related Categories\n",
    "!pv glossary readCategoryRelated --categoryGuid={category['guid']}"
   ]
  },
  {
   "cell_type": "code",
   "execution_count": null,
   "metadata": {},
   "outputs": [],
   "source": [
    "# Read Category Terms\n",
    "!pv glossary readCategoryTerms --categoryGuid={category['guid']}"
   ]
  },
  {
   "cell_type": "code",
   "execution_count": null,
   "metadata": {},
   "outputs": [],
   "source": [
    "# Read Categories (bulk)\n",
    "!pv glossary readCategories --glossaryGuid={default_glossary['guid']}"
   ]
  },
  {
   "cell_type": "code",
   "execution_count": null,
   "metadata": {},
   "outputs": [],
   "source": [
    "# Read Categories Headers (bulk)\n",
    "!pv glossary readCategoriesHeaders --glossaryGuid={default_glossary['guid']}"
   ]
  },
  {
   "cell_type": "code",
   "execution_count": null,
   "metadata": {},
   "outputs": [],
   "source": [
    "# Create Categories (bulk)\n",
    "!pv glossary createCategories --glossaryGuid={default_glossary['guid']} --categoryName='Category1' --categoryName='Category2' --categoryName='Category3'"
   ]
  },
  {
   "cell_type": "code",
   "execution_count": null,
   "metadata": {},
   "outputs": [],
   "source": [
    "#  Purge Categories\n",
    "categories = !pv glossary readCategoriesHeaders --glossaryGuid={default_glossary['guid']}\n",
    "categories = json.loads(''.join(categories))\n",
    "categories\n",
    "for category in categories:\n",
    "    !pv glossary deleteCategory --categoryGuid={category['categoryGuid']}"
   ]
  },
  {
   "cell_type": "code",
   "execution_count": null,
   "metadata": {},
   "outputs": [],
   "source": [
    "!pv glossary readTemplate"
   ]
  },
  {
   "cell_type": "code",
   "execution_count": null,
   "metadata": {},
   "outputs": [],
   "source": []
  }
 ]
}