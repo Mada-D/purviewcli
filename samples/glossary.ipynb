{
    "metadata": {
        "kernelspec": {
            "name": "python3",
            "display_name": "Python 3",
            "language": "python"
        },
        "language_info": {
            "name": "python",
            "version": "3.6.6",
            "mimetype": "text/x-python",
            "codemirror_mode": {
                "name": "ipython",
                "version": 3
            },
            "pygments_lexer": "ipython3",
            "nbconvert_exporter": "python",
            "file_extension": ".py"
        }
    },
    "nbformat_minor": 2,
    "nbformat": 4,
    "cells": [
        {
            "cell_type": "markdown",
            "source": [
                "# Glossary\n",
                "\n",
                "### **Pre-requisite**\n",
                "\n",
                "Install required Python packages."
            ],
            "metadata": {
                "azdata_cell_guid": "42fb003c-adf1-4eed-a34a-ebf8d53dc75e"
            }
        },
        {
            "cell_type": "code",
            "source": [
                "%pip install --upgrade purviewcli"
            ],
            "metadata": {
                "azdata_cell_guid": "fa059e9f-27cd-4b93-b8cc-4f68bff46116"
            },
            "outputs": [],
            "execution_count": null
        },
        {
            "cell_type": "markdown",
            "source": [
                "**Set the Environment Variable**\n",
                "\n",
                "Before purviewcli can be used, the environment variable `PURVIEW_NAME` needs to be set."
            ],
            "metadata": {
                "azdata_cell_guid": "f2c9d29c-d3b2-48aa-9c37-f85b2adb8d58"
            }
        },
        {
            "cell_type": "code",
            "source": [
                "%env PURVIEW_NAME=purview-sandbox"
            ],
            "metadata": {
                "azdata_cell_guid": "c5ec8581-3c04-4b60-b3e9-3b41571832fc"
            },
            "outputs": [],
            "execution_count": null
        },
        {
            "cell_type": "markdown",
            "source": [
                "## Glossaries"
            ],
            "metadata": {
                "azdata_cell_guid": "6a26177f-8fd1-4d0d-924a-6249fcc11497"
            }
        },
        {
            "cell_type": "code",
            "source": [
                "# Create a Glossary\n",
                "!pv glossary create --glossaryName 'MyGlossary'"
            ],
            "metadata": {
                "azdata_cell_guid": "f8bc2889-9cee-4f53-85be-c794be969614"
            },
            "outputs": [],
            "execution_count": null
        },
        {
            "cell_type": "code",
            "source": [
                "# Get all Glossaries\n",
                "!pv glossary read"
            ],
            "metadata": {
                "azdata_cell_guid": "b07694bb-6b65-4b3e-b3bd-76c42f8e1b80"
            },
            "outputs": [],
            "execution_count": null
        },
        {
            "cell_type": "code",
            "source": [
                "# Get a specific Glossary\n",
                "glossaryGuid = 'e8ba4f71-0fc6-4f0b-8641-664a86f309d4'\n",
                "!pv glossary read --glossaryGuid {glossaryGuid}"
            ],
            "metadata": {
                "azdata_cell_guid": "6e0140b0-1c60-4507-a2ae-f47770fd5005"
            },
            "outputs": [],
            "execution_count": null
        },
        {
            "cell_type": "code",
            "source": [
                "# Update a Glossary\n",
                "glossaryGuid = 'e8ba4f71-0fc6-4f0b-8641-664a86f309d4'\n",
                "!pv glossary update --glossaryGuid {glossaryGuid} --language 'Australian'"
            ],
            "metadata": {
                "azdata_cell_guid": "49c0d29a-e492-4e9f-98d8-8f9405a2c155"
            },
            "outputs": [],
            "execution_count": null
        },
        {
            "cell_type": "code",
            "source": [
                "# Delete a Glossary\n",
                "glossaryGuid = 'e8ba4f71-0fc6-4f0b-8641-664a86f309d4'\n",
                "!pv glossary delete --glossaryGuid {glossaryGuid}"
            ],
            "metadata": {
                "azdata_cell_guid": "4835c2bc-d443-4d01-9e97-5852ed0bd4de"
            },
            "outputs": [],
            "execution_count": null
        }
    ]
}