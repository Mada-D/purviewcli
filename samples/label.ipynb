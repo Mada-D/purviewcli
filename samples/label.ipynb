{
    "metadata": {
        "kernelspec": {
            "name": "python3",
            "display_name": "Python 3",
            "language": "python"
        },
        "language_info": {
            "name": "python",
            "version": "3.6.6",
            "mimetype": "text/x-python",
            "codemirror_mode": {
                "name": "ipython",
                "version": 3
            },
            "pygments_lexer": "ipython3",
            "nbconvert_exporter": "python",
            "file_extension": ".py"
        }
    },
    "nbformat_minor": 2,
    "nbformat": 4,
    "cells": [
        {
            "cell_type": "code",
            "source": [
                "%env PURVIEW_NAME=purview-sandbox"
            ],
            "metadata": {
                "azdata_cell_guid": "37aaee53-522a-49db-9664-3c3d1c971f02"
            },
            "outputs": [
                {
                    "name": "stdout",
                    "text": "env: PURVIEW_NAME=purview-sandbox\n",
                    "output_type": "stream"
                }
            ],
            "execution_count": 1
        },
        {
            "cell_type": "code",
            "source": [
                "!pv assignLabels --guid=\"adfe5429-5178-4961-8380-bbbd370dca31\" --label=\"MyLabel\""
            ],
            "metadata": {
                "azdata_cell_guid": "38b37631-bfd9-44a9-b152-f0397e96b71d"
            },
            "outputs": [
                {
                    "name": "stdout",
                    "text": "{\r\n    \"errorCode\": \"RequestUriNotFound\",\r\n    \"errorMessage\": \"null for uri: https://management-babylon-brazilsouth.catalog.clouddatahub.net/api/atlas/v2/entity/guid/adfe5429-5178-4961-8380-bbbd370dca31/labels\",\r\n    \"requestId\": \"0da9d31e-472e-48b9-ad94-7ef1b2469445\"\r\n}\r\n",
                    "output_type": "stream"
                }
            ],
            "execution_count": 2
        }
    ]
}