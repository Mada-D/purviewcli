{
    "metadata": {
        "kernelspec": {
            "name": "python3",
            "display_name": "Python 3",
            "language": "python"
        },
        "language_info": {
            "name": "python",
            "version": "3.6.6",
            "mimetype": "text/x-python",
            "codemirror_mode": {
                "name": "ipython",
                "version": 3
            },
            "pygments_lexer": "ipython3",
            "nbconvert_exporter": "python",
            "file_extension": ".py"
        }
    },
    "nbformat_minor": 2,
    "nbformat": 4,
    "cells": [
        {
            "cell_type": "markdown",
            "source": [
                "# Lineage\n",
                "\n",
                "### **Pre-requisite**\n",
                "\n",
                "Install required Python packages."
            ],
            "metadata": {
                "azdata_cell_guid": "42fb003c-adf1-4eed-a34a-ebf8d53dc75e"
            }
        },
        {
            "cell_type": "code",
            "source": [
                "%pip install --upgrade purviewcli"
            ],
            "metadata": {
                "azdata_cell_guid": "fa059e9f-27cd-4b93-b8cc-4f68bff46116"
            },
            "outputs": [],
            "execution_count": null
        },
        {
            "cell_type": "markdown",
            "source": [
                "**Set the Environment Variable**\n",
                "\n",
                "Before purviewcli can be used, the environment variable `PURVIEW_NAME` needs to be set."
            ],
            "metadata": {
                "azdata_cell_guid": "f2c9d29c-d3b2-48aa-9c37-f85b2adb8d58"
            }
        },
        {
            "cell_type": "code",
            "source": [
                "%env PURVIEW_NAME=purview-sandbox"
            ],
            "metadata": {
                "azdata_cell_guid": "c5ec8581-3c04-4b60-b3e9-3b41571832fc"
            },
            "outputs": [],
            "execution_count": null
        },
        {
            "cell_type": "markdown",
            "source": [
                "## Examples"
            ],
            "metadata": {
                "azdata_cell_guid": "1a32fc06-a5b3-4cd5-9bd8-b6169c224903"
            }
        },
        {
            "cell_type": "code",
            "source": [
                "# Get Lineage from an Entity\n",
                "guid = '2ab5525b-115a-4d82-93ea-63c33778020e'\n",
                "!pv lineage read --guid {guid}"
            ],
            "metadata": {
                "azdata_cell_guid": "177999a5-fc37-420e-bf15-4787fd582bfd"
            },
            "outputs": [],
            "execution_count": null
        }
    ]
}