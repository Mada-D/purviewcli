{
 "metadata": {
  "language_info": {
   "codemirror_mode": {
    "name": "ipython",
    "version": 3
   },
   "file_extension": ".py",
   "mimetype": "text/x-python",
   "name": "python",
   "nbconvert_exporter": "python",
   "pygments_lexer": "ipython3",
   "version": "3.9.2"
  },
  "orig_nbformat": 2,
  "kernelspec": {
   "name": "pythonjvsc74a57bd012e36838d520b1a5d9d0c411170e079c62a783e05fdada350eba99892041e52f",
   "display_name": "Python 3.9.2 64-bit ('env': venv)"
  },
  "metadata": {
   "interpreter": {
    "hash": "12e36838d520b1a5d9d0c411170e079c62a783e05fdada350eba99892041e52f"
   }
  }
 },
 "nbformat": 4,
 "nbformat_minor": 2,
 "cells": [
  {
   "source": [
    "# Entity"
   ],
   "cell_type": "markdown",
   "metadata": {}
  },
  {
   "cell_type": "code",
   "execution_count": null,
   "metadata": {},
   "outputs": [],
   "source": [
    "# Install/Upgrade purviewcli package\n",
    "%pip install --upgrade purviewcli"
   ]
  },
  {
   "cell_type": "code",
   "execution_count": null,
   "metadata": {},
   "outputs": [],
   "source": [
    "# Environment Variables\n",
    "%env PURVIEW_NAME=YOUR_PURVIEW_ACCOUNT\n",
    "%env AZURE_CLIENT_ID=YOUR_CLIENT_ID\n",
    "%env AZURE_TENANT_ID=YOUR_TENANT_ID\n",
    "%env AZURE_CLIENT_SECRET=YOUR_CLIENT_SECRET"
   ]
  },
  {
   "cell_type": "code",
   "execution_count": null,
   "metadata": {},
   "outputs": [],
   "source": [
    "# Commands\n",
    "!pv entity --help"
   ]
  },
  {
   "source": [
    "## Create"
   ],
   "cell_type": "markdown",
   "metadata": {}
  },
  {
   "cell_type": "code",
   "execution_count": null,
   "metadata": {},
   "outputs": [],
   "source": [
    "!pv entity create --payloadFile \"C:\\Users\\tarifat\\Downloads\\purviewcli\\samples\\json\\entity\\entity.json\""
   ]
  },
  {
   "source": [
    "## Read"
   ],
   "cell_type": "markdown",
   "metadata": {}
  },
  {
   "cell_type": "code",
   "execution_count": null,
   "metadata": {},
   "outputs": [],
   "source": [
    "!pv entity read --guid \"2c23152d-467f-4a96-b8a5-17f6f6f60000\""
   ]
  },
  {
   "source": [
    "## Update"
   ],
   "cell_type": "markdown",
   "metadata": {}
  },
  {
   "cell_type": "code",
   "execution_count": null,
   "metadata": {},
   "outputs": [],
   "source": [
    "!pv entity put --guid \"2c23152d-467f-4a96-b8a5-17f6f6f60000\" --name \"description\" --payloadFile \"C:\\Users\\tarifat\\Downloads\\purviewcli\\samples\\json\\entity\\entity.json\""
   ]
  },
  {
   "source": [
    "## Delete"
   ],
   "cell_type": "markdown",
   "metadata": {}
  },
  {
   "cell_type": "code",
   "execution_count": null,
   "metadata": {},
   "outputs": [],
   "source": [
    "!pv entity delete --guid \"2c23152d-467f-4a96-b8a5-17f6f6f60000\""
   ]
  },
  {
   "source": [
    "## Bulk Create"
   ],
   "cell_type": "markdown",
   "metadata": {}
  },
  {
   "cell_type": "code",
   "execution_count": null,
   "metadata": {},
   "outputs": [],
   "source": [
    "!pv entity createBulk --payloadFile \"C:\\Users\\tarifat\\Downloads\\purviewcli\\samples\\json\\entity\\entities.json\""
   ]
  },
  {
   "source": [
    "## Bulk Read"
   ],
   "cell_type": "markdown",
   "metadata": {}
  },
  {
   "cell_type": "code",
   "execution_count": null,
   "metadata": {},
   "outputs": [],
   "source": [
    "!pv entity readBulk --guid \"36c47c6d-42c2-4b5a-85bb-f6f6f6f60000\" --guid \"c0b44828-334c-4c7b-bdca-1ef6f6f60000\" --guid \"df1da149-cbf8-434a-85fc-36f6f6f60000\""
   ]
  },
  {
   "source": [
    "## Bulk Delete"
   ],
   "cell_type": "markdown",
   "metadata": {}
  },
  {
   "cell_type": "code",
   "execution_count": null,
   "metadata": {},
   "outputs": [],
   "source": [
    "# Endpoint does not currently appear to be supported by Azure Purview.\r\n",
    "# !pv entity deleteBulk --guid \"36c47c6d-42c2-4b5a-85bb-f6f6f6f60000\" --guid \"c0b44828-334c-4c7b-bdca-1ef6f6f60000\" --guid \"df1da149-cbf8-434a-85fc-36f6f6f60000\""
   ]
  }
 ]
}