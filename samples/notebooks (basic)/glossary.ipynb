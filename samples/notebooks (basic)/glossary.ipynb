{
 "metadata": {
  "language_info": {
   "codemirror_mode": {
    "name": "ipython",
    "version": 3
   },
   "file_extension": ".py",
   "mimetype": "text/x-python",
   "name": "python",
   "nbconvert_exporter": "python",
   "pygments_lexer": "ipython3",
   "version": "3.9.2"
  },
  "orig_nbformat": 2,
  "kernelspec": {
   "name": "pythonjvsc74a57bd012e36838d520b1a5d9d0c411170e079c62a783e05fdada350eba99892041e52f",
   "display_name": "Python 3.9.2 64-bit ('env': venv)"
  },
  "metadata": {
   "interpreter": {
    "hash": "12e36838d520b1a5d9d0c411170e079c62a783e05fdada350eba99892041e52f"
   }
  }
 },
 "nbformat": 4,
 "nbformat_minor": 2,
 "cells": [
  {
   "source": [
    "# Glossary"
   ],
   "cell_type": "markdown",
   "metadata": {}
  },
  {
   "cell_type": "code",
   "execution_count": null,
   "metadata": {},
   "outputs": [],
   "source": [
    "# Install/Upgrade purviewcli package\n",
    "%pip install --upgrade purviewcli"
   ]
  },
  {
   "cell_type": "code",
   "execution_count": null,
   "metadata": {},
   "outputs": [],
   "source": [
    "# Environment Variables\n",
    "%env PURVIEW_NAME=YOUR_PURVIEW_ACCOUNT\n",
    "%env AZURE_CLIENT_ID=YOUR_CLIENT_ID\n",
    "%env AZURE_TENANT_ID=YOUR_TENANT_ID\n",
    "%env AZURE_CLIENT_SECRET=YOUR_CLIENT_SECRET"
   ]
  },
  {
   "cell_type": "code",
   "execution_count": null,
   "metadata": {},
   "outputs": [],
   "source": [
    "# Commands\n",
    "!pv glossary --help"
   ]
  },
  {
   "source": [
    "## Create"
   ],
   "cell_type": "markdown",
   "metadata": {}
  },
  {
   "cell_type": "code",
   "execution_count": null,
   "metadata": {},
   "outputs": [],
   "source": [
    "# Create\n",
    "!pv glossary create --payload-file \"C:\\Users\\tarifat\\Downloads\\purviewcli\\samples\\json\\glossary\\glossary.json\""
   ]
  },
  {
   "source": [
    "## Read"
   ],
   "cell_type": "markdown",
   "metadata": {}
  },
  {
   "cell_type": "code",
   "execution_count": null,
   "metadata": {},
   "outputs": [],
   "source": [
    "# Read\n",
    "!pv glossary read --glossaryGuid \"8c479fd1-b262-46ab-94a0-d2c24b268cef\""
   ]
  },
  {
   "source": [
    "## Update"
   ],
   "cell_type": "markdown",
   "metadata": {}
  },
  {
   "cell_type": "code",
   "execution_count": null,
   "metadata": {},
   "outputs": [],
   "source": [
    "# Update\n",
    "!pv glossary put --glossaryGuid \"8c479fd1-b262-46ab-94a0-d2c24b268cef\" --payload-file \"C:\\Users\\tarifat\\Downloads\\purviewcli\\samples\\json\\glossary\\glossary.json\""
   ]
  },
  {
   "source": [
    "## Delete"
   ],
   "cell_type": "markdown",
   "metadata": {}
  },
  {
   "cell_type": "code",
   "execution_count": null,
   "metadata": {},
   "outputs": [],
   "source": [
    "# Delete\n",
    "!pv glossary delete --glossaryGuid \"8c479fd1-b262-46ab-94a0-d2c24b268cef\""
   ]
  },
  {
   "cell_type": "code",
   "execution_count": null,
   "metadata": {},
   "outputs": [],
   "source": []
  }
 ]
}