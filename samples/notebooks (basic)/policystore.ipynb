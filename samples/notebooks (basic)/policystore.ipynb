{
 "cells": [
  {
   "cell_type": "markdown",
   "source": [
    "# Policystore"
   ],
   "metadata": {}
  },
  {
   "cell_type": "code",
   "execution_count": null,
   "source": [
    "# Install/Upgrade purviewcli package\r\n",
    "%pip install --upgrade purviewcli"
   ],
   "outputs": [],
   "metadata": {}
  },
  {
   "cell_type": "code",
   "execution_count": null,
   "source": [
    "# Environment Variables\r\n",
    "%env PURVIEW_NAME=pvdemod4z5v-pv\r\n",
    "# %env PURVIEW_NAME=YOUR_PURVIEW_ACCOUNT\r\n",
    "# %env AZURE_CLIENT_ID=YOUR_CLIENT_ID\r\n",
    "# %env AZURE_TENANT_ID=YOUR_TENANT_ID\r\n",
    "# %env AZURE_CLIENT_SECRET=YOUR_CLIENT_SECRET"
   ],
   "outputs": [],
   "metadata": {}
  },
  {
   "cell_type": "code",
   "execution_count": null,
   "source": [
    "# Commands\r\n",
    "!pv policystore --help"
   ],
   "outputs": [],
   "metadata": {}
  },
  {
   "cell_type": "markdown",
   "source": [
    "## Get Metadata Roles"
   ],
   "metadata": {}
  },
  {
   "cell_type": "code",
   "execution_count": null,
   "source": [
    "# Lists roles for Azure Purview account\r\n",
    "!pv policystore readMetadataRoles"
   ],
   "outputs": [],
   "metadata": {}
  },
  {
   "cell_type": "markdown",
   "source": [
    "## Get Metadata Policy"
   ],
   "metadata": {}
  },
  {
   "cell_type": "code",
   "execution_count": null,
   "source": [
    "# Get a metadata policy by collection name\r\n",
    "!pv policystore readMetadataPolicy --collectionName \"afwbxs\""
   ],
   "outputs": [],
   "metadata": {}
  },
  {
   "cell_type": "code",
   "execution_count": null,
   "source": [
    "# Get a metadata policy by policy id\r\n",
    "!pv policystore readMetadataPolicy --policyId \"d5281344-20e0-404a-bce8-def420380cbf\""
   ],
   "outputs": [],
   "metadata": {}
  },
  {
   "cell_type": "markdown",
   "source": [
    "## Get Metadata Policies"
   ],
   "metadata": {}
  },
  {
   "cell_type": "code",
   "execution_count": null,
   "source": [
    "# List metadata policies\r\n",
    "!pv policystore readMetadataPolicies"
   ],
   "outputs": [],
   "metadata": {}
  },
  {
   "cell_type": "markdown",
   "source": [
    "## Updata Metadata Policies"
   ],
   "metadata": {}
  },
  {
   "cell_type": "code",
   "execution_count": null,
   "source": [
    "# Updates a metadata policy\r\n",
    "!pv policystore putMetadataPolicy --policyId \"d5281344-20e0-404a-bce8-def420380cbf\" --payload-file \"C:\\Users\\tarifat\\Downloads\\purviewcli\\samples\\json\\policystore\\policy.json\""
   ],
   "outputs": [],
   "metadata": {}
  }
 ],
 "metadata": {
  "interpreter": {
   "hash": "12e36838d520b1a5d9d0c411170e079c62a783e05fdada350eba99892041e52f"
  },
  "kernelspec": {
   "name": "python3",
   "display_name": "Python 3.9.2 64-bit ('env': venv)"
  },
  "language_info": {
   "codemirror_mode": {
    "name": "ipython",
    "version": 3
   },
   "file_extension": ".py",
   "mimetype": "text/x-python",
   "name": "python",
   "nbconvert_exporter": "python",
   "pygments_lexer": "ipython3",
   "version": "3.9.2"
  },
  "metadata": {
   "interpreter": {
    "hash": "12e36838d520b1a5d9d0c411170e079c62a783e05fdada350eba99892041e52f"
   }
  },
  "orig_nbformat": 2
 },
 "nbformat": 4,
 "nbformat_minor": 2
}