{
    "cells": [
        {
            "cell_type": "markdown",
            "source": [
                "# Scanning Data Plane"
            ],
            "metadata": {
                "azdata_cell_guid": "42fb003c-adf1-4eed-a34a-ebf8d53dc75e"
            }
        },
        {
            "cell_type": "code",
            "execution_count": null,
            "source": [
                "# Install/Upgrade purviewcli package\n",
                "%pip install --upgrade purviewcli"
            ],
            "outputs": [],
            "metadata": {
                "azdata_cell_guid": "fa059e9f-27cd-4b93-b8cc-4f68bff46116"
            }
        },
        {
            "cell_type": "code",
            "execution_count": null,
            "source": [
                "# Environment Variables\n",
                "%env PURVIEW_NAME=YOUR_PURVIEW_ACCOUNT\n",
                "%env AZURE_CLIENT_ID=YOUR_CLIENT_ID\n",
                "%env AZURE_TENANT_ID=YOUR_TENANT_ID\n",
                "%env AZURE_CLIENT_SECRET=YOUR_CLIENT_SECRET"
            ],
            "outputs": [],
            "metadata": {
                "azdata_cell_guid": "c5ec8581-3c04-4b60-b3e9-3b41571832fc"
            }
        },
        {
            "cell_type": "code",
            "execution_count": null,
            "source": [
                "# Commands\n",
                "!pv scan --help"
            ],
            "outputs": [],
            "metadata": {
                "azdata_cell_guid": "8facf121-f510-48c4-bf99-433bb568432a"
            }
        },
        {
            "cell_type": "markdown",
            "source": [
                "## Classification Rules"
            ],
            "metadata": {}
        },
        {
            "cell_type": "code",
            "execution_count": null,
            "source": [
                "# Create or Update\n",
                "!pv scan putClassificationRule --classificationRuleName \"BANK_ACCOUNT_NUMBER\" --payload-file \"C:\\Users\\tarifat\\Downloads\\purviewcli\\samples\\json\\scan\\classification_rule.json\""
            ],
            "outputs": [],
            "metadata": {}
        },
        {
            "cell_type": "code",
            "execution_count": null,
            "source": [
                "# Delete\n",
                "!pv scan deleteClassificationRule --classificationRuleName \"BANK_ACCOUNT_NUMBER\""
            ],
            "outputs": [],
            "metadata": {}
        },
        {
            "cell_type": "code",
            "execution_count": null,
            "source": [
                "# Get\n",
                "!pv scan readClassificationRule --classificationRuleName \"BANK_ACCOUNT_NUMBER\""
            ],
            "outputs": [],
            "metadata": {}
        },
        {
            "cell_type": "code",
            "execution_count": null,
            "source": [
                "# List All\n",
                "!pv scan readClassificationRules"
            ],
            "outputs": [],
            "metadata": {}
        },
        {
            "cell_type": "code",
            "execution_count": null,
            "source": [
                "# List Versions By Classification Rule Name\n",
                "!pv scan readClassificationRuleVersions --classificationRuleName \"BANK_ACCOUNT_NUMBER\""
            ],
            "outputs": [],
            "metadata": {}
        },
        {
            "cell_type": "markdown",
            "source": [
                "## Data Sources"
            ],
            "metadata": {}
        },
        {
            "cell_type": "code",
            "execution_count": null,
            "source": [
                "# Create or Update\n",
                "!pv scan putDataSource --dataSourceName \"DataSource2\" --payload-file \"C:\\Users\\tarifat\\Downloads\\purviewcli\\samples\\json\\scan\\scan_source.json\""
            ],
            "outputs": [],
            "metadata": {}
        },
        {
            "cell_type": "code",
            "execution_count": null,
            "source": [
                "# Delete\n",
                "!pv scan deleteDataSource --dataSourceName \"DataSource2\""
            ],
            "outputs": [],
            "metadata": {}
        },
        {
            "cell_type": "code",
            "execution_count": null,
            "source": [
                "# Get\n",
                "!pv scan readDatasource --dataSourceName \"DataSource2\""
            ],
            "outputs": [],
            "metadata": {}
        },
        {
            "cell_type": "code",
            "execution_count": null,
            "source": [
                "# List All\n",
                "!pv scan readDatasources"
            ],
            "outputs": [],
            "metadata": {}
        },
        {
            "cell_type": "markdown",
            "source": [
                "## Filters"
            ],
            "metadata": {}
        },
        {
            "cell_type": "code",
            "execution_count": null,
            "source": [
                "# Create or Update\n",
                "!pv scan putFilter --dataSourceName \"AzureDataLakeStorage-kl2\" --scanName \"Scan-HcH\" --payload-file \"C:\\Users\\tarifat\\Downloads\\purviewcli\\samples\\json\\scan\\scan_filter.json\""
            ],
            "outputs": [],
            "metadata": {}
        },
        {
            "cell_type": "code",
            "execution_count": null,
            "source": [
                "# Get\n",
                "!pv scan readFilters --dataSourceName \"AzureDataLakeStorage-kl2\" --scanName \"Scan-HcH\""
            ],
            "outputs": [],
            "metadata": {}
        },
        {
            "cell_type": "markdown",
            "source": [
                "## Key Vault Connections"
            ],
            "metadata": {}
        },
        {
            "cell_type": "code",
            "execution_count": null,
            "source": [
                "# Create\n",
                "!pv scan putKeyVault --keyVaultName \"babylon\" --payload-file \"C:\\Users\\tarifat\\Downloads\\purviewcli\\samples\\json\\scan\\scan_keyvault.json\""
            ],
            "outputs": [],
            "metadata": {}
        },
        {
            "cell_type": "code",
            "execution_count": null,
            "source": [
                "# Delete\n",
                "!pv scan deleteKeyVault --keyVaultName \"babylon\""
            ],
            "outputs": [],
            "metadata": {}
        },
        {
            "cell_type": "code",
            "execution_count": null,
            "source": [
                "# Get\n",
                "!pv scan readKeyVault --keyVaultName \"babylon\""
            ],
            "outputs": [],
            "metadata": {}
        },
        {
            "cell_type": "code",
            "execution_count": null,
            "source": [
                "# List All\n",
                "!pv scan readKeyVaults"
            ],
            "outputs": [],
            "metadata": {}
        },
        {
            "cell_type": "markdown",
            "source": [
                "## Scan Result"
            ],
            "metadata": {}
        },
        {
            "cell_type": "code",
            "execution_count": null,
            "source": [
                "# List Scan History\n",
                "!pv scan readScanHistory --dataSourceName \"AzureDataLakeStorage-kl2\" --scanName \"Scan-HcH\""
            ],
            "outputs": [],
            "metadata": {}
        },
        {
            "cell_type": "code",
            "execution_count": null,
            "source": [
                "# Run Scan\n",
                "!pv scan runScan --dataSourceName \"AzureDataLakeStorage-kl2\" --scanName \"Scan-HcH\" --runId \"badcd5a1-6a84-4367-929e-33eb6777b1fa\""
            ],
            "outputs": [],
            "metadata": {}
        },
        {
            "cell_type": "markdown",
            "source": [
                "## Scan Rulesets"
            ],
            "metadata": {}
        },
        {
            "cell_type": "code",
            "execution_count": null,
            "source": [
                "# Create or Update\n",
                "!pv scan putScanRuleset --scanRulesetName \"myScanRuleset\" --payload-file \"C:\\Users\\tarifat\\Downloads\\purviewcli\\samples\\json\\scan\\scan_ruleset.json\""
            ],
            "outputs": [],
            "metadata": {}
        },
        {
            "cell_type": "code",
            "execution_count": null,
            "source": [
                "# Delete\n",
                "!pv scan deleteScanRuleset --scanRulesetName \"myScanRuleset\""
            ],
            "outputs": [],
            "metadata": {}
        },
        {
            "cell_type": "code",
            "execution_count": null,
            "source": [
                "# Get\n",
                "!pv scan readScanRuleset --scanRulesetName \"myScanRuleset\""
            ],
            "outputs": [],
            "metadata": {}
        },
        {
            "cell_type": "code",
            "execution_count": null,
            "source": [
                "# List All\n",
                "!pv scan readScanRulesets"
            ],
            "outputs": [],
            "metadata": {}
        },
        {
            "cell_type": "markdown",
            "source": [
                "## Scans"
            ],
            "metadata": {}
        },
        {
            "cell_type": "code",
            "execution_count": null,
            "source": [
                "# Create or Update\n",
                "!pv scan putScan --dataSourceName \"DataSource2\" --scanName \"myScan\" --payload-file \"C:\\Users\\tarifat\\Downloads\\purviewcli\\samples\\json\\scan\\scan.json\""
            ],
            "outputs": [],
            "metadata": {}
        },
        {
            "cell_type": "code",
            "execution_count": null,
            "source": [
                "# Delete\n",
                "!pv scan deleteScan --dataSourceName \"DataSource2\" --scanName \"myScan\""
            ],
            "outputs": [],
            "metadata": {}
        },
        {
            "cell_type": "code",
            "execution_count": null,
            "source": [
                "# Get\n",
                "!pv scan readScan --dataSourceName \"DataSource2\" --scanName \"myScan\""
            ],
            "outputs": [],
            "metadata": {}
        },
        {
            "cell_type": "code",
            "execution_count": null,
            "source": [
                "# List By Data Source\n",
                "!pv scan readScans --dataSourceName \"DataSource2\""
            ],
            "outputs": [],
            "metadata": {}
        },
        {
            "cell_type": "markdown",
            "source": [
                "## System Scan Rulesets"
            ],
            "metadata": {}
        },
        {
            "cell_type": "code",
            "execution_count": null,
            "source": [
                "# Get\n",
                "!pv scan readSystemScanRuleset --dataSourceType \"AdlsGen2\""
            ],
            "outputs": [],
            "metadata": {}
        },
        {
            "cell_type": "code",
            "execution_count": null,
            "source": [
                "# Get By Version\n",
                "!pv scan readSystemScanRulesetVersion --version \"2\" --dataSourceType \"AdlsGen2\""
            ],
            "outputs": [],
            "metadata": {}
        },
        {
            "cell_type": "code",
            "execution_count": null,
            "source": [
                "# Get Latest\n",
                "!pv scan readSystemScanRulesetLatest --dataSourceType \"AdlsGen2\""
            ],
            "outputs": [],
            "metadata": {}
        },
        {
            "cell_type": "code",
            "execution_count": null,
            "source": [
                "# List All\n",
                "!pv scan readSystemScanRulesets"
            ],
            "outputs": [],
            "metadata": {}
        },
        {
            "cell_type": "code",
            "execution_count": null,
            "source": [
                "# List Versions By Data Source\n",
                "!pv scan readSystemScanRulesetVersions --dataSourceType \"AdlsGen2\""
            ],
            "outputs": [],
            "metadata": {}
        },
        {
            "cell_type": "markdown",
            "source": [
                "## Triggers"
            ],
            "metadata": {}
        },
        {
            "cell_type": "code",
            "execution_count": null,
            "source": [
                "# Create\n",
                "!pv scan putTrigger --dataSourceName \"DataSource2\" --scanName \"myScan\" --payload-file \"C:\\Users\\tarifat\\Downloads\\purviewcli\\samples\\json\\scan\\scan_trigger.json\""
            ],
            "outputs": [],
            "metadata": {}
        },
        {
            "cell_type": "code",
            "execution_count": null,
            "source": [
                "# Delete\n",
                "!pv scan deleteTrigger --dataSourceName \"DataSource2\" --scanName \"myScan"
            ],
            "outputs": [],
            "metadata": {}
        },
        {
            "cell_type": "code",
            "execution_count": null,
            "source": [
                "# Get\n",
                "!pv scan readTrigger --dataSourceName \"DataSource2\" --scanName \"myScan"
            ],
            "outputs": [],
            "metadata": {}
        }
    ],
    "metadata": {
        "interpreter": {
            "hash": "12e36838d520b1a5d9d0c411170e079c62a783e05fdada350eba99892041e52f"
        },
        "kernelspec": {
            "display_name": "Python 3.9.2 64-bit ('env': venv)",
            "name": "python3"
        },
        "language_info": {
            "name": "python",
            "version": ""
        },
        "metadata": {
            "interpreter": {
                "hash": "12e36838d520b1a5d9d0c411170e079c62a783e05fdada350eba99892041e52f"
            }
        }
    },
    "nbformat": 4,
    "nbformat_minor": 2
}