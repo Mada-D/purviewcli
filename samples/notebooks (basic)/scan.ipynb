{
    "cells": [
        {
            "cell_type": "markdown",
            "metadata": {
                "azdata_cell_guid": "42fb003c-adf1-4eed-a34a-ebf8d53dc75e"
            },
            "source": [
                "# Scanning Data Plane"
            ]
        },
        {
            "cell_type": "code",
            "execution_count": null,
            "metadata": {
                "azdata_cell_guid": "fa059e9f-27cd-4b93-b8cc-4f68bff46116"
            },
            "outputs": [],
            "source": [
                "# Install/Upgrade purviewcli package\n",
                "%pip install --upgrade purviewcli"
            ]
        },
        {
            "cell_type": "code",
            "execution_count": null,
            "metadata": {
                "azdata_cell_guid": "c5ec8581-3c04-4b60-b3e9-3b41571832fc"
            },
            "outputs": [],
            "source": [
                "# Environment Variables\n",
                "%env PURVIEW_NAME=YOUR_PURVIEW_ACCOUNT\n",
                "%env AZURE_CLIENT_ID=YOUR_CLIENT_ID\n",
                "%env AZURE_TENANT_ID=YOUR_TENANT_ID\n",
                "%env AZURE_CLIENT_SECRET=YOUR_CLIENT_SECRET"
            ]
        },
        {
            "cell_type": "code",
            "execution_count": null,
            "metadata": {
                "azdata_cell_guid": "8facf121-f510-48c4-bf99-433bb568432a"
            },
            "outputs": [],
            "source": [
                "# Commands\n",
                "!pv scan --help"
            ]
        },
        {
            "cell_type": "markdown",
            "metadata": {},
            "source": [
                "## Classification Rules"
            ]
        },
        {
            "cell_type": "code",
            "execution_count": null,
            "metadata": {},
            "outputs": [],
            "source": [
                "# Create or Update\n",
                "!pv scan putClassificationRule --classificationRuleName \"BANK_ACCOUNT_NUMBER\" --payload-file \"C:\\Users\\tarifat\\Downloads\\purviewcli\\samples\\json\\scan\\classification_rule.json\""
            ]
        },
        {
            "cell_type": "code",
            "execution_count": null,
            "metadata": {},
            "outputs": [],
            "source": [
                "# Delete\n",
                "!pv scan deleteClassificationRule --classificationRuleName \"BANK_ACCOUNT_NUMBER\""
            ]
        },
        {
            "cell_type": "code",
            "execution_count": null,
            "metadata": {},
            "outputs": [],
            "source": [
                "# Get\n",
                "!pv scan readClassificationRule --classificationRuleName \"BANK_ACCOUNT_NUMBER\""
            ]
        },
        {
            "cell_type": "code",
            "execution_count": null,
            "metadata": {},
            "outputs": [],
            "source": [
                "# List All\n",
                "!pv scan readClassificationRules"
            ]
        },
        {
            "cell_type": "code",
            "execution_count": null,
            "metadata": {},
            "outputs": [],
            "source": [
                "# List Versions By Classification Rule Name\n",
                "!pv scan readClassificationRuleVersions --classificationRuleName \"BANK_ACCOUNT_NUMBER\""
            ]
        },
        {
            "cell_type": "markdown",
            "metadata": {},
            "source": [
                "## Data Sources"
            ]
        },
        {
            "cell_type": "code",
            "execution_count": null,
            "metadata": {},
            "outputs": [],
            "source": [
                "# Create or Update\n",
                "!pv scan putDataSource --dataSourceName \"DataSource2\" --payload-file \"C:\\Users\\tarifat\\Downloads\\purviewcli\\samples\\json\\scan\\scan_source.json\""
            ]
        },
        {
            "cell_type": "code",
            "execution_count": null,
            "metadata": {},
            "outputs": [],
            "source": [
                "# Delete\n",
                "!pv scan deleteDataSource --dataSourceName \"DataSource2\""
            ]
        },
        {
            "cell_type": "code",
            "execution_count": null,
            "metadata": {},
            "outputs": [],
            "source": [
                "# Get\n",
                "!pv scan readDatasource --dataSourceName \"DataSource2\""
            ]
        },
        {
            "cell_type": "code",
            "execution_count": null,
            "metadata": {},
            "outputs": [],
            "source": [
                "# List All\n",
                "!pv scan readDatasources"
            ]
        },
        {
            "cell_type": "markdown",
            "metadata": {},
            "source": [
                "## Filters"
            ]
        },
        {
            "cell_type": "code",
            "execution_count": null,
            "metadata": {},
            "outputs": [],
            "source": [
                "# Create or Update\n",
                "!pv scan putFilter --dataSourceName \"AzureDataLakeStorage-kl2\" --scanName \"Scan-HcH\" --payload-file \"C:\\Users\\tarifat\\Downloads\\purviewcli\\samples\\json\\scan\\scan_filter.json\""
            ]
        },
        {
            "cell_type": "code",
            "execution_count": null,
            "metadata": {},
            "outputs": [],
            "source": [
                "# Get\n",
                "!pv scan readFilters --dataSourceName \"AzureDataLakeStorage-kl2\" --scanName \"Scan-HcH\""
            ]
        },
        {
            "cell_type": "markdown",
            "metadata": {},
            "source": [
                "## Key Vault Connections"
            ]
        },
        {
            "cell_type": "code",
            "execution_count": null,
            "metadata": {},
            "outputs": [],
            "source": [
                "# Create\n",
                "!pv scan putKeyVault --keyVaultName \"babylon\" --payload-file \"C:\\Users\\tarifat\\Downloads\\purviewcli\\samples\\json\\scan\\scan_keyvault.json\""
            ]
        },
        {
            "cell_type": "code",
            "execution_count": null,
            "metadata": {},
            "outputs": [],
            "source": [
                "# Delete\n",
                "!pv scan deleteKeyVault --keyVaultName \"babylon\""
            ]
        },
        {
            "cell_type": "code",
            "execution_count": null,
            "metadata": {},
            "outputs": [],
            "source": [
                "# Get\n",
                "!pv scan readKeyVault --keyVaultName \"babylon\""
            ]
        },
        {
            "cell_type": "code",
            "execution_count": null,
            "metadata": {},
            "outputs": [],
            "source": [
                "# List All\n",
                "!pv scan readKeyVaults"
            ]
        },
        {
            "cell_type": "markdown",
            "metadata": {},
            "source": [
                "## Scan Result"
            ]
        },
        {
            "cell_type": "code",
            "execution_count": null,
            "metadata": {},
            "outputs": [],
            "source": [
                "# List Scan History\n",
                "!pv scan readScanHistory --dataSourceName \"AzureDataLakeStorage-kl2\" --scanName \"Scan-HcH\""
            ]
        },
        {
            "cell_type": "code",
            "execution_count": null,
            "metadata": {},
            "outputs": [],
            "source": [
                "# Run Scan\n",
                "!pv scan runScan --dataSourceName \"AzureDataLakeStorage-kl2\" --scanName \"Scan-HcH\" --runId \"badcd5a1-6a84-4367-929e-33eb6777b1fa\""
            ]
        },
        {
            "cell_type": "markdown",
            "metadata": {},
            "source": [
                "## Scan Rulesets"
            ]
        },
        {
            "cell_type": "code",
            "execution_count": null,
            "metadata": {},
            "outputs": [],
            "source": [
                "# Create or Update\n",
                "!pv scan putScanRuleset --scanRulesetName \"myScanRuleset\" --payload-file \"C:\\Users\\tarifat\\Downloads\\purviewcli\\samples\\json\\scan\\scan_ruleset.json\""
            ]
        },
        {
            "cell_type": "code",
            "execution_count": null,
            "metadata": {},
            "outputs": [],
            "source": [
                "# Delete\n",
                "!pv scan deleteScanRuleset --scanRulesetName \"myScanRuleset\""
            ]
        },
        {
            "cell_type": "code",
            "execution_count": null,
            "metadata": {},
            "outputs": [],
            "source": [
                "# Get\n",
                "!pv scan readScanRuleset --scanRulesetName \"myScanRuleset\""
            ]
        },
        {
            "cell_type": "code",
            "execution_count": null,
            "metadata": {},
            "outputs": [],
            "source": [
                "# List All\n",
                "!pv scan readScanRulesets"
            ]
        },
        {
            "cell_type": "markdown",
            "metadata": {},
            "source": [
                "## Scans"
            ]
        },
        {
            "cell_type": "code",
            "execution_count": null,
            "metadata": {},
            "outputs": [],
            "source": [
                "# Create or Update\n",
                "!pv scan putScan --dataSourceName \"DataSource2\" --scanName \"myScan\" --payload-file \"C:\\Users\\tarifat\\Downloads\\purviewcli\\samples\\json\\scan\\scan.json\""
            ]
        },
        {
            "cell_type": "code",
            "execution_count": null,
            "metadata": {},
            "outputs": [],
            "source": [
                "# Delete\n",
                "!pv scan deleteScan --dataSourceName \"DataSource2\" --scanName \"myScan\""
            ]
        },
        {
            "cell_type": "code",
            "execution_count": null,
            "metadata": {},
            "outputs": [],
            "source": [
                "# Get\n",
                "!pv scan readScan --dataSourceName \"DataSource2\" --scanName \"myScan\""
            ]
        },
        {
            "cell_type": "code",
            "execution_count": null,
            "metadata": {},
            "outputs": [],
            "source": [
                "# List By Data Source\n",
                "!pv scan readScans --dataSourceName \"DataSource2\""
            ]
        },
        {
            "cell_type": "markdown",
            "metadata": {},
            "source": [
                "## System Scan Rulesets"
            ]
        },
        {
            "cell_type": "code",
            "execution_count": null,
            "metadata": {},
            "outputs": [],
            "source": [
                "# Get\n",
                "!pv scan readSystemScanRuleset --dataSourceType \"AdlsGen2\""
            ]
        },
        {
            "cell_type": "code",
            "execution_count": null,
            "metadata": {},
            "outputs": [],
            "source": [
                "# Get By Version\n",
                "!pv scan readSystemScanRulesetVersion --version \"2\" --dataSourceType \"AdlsGen2\""
            ]
        },
        {
            "cell_type": "code",
            "execution_count": null,
            "metadata": {},
            "outputs": [],
            "source": [
                "# Get Latest\n",
                "!pv scan readSystemScanRulesetLatest --dataSourceType \"AdlsGen2\""
            ]
        },
        {
            "cell_type": "code",
            "execution_count": null,
            "metadata": {},
            "outputs": [],
            "source": [
                "# List All\n",
                "!pv scan readSystemScanRulesets"
            ]
        },
        {
            "cell_type": "code",
            "execution_count": null,
            "metadata": {},
            "outputs": [],
            "source": [
                "# List Versions By Data Source\n",
                "!pv scan readSystemScanRulesetVersions --dataSourceType \"AdlsGen2\""
            ]
        },
        {
            "cell_type": "markdown",
            "metadata": {},
            "source": [
                "## Triggers"
            ]
        },
        {
            "cell_type": "code",
            "execution_count": null,
            "metadata": {},
            "outputs": [],
            "source": [
                "# Create\n",
                "!pv scan putTrigger --dataSourceName \"DataSource2\" --scanName \"myScan\" --payload-file \"C:\\Users\\tarifat\\Downloads\\purviewcli\\samples\\json\\scan\\scan_trigger.json\""
            ]
        },
        {
            "cell_type": "code",
            "execution_count": null,
            "metadata": {},
            "outputs": [],
            "source": [
                "# Delete\n",
                "!pv scan deleteTrigger --dataSourceName \"DataSource2\" --scanName \"myScan"
            ]
        },
        {
            "cell_type": "code",
            "execution_count": null,
            "metadata": {},
            "outputs": [],
            "source": [
                "# Get\n",
                "!pv scan readTrigger --dataSourceName \"DataSource2\" --scanName \"myScan"
            ]
        },
        {
            "cell_type": "code",
            "execution_count": 13,
            "metadata": {},
            "outputs": [
                {
                    "name": "stdout",
                    "output_type": "stream",
                    "text": [
                        "{\n",
                        "    \"id\": \"datasources/Fabrikam\",\n",
                        "    \"kind\": \"Collection\",\n",
                        "    \"name\": \"Fabrikam\",\n",
                        "    \"properties\": {\n",
                        "        \"collection\": null,\n",
                        "        \"createdAt\": \"2021-07-02T12:39:40.8440505Z\",\n",
                        "        \"lastModifiedAt\": \"2021-07-02T12:39:40.8440506Z\",\n",
                        "        \"parentCollection\": null\n",
                        "    }\n",
                        "}\n",
                        "{\n",
                        "    \"id\": \"datasources/HumanResources\",\n",
                        "    \"kind\": \"Collection\",\n",
                        "    \"name\": \"HumanResources\",\n",
                        "    \"properties\": {\n",
                        "        \"collection\": null,\n",
                        "        \"createdAt\": \"2021-07-02T12:39:42.5865438Z\",\n",
                        "        \"lastModifiedAt\": \"2021-07-02T12:39:42.5865438Z\",\n",
                        "        \"parentCollection\": {\n",
                        "            \"referenceName\": \"Fabrikam\",\n",
                        "            \"type\": \"DataSourceReference\"\n",
                        "        }\n",
                        "    }\n",
                        "}\n",
                        "{\n",
                        "    \"id\": \"datasources/Finance\",\n",
                        "    \"kind\": \"Collection\",\n",
                        "    \"name\": \"Finance\",\n",
                        "    \"properties\": {\n",
                        "        \"collection\": null,\n",
                        "        \"createdAt\": \"2021-07-02T12:39:44.6157296Z\",\n",
                        "        \"lastModifiedAt\": \"2021-07-02T12:39:44.6157296Z\",\n",
                        "        \"parentCollection\": {\n",
                        "            \"referenceName\": \"Fabrikam\",\n",
                        "            \"type\": \"DataSourceReference\"\n",
                        "        }\n",
                        "    }\n",
                        "}\n",
                        "{\n",
                        "    \"id\": \"datasources/Sales\",\n",
                        "    \"kind\": \"Collection\",\n",
                        "    \"name\": \"Sales\",\n",
                        "    \"properties\": {\n",
                        "        \"collection\": null,\n",
                        "        \"createdAt\": \"2021-07-02T12:39:46.2739968Z\",\n",
                        "        \"lastModifiedAt\": \"2021-07-02T12:39:46.273997Z\",\n",
                        "        \"parentCollection\": {\n",
                        "            \"referenceName\": \"Fabrikam\",\n",
                        "            \"type\": \"DataSourceReference\"\n",
                        "        }\n",
                        "    }\n",
                        "}\n",
                        "{\n",
                        "    \"id\": \"datasources/Marketing\",\n",
                        "    \"kind\": \"Collection\",\n",
                        "    \"name\": \"Marketing\",\n",
                        "    \"properties\": {\n",
                        "        \"collection\": null,\n",
                        "        \"createdAt\": \"2021-07-02T12:39:48.0856695Z\",\n",
                        "        \"lastModifiedAt\": \"2021-07-02T12:39:48.0856696Z\",\n",
                        "        \"parentCollection\": {\n",
                        "            \"referenceName\": \"Fabrikam\",\n",
                        "            \"type\": \"DataSourceReference\"\n",
                        "        }\n",
                        "    }\n",
                        "}\n",
                        "{\n",
                        "    \"id\": \"datasources/AzureSubscription\",\n",
                        "    \"kind\": \"AzureSubscription\",\n",
                        "    \"name\": \"AzureSubscription\",\n",
                        "    \"properties\": {\n",
                        "        \"collection\": null,\n",
                        "        \"createdAt\": \"2021-07-02T12:39:49.8567527Z\",\n",
                        "        \"lastModifiedAt\": \"2021-07-02T12:39:49.8567527Z\",\n",
                        "        \"parentCollection\": {\n",
                        "            \"referenceName\": \"HumanResources\",\n",
                        "            \"type\": \"DataSourceReference\"\n",
                        "        },\n",
                        "        \"subscriptionId\": \"2c334b6c-e556-40ac-a4c0-c0d1d2e08ca0\"\n",
                        "    }\n",
                        "}\n",
                        "{\n",
                        "    \"id\": \"datasources/AzureSynapseWorkspace\",\n",
                        "    \"kind\": \"AzureSynapseWorkspace\",\n",
                        "    \"name\": \"AzureSynapseWorkspace\",\n",
                        "    \"properties\": {\n",
                        "        \"collection\": null,\n",
                        "        \"createdAt\": \"2021-07-02T12:39:52.24074Z\",\n",
                        "        \"dedicatedSqlEndpoint\": \"synapsews8951.sql.azuresynapse.net\",\n",
                        "        \"lastModifiedAt\": \"2021-07-02T12:39:52.2407401Z\",\n",
                        "        \"location\": \"brazilsouth\",\n",
                        "        \"parentCollection\": {\n",
                        "            \"referenceName\": \"Finance\",\n",
                        "            \"type\": \"DataSourceReference\"\n",
                        "        },\n",
                        "        \"resourceGroup\": \"purviewlab\",\n",
                        "        \"resourceName\": \"synapsews8951\",\n",
                        "        \"serverlessSqlEndpoint\": \"synapsews8951-ondemand.sql.azuresynapse.net\",\n",
                        "        \"subscriptionId\": \"2c334b6c-e556-40ac-a4c0-c0d1d2e08ca0\"\n",
                        "    }\n",
                        "}\n",
                        "{\n",
                        "    \"id\": \"datasources/AzureResourceGroup\",\n",
                        "    \"kind\": \"AzureResourceGroup\",\n",
                        "    \"name\": \"AzureResourceGroup\",\n",
                        "    \"properties\": {\n",
                        "        \"collection\": null,\n",
                        "        \"createdAt\": \"2021-07-02T12:39:54.3107446Z\",\n",
                        "        \"lastModifiedAt\": \"2021-07-02T12:39:54.3107447Z\",\n",
                        "        \"parentCollection\": {\n",
                        "            \"referenceName\": \"Sales\",\n",
                        "            \"type\": \"DataSourceReference\"\n",
                        "        },\n",
                        "        \"resourceGroup\": \"purviewlab\",\n",
                        "        \"subscriptionId\": \"2c334b6c-e556-40ac-a4c0-c0d1d2e08ca0\"\n",
                        "    }\n",
                        "}\n",
                        "{\n",
                        "    \"id\": \"datasources/AzureSqlDatabase\",\n",
                        "    \"kind\": \"AzureSqlDatabase\",\n",
                        "    \"name\": \"AzureSqlDatabase\",\n",
                        "    \"properties\": {\n",
                        "        \"collection\": null,\n",
                        "        \"createdAt\": \"2021-07-02T12:39:55.9023133Z\",\n",
                        "        \"lastModifiedAt\": \"2021-07-02T12:39:55.9023134Z\",\n",
                        "        \"location\": \"brazilsouth\",\n",
                        "        \"parentCollection\": {\n",
                        "            \"referenceName\": \"Marketing\",\n",
                        "            \"type\": \"DataSourceReference\"\n",
                        "        },\n",
                        "        \"resourceGroup\": \"synapsemg8951\",\n",
                        "        \"resourceName\": \"synapsews8951\",\n",
                        "        \"serverEndpoint\": \"synapsews8951.database.windows.net\",\n",
                        "        \"subscriptionId\": \"2c334b6c-e556-40ac-a4c0-c0d1d2e08ca0\"\n",
                        "    }\n",
                        "}\n",
                        "{\n",
                        "    \"id\": \"datasources/AzureDataExplorer\",\n",
                        "    \"kind\": \"AzureDataExplorer\",\n",
                        "    \"name\": \"AzureDataExplorer\",\n",
                        "    \"properties\": {\n",
                        "        \"collection\": null,\n",
                        "        \"createdAt\": \"2021-07-02T12:39:57.6498644Z\",\n",
                        "        \"endpoint\": \"https://something.com\",\n",
                        "        \"lastModifiedAt\": \"2021-07-02T12:39:57.6498645Z\",\n",
                        "        \"location\": null,\n",
                        "        \"parentCollection\": {\n",
                        "            \"referenceName\": \"HumanResources\",\n",
                        "            \"type\": \"DataSourceReference\"\n",
                        "        },\n",
                        "        \"resourceGroup\": null,\n",
                        "        \"resourceName\": null,\n",
                        "        \"subscriptionId\": null\n",
                        "    }\n",
                        "}\n",
                        "{\n",
                        "    \"id\": \"datasources/AdlsGen1\",\n",
                        "    \"kind\": \"AdlsGen1\",\n",
                        "    \"name\": \"AdlsGen1\",\n",
                        "    \"properties\": {\n",
                        "        \"collection\": null,\n",
                        "        \"createdAt\": \"2021-07-02T12:39:59.7219001Z\",\n",
                        "        \"endpoint\": \"https://adlsgenone8951.azuredatalakestore.net/webhdfs/v1/\",\n",
                        "        \"lastModifiedAt\": \"2021-07-02T12:39:59.7219002Z\",\n",
                        "        \"location\": \"eastus2\",\n",
                        "        \"parentCollection\": {\n",
                        "            \"referenceName\": \"Finance\",\n",
                        "            \"type\": \"DataSourceReference\"\n",
                        "        },\n",
                        "        \"resourceGroup\": \"purviewlab\",\n",
                        "        \"resourceName\": \"adlsgenone8951\",\n",
                        "        \"subscriptionId\": \"2c334b6c-e556-40ac-a4c0-c0d1d2e08ca0\"\n",
                        "    }\n",
                        "}\n",
                        "{\n",
                        "    \"id\": \"datasources/AzureStorage\",\n",
                        "    \"kind\": \"AzureStorage\",\n",
                        "    \"name\": \"AzureStorage\",\n",
                        "    \"properties\": {\n",
                        "        \"collection\": null,\n",
                        "        \"createdAt\": \"2021-07-02T12:40:01.6036915Z\",\n",
                        "        \"endpoint\": \"https://taygan.blob.core.windows.net/\",\n",
                        "        \"lastModifiedAt\": \"2021-07-02T12:40:01.6036917Z\",\n",
                        "        \"location\": \"westeurope\",\n",
                        "        \"parentCollection\": {\n",
                        "            \"referenceName\": \"Sales\",\n",
                        "            \"type\": \"DataSourceReference\"\n",
                        "        },\n",
                        "        \"resourceGroup\": \"taygan\",\n",
                        "        \"resourceName\": \"taygan\",\n",
                        "        \"subscriptionId\": \"2c334b6c-e556-40ac-a4c0-c0d1d2e08ca0\"\n",
                        "    }\n",
                        "}\n",
                        "{\n",
                        "    \"id\": \"datasources/AzureSqlDataWarehouse\",\n",
                        "    \"kind\": \"AzureSqlDataWarehouse\",\n",
                        "    \"name\": \"AzureSqlDataWarehouse\",\n",
                        "    \"properties\": {\n",
                        "        \"collection\": null,\n",
                        "        \"createdAt\": \"2021-07-02T12:40:03.6585591Z\",\n",
                        "        \"lastModifiedAt\": \"2021-07-02T12:40:03.6585593Z\",\n",
                        "        \"location\": \"brazilsouth\",\n",
                        "        \"parentCollection\": {\n",
                        "            \"referenceName\": \"Marketing\",\n",
                        "            \"type\": \"DataSourceReference\"\n",
                        "        },\n",
                        "        \"resourceGroup\": \"synapsemg8951\",\n",
                        "        \"resourceName\": \"synapsews8951\",\n",
                        "        \"serverEndpoint\": \"synapsews8951.database.windows.net\",\n",
                        "        \"subscriptionId\": \"2c334b6c-e556-40ac-a4c0-c0d1d2e08ca0\"\n",
                        "    }\n",
                        "}\n",
                        "{\n",
                        "    \"id\": \"datasources/AzureCosmosDb\",\n",
                        "    \"kind\": \"AzureCosmosDb\",\n",
                        "    \"name\": \"AzureCosmosDb\",\n",
                        "    \"properties\": {\n",
                        "        \"accountUri\": \"https://cosmos8951.documents.azure.com:443/\",\n",
                        "        \"collection\": null,\n",
                        "        \"createdAt\": \"2021-07-02T12:40:05.502994Z\",\n",
                        "        \"lastModifiedAt\": \"2021-07-02T12:40:05.5029942Z\",\n",
                        "        \"location\": \"brazilsouth\",\n",
                        "        \"parentCollection\": {\n",
                        "            \"referenceName\": \"HumanResources\",\n",
                        "            \"type\": \"DataSourceReference\"\n",
                        "        },\n",
                        "        \"resourceGroup\": \"purviewlab\",\n",
                        "        \"resourceName\": \"cosmos8951\",\n",
                        "        \"subscriptionId\": \"2c334b6c-e556-40ac-a4c0-c0d1d2e08ca0\"\n",
                        "    }\n",
                        "}\n",
                        "{\n",
                        "    \"id\": \"datasources/AdlsGen2\",\n",
                        "    \"kind\": \"AdlsGen2\",\n",
                        "    \"name\": \"AdlsGen2\",\n",
                        "    \"properties\": {\n",
                        "        \"collection\": null,\n",
                        "        \"createdAt\": \"2021-07-02T12:40:07.8259199Z\",\n",
                        "        \"endpoint\": \"https://adls8951.dfs.core.windows.net/\",\n",
                        "        \"lastModifiedAt\": \"2021-07-02T12:40:07.8259204Z\",\n",
                        "        \"location\": \"brazilsouth\",\n",
                        "        \"parentCollection\": {\n",
                        "            \"referenceName\": \"Finance\",\n",
                        "            \"type\": \"DataSourceReference\"\n",
                        "        },\n",
                        "        \"resourceGroup\": \"purviewlab\",\n",
                        "        \"resourceName\": \"adls8951\",\n",
                        "        \"subscriptionId\": \"2c334b6c-e556-40ac-a4c0-c0d1d2e08ca0\"\n",
                        "    }\n",
                        "}\n",
                        "{\n",
                        "    \"id\": \"datasources/SapEcc\",\n",
                        "    \"kind\": \"SapEcc\",\n",
                        "    \"name\": \"SapEcc\",\n",
                        "    \"properties\": {\n",
                        "        \"applicationServer\": \"application\",\n",
                        "        \"collection\": null,\n",
                        "        \"createdAt\": \"2021-07-02T12:40:10.0147529Z\",\n",
                        "        \"lastModifiedAt\": \"2021-07-02T12:40:10.0147531Z\",\n",
                        "        \"parentCollection\": {\n",
                        "            \"referenceName\": \"Sales\",\n",
                        "            \"type\": \"DataSourceReference\"\n",
                        "        },\n",
                        "        \"systemNumber\": \"00\"\n",
                        "    }\n",
                        "}\n",
                        "{\n",
                        "    \"id\": \"datasources/AmazonAccount\",\n",
                        "    \"kind\": \"AmazonAccount\",\n",
                        "    \"name\": \"AmazonAccount\",\n",
                        "    \"properties\": {\n",
                        "        \"awsAccountId\": \"123456789123\",\n",
                        "        \"collection\": null,\n",
                        "        \"createdAt\": \"2021-07-02T12:40:12.3929354Z\",\n",
                        "        \"lastModifiedAt\": \"2021-07-02T12:40:12.3929356Z\",\n",
                        "        \"parentCollection\": {\n",
                        "            \"referenceName\": \"Marketing\",\n",
                        "            \"type\": \"DataSourceReference\"\n",
                        "        },\n",
                        "        \"roleARN\": null\n",
                        "    }\n",
                        "}\n",
                        "{\n",
                        "    \"id\": \"datasources/AmazonS3\",\n",
                        "    \"kind\": \"AmazonS3\",\n",
                        "    \"name\": \"AmazonS3\",\n",
                        "    \"properties\": {\n",
                        "        \"collection\": null,\n",
                        "        \"createdAt\": \"2021-07-02T12:40:14.6497664Z\",\n",
                        "        \"lastModifiedAt\": \"2021-07-02T12:40:14.6497665Z\",\n",
                        "        \"parentCollection\": {\n",
                        "            \"referenceName\": \"HumanResources\",\n",
                        "            \"type\": \"DataSourceReference\"\n",
                        "        },\n",
                        "        \"roleARN\": null,\n",
                        "        \"serviceUrl\": \"s3://bucketname\"\n",
                        "    }\n",
                        "}\n",
                        "{\n",
                        "    \"id\": \"datasources/Hive\",\n",
                        "    \"kind\": \"Hive\",\n",
                        "    \"name\": \"Hive\",\n",
                        "    \"properties\": {\n",
                        "        \"clusterUrl\": \"www\",\n",
                        "        \"collection\": null,\n",
                        "        \"createdAt\": \"2021-07-02T12:40:16.1935831Z\",\n",
                        "        \"host\": \"www\",\n",
                        "        \"lastModifiedAt\": \"2021-07-02T12:40:16.1935832Z\",\n",
                        "        \"parentCollection\": {\n",
                        "            \"referenceName\": \"Finance\",\n",
                        "            \"type\": \"DataSourceReference\"\n",
                        "        }\n",
                        "    }\n",
                        "}\n",
                        "{\n",
                        "    \"id\": \"datasources/sap_s4_hana\",\n",
                        "    \"kind\": \"SapS4Hana\",\n",
                        "    \"name\": \"sap_s4_hana\",\n",
                        "    \"properties\": {\n",
                        "        \"applicationServer\": \"application\",\n",
                        "        \"collection\": null,\n",
                        "        \"createdAt\": \"2021-07-02T12:40:18.5733459Z\",\n",
                        "        \"lastModifiedAt\": \"2021-07-02T12:40:18.573346Z\",\n",
                        "        \"parentCollection\": {\n",
                        "            \"referenceName\": \"Sales\",\n",
                        "            \"type\": \"DataSourceReference\"\n",
                        "        },\n",
                        "        \"systemNumber\": \"00\"\n",
                        "    }\n",
                        "}\n",
                        "{\n",
                        "    \"id\": \"datasources/Oracle\",\n",
                        "    \"kind\": \"Oracle\",\n",
                        "    \"name\": \"Oracle\",\n",
                        "    \"properties\": {\n",
                        "        \"collection\": null,\n",
                        "        \"createdAt\": \"2021-07-02T12:40:21.0595386Z\",\n",
                        "        \"host\": \"www\",\n",
                        "        \"lastModifiedAt\": \"2021-07-02T12:40:21.0595387Z\",\n",
                        "        \"parentCollection\": {\n",
                        "            \"referenceName\": \"Marketing\",\n",
                        "            \"type\": \"DataSourceReference\"\n",
                        "        },\n",
                        "        \"port\": \"1234\",\n",
                        "        \"service\": \"service\"\n",
                        "    }\n",
                        "}\n",
                        "{\n",
                        "    \"id\": \"datasources/Teradata\",\n",
                        "    \"kind\": \"Teradata\",\n",
                        "    \"name\": \"Teradata\",\n",
                        "    \"properties\": {\n",
                        "        \"collection\": null,\n",
                        "        \"createdAt\": \"2021-07-02T12:40:22.5566037Z\",\n",
                        "        \"host\": \"teradata.com\",\n",
                        "        \"lastModifiedAt\": \"2021-07-02T12:40:22.5566037Z\",\n",
                        "        \"parentCollection\": {\n",
                        "            \"referenceName\": \"HumanResources\",\n",
                        "            \"type\": \"DataSourceReference\"\n",
                        "        }\n",
                        "    }\n",
                        "}\n",
                        "{\n",
                        "    \"id\": \"datasources/PowerBI\",\n",
                        "    \"kind\": \"PowerBI\",\n",
                        "    \"name\": \"PowerBI\",\n",
                        "    \"properties\": {\n",
                        "        \"collection\": null,\n",
                        "        \"createdAt\": \"2021-07-02T12:40:24.3266005Z\",\n",
                        "        \"lastModifiedAt\": \"2021-07-02T12:40:24.3266007Z\",\n",
                        "        \"parentCollection\": {\n",
                        "            \"referenceName\": \"Finance\",\n",
                        "            \"type\": \"DataSourceReference\"\n",
                        "        },\n",
                        "        \"tenant\": \"72f988bf-86f1-41af-91ab-2d7cd011db47\"\n",
                        "    }\n",
                        "}\n",
                        "{\n",
                        "    \"id\": \"datasources/SqlServerDatabase\",\n",
                        "    \"kind\": \"SqlServerDatabase\",\n",
                        "    \"name\": \"SqlServerDatabase\",\n",
                        "    \"properties\": {\n",
                        "        \"collection\": null,\n",
                        "        \"createdAt\": \"2021-07-02T12:40:25.9411637Z\",\n",
                        "        \"lastModifiedAt\": \"2021-07-02T12:40:25.9411638Z\",\n",
                        "        \"location\": null,\n",
                        "        \"parentCollection\": {\n",
                        "            \"referenceName\": \"Sales\",\n",
                        "            \"type\": \"DataSourceReference\"\n",
                        "        },\n",
                        "        \"resourceGroup\": null,\n",
                        "        \"resourceName\": null,\n",
                        "        \"serverEndpoint\": \"server\",\n",
                        "        \"subscriptionId\": null\n",
                        "    }\n",
                        "}\n",
                        "{\n",
                        "    \"id\": \"datasources/AzureFileService\",\n",
                        "    \"kind\": \"AzureFileService\",\n",
                        "    \"name\": \"AzureFileService\",\n",
                        "    \"properties\": {\n",
                        "        \"collection\": null,\n",
                        "        \"createdAt\": \"2021-07-02T12:40:27.8858009Z\",\n",
                        "        \"endpoint\": \"https://scanbrazilsouthcrkbyzq.file.core.windows.net/\",\n",
                        "        \"lastModifiedAt\": \"2021-07-02T12:40:27.885801Z\",\n",
                        "        \"location\": \"brazilsouth\",\n",
                        "        \"parentCollection\": {\n",
                        "            \"referenceName\": \"Marketing\",\n",
                        "            \"type\": \"DataSourceReference\"\n",
                        "        },\n",
                        "        \"resourceGroup\": \"managed-rg-twyqlvx\",\n",
                        "        \"resourceName\": \"scanbrazilsouthcrkbyzq\",\n",
                        "        \"subscriptionId\": \"2c334b6c-e556-40ac-a4c0-c0d1d2e08ca0\"\n",
                        "    }\n",
                        "}\n"
                    ]
                }
            ],
            "source": [
                "import os, json, tempfile\r\n",
                "os.environ['PURVIEW_NAME'] = \"purview-ha11xp\"\r\n",
                "# !pv glossary read\r\n",
                "\r\n",
                "\r\n",
                "# # Creating Data Sources\r\n",
                "# with importlib.resources.path(\"purviewcli.ninja.sources\", \"sources.json\") as filepath:\r\n",
                "#     print(f' - Creating sources from {filepath}...')\r\n",
                "with open('C:/Users/tarifat/Downloads/purviewcli/purviewcli/ninja/sources/sources.json') as f:\r\n",
                "    sources = json.load(f)\r\n",
                "\r\n",
                "for source in sources:\r\n",
                "    dataSourceName = source['name']\r\n",
                "    fd, path = tempfile.mkstemp(suffix='.json')\r\n",
                "    try:\r\n",
                "        with os.fdopen(fd, 'w') as tmp:\r\n",
                "            json.dump(source, tmp, indent=4, sort_keys=True)\r\n",
                "        !pv scan putDataSource --dataSourceName {dataSourceName} --payload-file {path}\r\n",
                "    finally:\r\n",
                "        os.remove(path)"
            ]
        }
    ],
    "metadata": {
        "interpreter": {
            "hash": "12e36838d520b1a5d9d0c411170e079c62a783e05fdada350eba99892041e52f"
        },
        "kernelspec": {
            "display_name": "Python 3.9.2 64-bit ('env': venv)",
            "name": "python3"
        },
        "language_info": {
            "codemirror_mode": {
                "name": "ipython",
                "version": 3
            },
            "file_extension": ".py",
            "mimetype": "text/x-python",
            "name": "python",
            "nbconvert_exporter": "python",
            "pygments_lexer": "ipython3",
            "version": "3.9.2"
        },
        "metadata": {
            "interpreter": {
                "hash": "12e36838d520b1a5d9d0c411170e079c62a783e05fdada350eba99892041e52f"
            }
        }
    },
    "nbformat": 4,
    "nbformat_minor": 2
}