{
    "metadata": {
        "kernelspec": {
            "name": "python3",
            "display_name": "Python 3.9.1 64-bit ('env': venv)"
        },
        "language_info": {
            "name": "python",
            "version": "3.9.1",
            "mimetype": "text/x-python",
            "codemirror_mode": {
                "name": "ipython",
                "version": 3
            },
            "pygments_lexer": "ipython3",
            "nbconvert_exporter": "python",
            "file_extension": ".py"
        },
        "metadata": {
            "interpreter": {
                "hash": "12e36838d520b1a5d9d0c411170e079c62a783e05fdada350eba99892041e52f"
            }
        },
        "interpreter": {
            "hash": "06a38955b8ad85bbf3b14ddaf9620713de55cfb2da467adc159ddbd05253a687"
        }
    },
    "nbformat_minor": 2,
    "nbformat": 4,
    "cells": [
        {
            "cell_type": "markdown",
            "source": [
                "# Scanning Data Plane"
            ],
            "metadata": {
                "azdata_cell_guid": "42fb003c-adf1-4eed-a34a-ebf8d53dc75e"
            }
        },
        {
            "source": [
                "# Install/Upgrade purviewcli package\n",
                "%pip install --upgrade purviewcli"
            ],
            "cell_type": "code",
            "metadata": {
                "azdata_cell_guid": "fa059e9f-27cd-4b93-b8cc-4f68bff46116"
            },
            "execution_count": null,
            "outputs": []
        },
        {
            "cell_type": "code",
            "source": [
                "# Environment Variables\n",
                "%env PURVIEW_NAME=YOUR_PURVIEW_ACCOUNT\n",
                "%env AZURE_CLIENT_ID=YOUR_CLIENT_ID\n",
                "%env AZURE_TENANT_ID=YOUR_TENANT_ID\n",
                "%env AZURE_CLIENT_SECRET=YOUR_CLIENT_SECRET"
            ],
            "metadata": {
                "azdata_cell_guid": "c5ec8581-3c04-4b60-b3e9-3b41571832fc"
            },
            "outputs": [],
            "execution_count": null
        },
        {
            "cell_type": "code",
            "source": [
                "# Commands\n",
                "!pv scan --help"
            ],
            "metadata": {
                "azdata_cell_guid": "8facf121-f510-48c4-bf99-433bb568432a"
            },
            "outputs": [],
            "execution_count": null
        },
        {
            "source": [
                "## Classification Rules"
            ],
            "cell_type": "markdown",
            "metadata": {}
        },
        {
            "cell_type": "code",
            "execution_count": null,
            "metadata": {},
            "outputs": [],
            "source": [
                "# Create or Update\n",
                "!pv scan putClassificationRule --classificationRuleName \"BANK_ACCOUNT_NUMBER\" --payload-file \"C:\\Users\\tarifat\\Downloads\\purviewcli\\samples\\json\\scan\\classification_rule.json\""
            ]
        },
        {
            "cell_type": "code",
            "execution_count": null,
            "metadata": {},
            "outputs": [],
            "source": [
                "# Delete\n",
                "!pv scan deleteClassificationRule --classificationRuleName \"BANK_ACCOUNT_NUMBER\""
            ]
        },
        {
            "cell_type": "code",
            "execution_count": null,
            "metadata": {},
            "outputs": [],
            "source": [
                "# Get\n",
                "!pv scan readClassificationRule --classificationRuleName \"BANK_ACCOUNT_NUMBER\""
            ]
        },
        {
            "cell_type": "code",
            "execution_count": null,
            "metadata": {},
            "outputs": [],
            "source": [
                "# List All\n",
                "!pv scan readClassificationRules"
            ]
        },
        {
            "cell_type": "code",
            "execution_count": null,
            "metadata": {},
            "outputs": [],
            "source": [
                "# List Versions By Classification Rule Name\n",
                "!pv scan readClassificationRuleVersions --classificationRuleName \"BANK_ACCOUNT_NUMBER\""
            ]
        },
        {
            "source": [
                "## Data Sources"
            ],
            "cell_type": "markdown",
            "metadata": {}
        },
        {
            "cell_type": "code",
            "execution_count": null,
            "metadata": {},
            "outputs": [],
            "source": [
                "# Create or Update\n",
                "!pv scan putDataSource --dataSourceName \"DataSource2\" --payload-file \"C:\\Users\\tarifat\\Downloads\\purviewcli\\samples\\json\\scan\\scan_source.json\""
            ]
        },
        {
            "cell_type": "code",
            "execution_count": null,
            "metadata": {},
            "outputs": [],
            "source": [
                "# Delete\n",
                "!pv scan deleteDataSource --dataSourceName \"DataSource2\""
            ]
        },
        {
            "cell_type": "code",
            "execution_count": null,
            "metadata": {},
            "outputs": [],
            "source": [
                "# Get\n",
                "!pv scan readDatasource --dataSourceName \"DataSource2\""
            ]
        },
        {
            "cell_type": "code",
            "execution_count": null,
            "metadata": {},
            "outputs": [],
            "source": [
                "# List All\n",
                "!pv scan readDatasources"
            ]
        },
        {
            "source": [
                "## Filters"
            ],
            "cell_type": "markdown",
            "metadata": {}
        },
        {
            "cell_type": "code",
            "execution_count": null,
            "metadata": {},
            "outputs": [],
            "source": [
                "# Create or Update\n",
                "!pv scan putFilter --dataSourceName \"AzureDataLakeStorage-kl2\" --scanName \"Scan-HcH\" --payload-file \"C:\\Users\\tarifat\\Downloads\\purviewcli\\samples\\json\\scan\\scan_filter.json\""
            ]
        },
        {
            "cell_type": "code",
            "execution_count": null,
            "metadata": {},
            "outputs": [],
            "source": [
                "# Get\n",
                "!pv scan readFilters --dataSourceName \"AzureDataLakeStorage-kl2\" --scanName \"Scan-HcH\""
            ]
        },
        {
            "source": [
                "## Key Vault Connections"
            ],
            "cell_type": "markdown",
            "metadata": {}
        },
        {
            "cell_type": "code",
            "execution_count": null,
            "metadata": {},
            "outputs": [],
            "source": [
                "# Create\n",
                "!pv scan putKeyVault --keyVaultName \"babylon\" --payload-file \"C:\\Users\\tarifat\\Downloads\\purviewcli\\samples\\json\\scan\\scan_keyvault.json\""
            ]
        },
        {
            "cell_type": "code",
            "execution_count": null,
            "metadata": {},
            "outputs": [],
            "source": [
                "# Delete\n",
                "!pv scan deleteKeyVault --keyVaultName \"babylon\""
            ]
        },
        {
            "cell_type": "code",
            "execution_count": null,
            "metadata": {},
            "outputs": [],
            "source": [
                "# Get\n",
                "!pv scan readKeyVault --keyVaultName \"babylon\""
            ]
        },
        {
            "cell_type": "code",
            "execution_count": null,
            "metadata": {},
            "outputs": [],
            "source": [
                "# List All\n",
                "!pv scan readKeyVaults"
            ]
        },
        {
            "source": [
                "## Scan Result"
            ],
            "cell_type": "markdown",
            "metadata": {}
        },
        {
            "cell_type": "code",
            "execution_count": null,
            "metadata": {},
            "outputs": [],
            "source": [
                "# List Scan History\n",
                "!pv scan readScanHistory --dataSourceName \"AzureDataLakeStorage-kl2\" --scanName \"Scan-HcH\""
            ]
        },
        {
            "cell_type": "code",
            "execution_count": null,
            "metadata": {},
            "outputs": [],
            "source": [
                "# Run Scan\n",
                "!pv scan runScan --dataSourceName \"AzureDataLakeStorage-kl2\" --scanName \"Scan-HcH\" --runId \"badcd5a1-6a84-4367-929e-33eb6777b1fa\""
            ]
        },
        {
            "source": [
                "## Scan Rulesets"
            ],
            "cell_type": "markdown",
            "metadata": {}
        },
        {
            "cell_type": "code",
            "execution_count": null,
            "metadata": {},
            "outputs": [],
            "source": [
                "# Create or Update\n",
                "!pv scan putScanRuleset --scanRulesetName \"myScanRuleset\" --payload-file \"C:\\Users\\tarifat\\Downloads\\purviewcli\\samples\\json\\scan\\scan_ruleset.json\""
            ]
        },
        {
            "source": [
                "# Delete\n",
                "!pv scan deleteScanRuleset --scanRulesetName \"myScanRuleset\""
            ],
            "cell_type": "code",
            "metadata": {},
            "execution_count": null,
            "outputs": []
        },
        {
            "cell_type": "code",
            "execution_count": null,
            "metadata": {},
            "outputs": [],
            "source": [
                "# Get\n",
                "!pv scan readScanRuleset --scanRulesetName \"myScanRuleset\""
            ]
        },
        {
            "cell_type": "code",
            "execution_count": null,
            "metadata": {},
            "outputs": [],
            "source": [
                "# List All\n",
                "!pv scan readScanRulesets"
            ]
        },
        {
            "source": [
                "## Scans"
            ],
            "cell_type": "markdown",
            "metadata": {}
        },
        {
            "cell_type": "code",
            "execution_count": null,
            "metadata": {},
            "outputs": [],
            "source": [
                "# Create or Update\n",
                "!pv scan putScan --dataSourceName \"DataSource2\" --scanName \"myScan\" --payload-file \"C:\\Users\\tarifat\\Downloads\\purviewcli\\samples\\json\\scan\\scan.json\""
            ]
        },
        {
            "cell_type": "code",
            "execution_count": null,
            "metadata": {},
            "outputs": [],
            "source": [
                "# Delete\n",
                "!pv scan deleteScan --dataSourceName \"DataSource2\" --scanName \"myScan\""
            ]
        },
        {
            "cell_type": "code",
            "execution_count": null,
            "metadata": {},
            "outputs": [],
            "source": [
                "# Get\n",
                "!pv scan readScan --dataSourceName \"DataSource2\" --scanName \"myScan\""
            ]
        },
        {
            "cell_type": "code",
            "execution_count": null,
            "metadata": {},
            "outputs": [],
            "source": [
                "# List By Data Source\n",
                "!pv scan readScans --dataSourceName \"DataSource2\""
            ]
        },
        {
            "source": [
                "## System Scan Rulesets"
            ],
            "cell_type": "markdown",
            "metadata": {}
        },
        {
            "cell_type": "code",
            "execution_count": null,
            "metadata": {},
            "outputs": [],
            "source": [
                "# Get\n",
                "!pv scan readSystemScanRuleset --dataSourceType \"AdlsGen2\""
            ]
        },
        {
            "cell_type": "code",
            "execution_count": null,
            "metadata": {},
            "outputs": [],
            "source": [
                "# Get By Version\n",
                "!pv scan readSystemScanRulesetVersion --version \"2\" --dataSourceType \"AdlsGen2\""
            ]
        },
        {
            "cell_type": "code",
            "execution_count": null,
            "metadata": {},
            "outputs": [],
            "source": [
                "# Get Latest\n",
                "!pv scan readSystemScanRulesetLatest --dataSourceType \"AdlsGen2\""
            ]
        },
        {
            "cell_type": "code",
            "execution_count": null,
            "metadata": {},
            "outputs": [],
            "source": [
                "# List All\n",
                "!pv scan readSystemScanRulesets"
            ]
        },
        {
            "cell_type": "code",
            "execution_count": null,
            "metadata": {},
            "outputs": [],
            "source": [
                "# List Versions By Data Source\n",
                "!pv scan readSystemScanRulesetVersions --dataSourceType \"AdlsGen2\""
            ]
        },
        {
            "source": [
                "## Triggers"
            ],
            "cell_type": "markdown",
            "metadata": {}
        },
        {
            "cell_type": "code",
            "execution_count": null,
            "metadata": {},
            "outputs": [],
            "source": [
                "# Create\n",
                "!pv scan putTrigger --dataSourceName \"DataSource2\" --scanName \"myScan\" --payload-file \"C:\\Users\\tarifat\\Downloads\\purviewcli\\samples\\json\\scan\\scan_trigger.json\""
            ]
        },
        {
            "cell_type": "code",
            "execution_count": null,
            "metadata": {},
            "outputs": [],
            "source": [
                "# Delete\n",
                "!pv scan deleteTrigger --dataSourceName \"DataSource2\" --scanName \"myScan"
            ]
        },
        {
            "cell_type": "code",
            "execution_count": null,
            "metadata": {},
            "outputs": [],
            "source": [
                "# Get\n",
                "!pv scan readTrigger --dataSourceName \"DataSource2\" --scanName \"myScan"
            ]
        },
        {
            "cell_type": "code",
            "execution_count": null,
            "metadata": {},
            "outputs": [],
            "source": [
                "# import os\n",
                "# os.environ['PURVIEW_NAME'] = \"purview-sandbox\"\n",
                "# !pv glossary read"
            ]
        },
        {
            "cell_type": "code",
            "execution_count": null,
            "metadata": {},
            "outputs": [],
            "source": [
                "{\"properties\":{\"createdAt\":\"2021-06-16T12:52:44.5875666Z\",\"lastModifiedAt\":\"2021-06-16T12:52:44.5875668Z\",\"parentCollection\":{\"type\":\"DataSourceReference\",\"referenceName\":\"Contoso\"},\"collection\":null},\"kind\":\"Collection\",\"id\":\"datasources/Azure\",\"name\":\"Azure\"}"
            ]
        },
        {
            "cell_type": "code",
            "execution_count": 54,
            "metadata": {},
            "outputs": [
                {
                    "output_type": "error",
                    "ename": "IsADirectoryError",
                    "evalue": "[Errno 21] Is a directory: '/Users/taygan/Documents/Developer/purviewcli/purviewcli/purviewcli/ninja/sources'",
                    "traceback": [
                        "\u001b[0;31m---------------------------------------------------------------------------\u001b[0m",
                        "\u001b[0;31mIsADirectoryError\u001b[0m                         Traceback (most recent call last)",
                        "\u001b[0;32m<ipython-input-54-e0a05f7cf6ff>\u001b[0m in \u001b[0;36m<module>\u001b[0;34m\u001b[0m\n\u001b[1;32m     10\u001b[0m     \u001b[0mdataSourceName\u001b[0m \u001b[0;34m=\u001b[0m \u001b[0msource\u001b[0m\u001b[0;34m[\u001b[0m\u001b[0;34m'name'\u001b[0m\u001b[0;34m]\u001b[0m\u001b[0;34m\u001b[0m\u001b[0;34m\u001b[0m\u001b[0m\n\u001b[1;32m     11\u001b[0m     \u001b[0;31m# filename = f'{dataSourceName}.json'\u001b[0m\u001b[0;34m\u001b[0m\u001b[0;34m\u001b[0m\u001b[0;34m\u001b[0m\u001b[0m\n\u001b[0;32m---> 12\u001b[0;31m     \u001b[0;32mwith\u001b[0m \u001b[0mimportlib\u001b[0m\u001b[0;34m.\u001b[0m\u001b[0mresources\u001b[0m\u001b[0;34m.\u001b[0m\u001b[0mpath\u001b[0m\u001b[0;34m(\u001b[0m\u001b[0;34m\"purviewcli.ninja\"\u001b[0m\u001b[0;34m,\u001b[0m \u001b[0;34m\"sources\"\u001b[0m\u001b[0;34m)\u001b[0m \u001b[0;32mas\u001b[0m \u001b[0mfilepath\u001b[0m\u001b[0;34m:\u001b[0m\u001b[0;34m\u001b[0m\u001b[0;34m\u001b[0m\u001b[0m\n\u001b[0m\u001b[1;32m     13\u001b[0m         \u001b[0mprint\u001b[0m\u001b[0;34m(\u001b[0m\u001b[0mfilepath\u001b[0m\u001b[0;34m)\u001b[0m\u001b[0;34m\u001b[0m\u001b[0;34m\u001b[0m\u001b[0m\n\u001b[1;32m     14\u001b[0m         \u001b[0;31m# try:\u001b[0m\u001b[0;34m\u001b[0m\u001b[0;34m\u001b[0m\u001b[0;34m\u001b[0m\u001b[0m\n",
                        "\u001b[0;32m/usr/local/Cellar/python@3.9/3.9.1_6/Frameworks/Python.framework/Versions/3.9/lib/python3.9/contextlib.py\u001b[0m in \u001b[0;36m__enter__\u001b[0;34m(self)\u001b[0m\n\u001b[1;32m    115\u001b[0m         \u001b[0;32mdel\u001b[0m \u001b[0mself\u001b[0m\u001b[0;34m.\u001b[0m\u001b[0margs\u001b[0m\u001b[0;34m,\u001b[0m \u001b[0mself\u001b[0m\u001b[0;34m.\u001b[0m\u001b[0mkwds\u001b[0m\u001b[0;34m,\u001b[0m \u001b[0mself\u001b[0m\u001b[0;34m.\u001b[0m\u001b[0mfunc\u001b[0m\u001b[0;34m\u001b[0m\u001b[0;34m\u001b[0m\u001b[0m\n\u001b[1;32m    116\u001b[0m         \u001b[0;32mtry\u001b[0m\u001b[0;34m:\u001b[0m\u001b[0;34m\u001b[0m\u001b[0;34m\u001b[0m\u001b[0m\n\u001b[0;32m--> 117\u001b[0;31m             \u001b[0;32mreturn\u001b[0m \u001b[0mnext\u001b[0m\u001b[0;34m(\u001b[0m\u001b[0mself\u001b[0m\u001b[0;34m.\u001b[0m\u001b[0mgen\u001b[0m\u001b[0;34m)\u001b[0m\u001b[0;34m\u001b[0m\u001b[0;34m\u001b[0m\u001b[0m\n\u001b[0m\u001b[1;32m    118\u001b[0m         \u001b[0;32mexcept\u001b[0m \u001b[0mStopIteration\u001b[0m\u001b[0;34m:\u001b[0m\u001b[0;34m\u001b[0m\u001b[0;34m\u001b[0m\u001b[0m\n\u001b[1;32m    119\u001b[0m             \u001b[0;32mraise\u001b[0m \u001b[0mRuntimeError\u001b[0m\u001b[0;34m(\u001b[0m\u001b[0;34m\"generator didn't yield\"\u001b[0m\u001b[0;34m)\u001b[0m \u001b[0;32mfrom\u001b[0m \u001b[0;32mNone\u001b[0m\u001b[0;34m\u001b[0m\u001b[0;34m\u001b[0m\u001b[0m\n",
                        "\u001b[0;32m/usr/local/Cellar/python@3.9/3.9.1_6/Frameworks/Python.framework/Versions/3.9/lib/python3.9/importlib/resources.py\u001b[0m in \u001b[0;36m_path_from_reader\u001b[0;34m(reader, resource)\u001b[0m\n\u001b[1;32m    173\u001b[0m         \u001b[0;32myield\u001b[0m \u001b[0mPath\u001b[0m\u001b[0;34m(\u001b[0m\u001b[0mreader\u001b[0m\u001b[0;34m.\u001b[0m\u001b[0mresource_path\u001b[0m\u001b[0;34m(\u001b[0m\u001b[0mnorm_resource\u001b[0m\u001b[0;34m)\u001b[0m\u001b[0;34m)\u001b[0m\u001b[0;34m\u001b[0m\u001b[0;34m\u001b[0m\u001b[0m\n\u001b[1;32m    174\u001b[0m         \u001b[0;32mreturn\u001b[0m\u001b[0;34m\u001b[0m\u001b[0;34m\u001b[0m\u001b[0m\n\u001b[0;32m--> 175\u001b[0;31m     \u001b[0mopener_reader\u001b[0m \u001b[0;34m=\u001b[0m \u001b[0mreader\u001b[0m\u001b[0;34m.\u001b[0m\u001b[0mopen_resource\u001b[0m\u001b[0;34m(\u001b[0m\u001b[0mnorm_resource\u001b[0m\u001b[0;34m)\u001b[0m\u001b[0;34m\u001b[0m\u001b[0;34m\u001b[0m\u001b[0m\n\u001b[0m\u001b[1;32m    176\u001b[0m     \u001b[0;32mwith\u001b[0m \u001b[0m_common\u001b[0m\u001b[0;34m.\u001b[0m\u001b[0m_tempfile\u001b[0m\u001b[0;34m(\u001b[0m\u001b[0mopener_reader\u001b[0m\u001b[0;34m.\u001b[0m\u001b[0mread\u001b[0m\u001b[0;34m,\u001b[0m \u001b[0msuffix\u001b[0m\u001b[0;34m=\u001b[0m\u001b[0mnorm_resource\u001b[0m\u001b[0;34m)\u001b[0m \u001b[0;32mas\u001b[0m \u001b[0mres\u001b[0m\u001b[0;34m:\u001b[0m\u001b[0;34m\u001b[0m\u001b[0;34m\u001b[0m\u001b[0m\n\u001b[1;32m    177\u001b[0m         \u001b[0;32myield\u001b[0m \u001b[0mres\u001b[0m\u001b[0;34m\u001b[0m\u001b[0;34m\u001b[0m\u001b[0m\n",
                        "\u001b[0;32m/usr/local/Cellar/python@3.9/3.9.1_6/Frameworks/Python.framework/Versions/3.9/lib/python3.9/importlib/_bootstrap_external.py\u001b[0m in \u001b[0;36mopen_resource\u001b[0;34m(self, resource)\u001b[0m\n",
                        "\u001b[0;31mIsADirectoryError\u001b[0m: [Errno 21] Is a directory: '/Users/taygan/Documents/Developer/purviewcli/purviewcli/purviewcli/ninja/sources'"
                    ]
                }
            ],
            "source": [
                "import importlib.resources, json\n",
                "import os\n",
                "import tempfile\n",
                "\n",
                "with importlib.resources.path(\"purviewcli.ninja.sources\", \"sources.json\") as filepath:\n",
                "    with open(filepath) as f:\n",
                "        sources = json.load(f)\n",
                "\n",
                "for source in sources:\n",
                "    dataSourceName = source['name']\n",
                "    # filename = f'{dataSourceName}.json'\n",
                "    with importlib.resources.path(\"purviewcli.ninja\", \"sources\") as filepath:\n",
                "        print(filepath)\n",
                "        # try:\n",
                "        #     with open(filepath, 'w') as f:\n",
                "        #         json.dump(source, f, indent=4, sort_keys=True)\n",
                "        #     !pv scan putDataSource --dataSourceName \"{dataSourceName}\" --payload-file \"{filename}\"\n",
                "        # finally:\n",
                "        #     os.remove(filepath)"
            ]
        },
        {
            "cell_type": "code",
            "execution_count": null,
            "metadata": {},
            "outputs": [],
            "source": [
                "!pv scan putDataSource --dataSourceName {dataSourceName} --payload-file {filename}"
            ]
        },
        {
            "cell_type": "code",
            "execution_count": null,
            "metadata": {},
            "outputs": [],
            "source": [
                "os.environ['PURVIEW_NAME'] = \"purview-sandbox\"\n",
                "dataSourceName = 'Fabrikam'\n",
                "path = '/private/var/folders/80/9vvy1y494sgbxqwb3pq8n87c0000gn/T/tmpg09b907d.json'\n",
                "# !pv scan putDataSource --dataSourceName \"Fabrikam\" --payload-file \"/private/var/folders/80/9vvy1y494sgbxqwb3pq8n87c0000gn/T/tmpg09b907d.json\"\n",
                "!pv scan putDataSource --dataSourceName {dataSourceName} --payload-file {path}"
            ]
        },
        {
            "cell_type": "code",
            "execution_count": null,
            "metadata": {},
            "outputs": [],
            "source": [
                "!pv scan"
            ]
        },
        {
            "cell_type": "code",
            "execution_count": null,
            "metadata": {},
            "outputs": [],
            "source": []
        }
    ]
}