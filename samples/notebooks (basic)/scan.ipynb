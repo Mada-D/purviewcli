{
    "cells": [
        {
            "cell_type": "markdown",
            "metadata": {
                "azdata_cell_guid": "42fb003c-adf1-4eed-a34a-ebf8d53dc75e"
            },
            "source": [
                "# Scanning Data Plane"
            ]
        },
        {
            "cell_type": "code",
            "execution_count": null,
            "metadata": {
                "azdata_cell_guid": "fa059e9f-27cd-4b93-b8cc-4f68bff46116"
            },
            "outputs": [],
            "source": [
                "# Install/Upgrade purviewcli package\n",
                "%pip install --upgrade purviewcli"
            ]
        },
        {
            "cell_type": "code",
            "execution_count": null,
            "metadata": {
                "azdata_cell_guid": "c5ec8581-3c04-4b60-b3e9-3b41571832fc"
            },
            "outputs": [],
            "source": [
                "# Environment Variables\n",
                "%env PURVIEW_NAME=YOUR_PURVIEW_ACCOUNT\n",
                "%env AZURE_CLIENT_ID=YOUR_CLIENT_ID\n",
                "%env AZURE_TENANT_ID=YOUR_TENANT_ID\n",
                "%env AZURE_CLIENT_SECRET=YOUR_CLIENT_SECRET"
            ]
        },
        {
            "cell_type": "code",
            "execution_count": null,
            "metadata": {
                "azdata_cell_guid": "8facf121-f510-48c4-bf99-433bb568432a"
            },
            "outputs": [],
            "source": [
                "# Commands\n",
                "!pv scan --help"
            ]
        },
        {
            "cell_type": "markdown",
            "metadata": {},
            "source": [
                "## Classification Rules"
            ]
        },
        {
            "cell_type": "code",
            "execution_count": null,
            "metadata": {},
            "outputs": [],
            "source": [
                "# Create or Update\n",
                "!pv scan putClassificationRule --classificationRuleName \"BANK_ACCOUNT_NUMBER\" --payload-file \"C:\\Users\\tarifat\\Downloads\\purviewcli\\samples\\json\\scan\\classification_rule.json\""
            ]
        },
        {
            "cell_type": "code",
            "execution_count": null,
            "metadata": {},
            "outputs": [],
            "source": [
                "# Delete\n",
                "!pv scan deleteClassificationRule --classificationRuleName \"BANK_ACCOUNT_NUMBER\""
            ]
        },
        {
            "cell_type": "code",
            "execution_count": null,
            "metadata": {},
            "outputs": [],
            "source": [
                "# Get\n",
                "!pv scan readClassificationRule --classificationRuleName \"BANK_ACCOUNT_NUMBER\""
            ]
        },
        {
            "cell_type": "code",
            "execution_count": null,
            "metadata": {},
            "outputs": [],
            "source": [
                "# List All\n",
                "!pv scan readClassificationRules"
            ]
        },
        {
            "cell_type": "code",
            "execution_count": null,
            "metadata": {},
            "outputs": [],
            "source": [
                "# List Versions By Classification Rule Name\n",
                "!pv scan readClassificationRuleVersions --classificationRuleName \"BANK_ACCOUNT_NUMBER\""
            ]
        },
        {
            "cell_type": "markdown",
            "metadata": {},
            "source": [
                "## Data Sources"
            ]
        },
        {
            "cell_type": "code",
            "execution_count": null,
            "metadata": {},
            "outputs": [],
            "source": [
                "# Create or Update\n",
                "!pv scan putDataSource --dataSourceName \"DataSource2\" --payload-file \"C:\\Users\\tarifat\\Downloads\\purviewcli\\samples\\json\\scan\\scan_source.json\""
            ]
        },
        {
            "cell_type": "code",
            "execution_count": null,
            "metadata": {},
            "outputs": [],
            "source": [
                "# Delete\n",
                "!pv scan deleteDataSource --dataSourceName \"DataSource2\""
            ]
        },
        {
            "cell_type": "code",
            "execution_count": null,
            "metadata": {},
            "outputs": [],
            "source": [
                "# Get\n",
                "!pv scan readDatasource --dataSourceName \"DataSource2\""
            ]
        },
        {
            "cell_type": "code",
            "execution_count": null,
            "metadata": {},
            "outputs": [],
            "source": [
                "# List All\n",
                "!pv scan readDatasources"
            ]
        },
        {
            "cell_type": "markdown",
            "metadata": {},
            "source": [
                "## Filters"
            ]
        },
        {
            "cell_type": "code",
            "execution_count": null,
            "metadata": {},
            "outputs": [],
            "source": [
                "# Create or Update\n",
                "!pv scan putFilter --dataSourceName \"AzureDataLakeStorage-kl2\" --scanName \"Scan-HcH\" --payload-file \"C:\\Users\\tarifat\\Downloads\\purviewcli\\samples\\json\\scan\\scan_filter.json\""
            ]
        },
        {
            "cell_type": "code",
            "execution_count": null,
            "metadata": {},
            "outputs": [],
            "source": [
                "# Get\n",
                "!pv scan readFilters --dataSourceName \"AzureDataLakeStorage-kl2\" --scanName \"Scan-HcH\""
            ]
        },
        {
            "cell_type": "markdown",
            "metadata": {},
            "source": [
                "## Key Vault Connections"
            ]
        },
        {
            "cell_type": "code",
            "execution_count": null,
            "metadata": {},
            "outputs": [],
            "source": [
                "# Create\n",
                "!pv scan putKeyVault --keyVaultName \"babylon\" --payload-file \"C:\\Users\\tarifat\\Downloads\\purviewcli\\samples\\json\\scan\\scan_keyvault.json\""
            ]
        },
        {
            "cell_type": "code",
            "execution_count": null,
            "metadata": {},
            "outputs": [],
            "source": [
                "# Delete\n",
                "!pv scan deleteKeyVault --keyVaultName \"babylon\""
            ]
        },
        {
            "cell_type": "code",
            "execution_count": null,
            "metadata": {},
            "outputs": [],
            "source": [
                "# Get\n",
                "!pv scan readKeyVault --keyVaultName \"babylon\""
            ]
        },
        {
            "cell_type": "code",
            "execution_count": null,
            "metadata": {},
            "outputs": [],
            "source": [
                "# List All\n",
                "!pv scan readKeyVaults"
            ]
        },
        {
            "cell_type": "markdown",
            "metadata": {},
            "source": [
                "## Scan Result"
            ]
        },
        {
            "cell_type": "code",
            "execution_count": null,
            "metadata": {},
            "outputs": [],
            "source": [
                "# List Scan History\n",
                "!pv scan readScanHistory --dataSourceName \"AzureDataLakeStorage-kl2\" --scanName \"Scan-HcH\""
            ]
        },
        {
            "cell_type": "code",
            "execution_count": null,
            "metadata": {},
            "outputs": [],
            "source": [
                "# Run Scan\n",
                "!pv scan runScan --dataSourceName \"AzureDataLakeStorage-kl2\" --scanName \"Scan-HcH\" --runId \"badcd5a1-6a84-4367-929e-33eb6777b1fa\""
            ]
        },
        {
            "cell_type": "markdown",
            "metadata": {},
            "source": [
                "## Scan Rulesets"
            ]
        },
        {
            "cell_type": "code",
            "execution_count": null,
            "metadata": {},
            "outputs": [],
            "source": [
                "# Create or Update\n",
                "!pv scan putScanRuleset --scanRulesetName \"myScanRuleset\" --payload-file \"C:\\Users\\tarifat\\Downloads\\purviewcli\\samples\\json\\scan\\scan_ruleset.json\""
            ]
        },
        {
            "cell_type": "code",
            "execution_count": null,
            "metadata": {},
            "outputs": [],
            "source": [
                "# Delete\n",
                "!pv scan deleteScanRuleset --scanRulesetName \"myScanRuleset\""
            ]
        },
        {
            "cell_type": "code",
            "execution_count": null,
            "metadata": {},
            "outputs": [],
            "source": [
                "# Get\n",
                "!pv scan readScanRuleset --scanRulesetName \"myScanRuleset\""
            ]
        },
        {
            "cell_type": "code",
            "execution_count": null,
            "metadata": {},
            "outputs": [],
            "source": [
                "# List All\n",
                "!pv scan readScanRulesets"
            ]
        },
        {
            "cell_type": "markdown",
            "metadata": {},
            "source": [
                "## Scans"
            ]
        },
        {
            "cell_type": "code",
            "execution_count": null,
            "metadata": {},
            "outputs": [],
            "source": [
                "# Create or Update\n",
                "!pv scan putScan --dataSourceName \"DataSource2\" --scanName \"myScan\" --payload-file \"C:\\Users\\tarifat\\Downloads\\purviewcli\\samples\\json\\scan\\scan.json\""
            ]
        },
        {
            "cell_type": "code",
            "execution_count": null,
            "metadata": {},
            "outputs": [],
            "source": [
                "# Delete\n",
                "!pv scan deleteScan --dataSourceName \"DataSource2\" --scanName \"myScan\""
            ]
        },
        {
            "cell_type": "code",
            "execution_count": null,
            "metadata": {},
            "outputs": [],
            "source": [
                "# Get\n",
                "!pv scan readScan --dataSourceName \"DataSource2\" --scanName \"myScan\""
            ]
        },
        {
            "cell_type": "code",
            "execution_count": null,
            "metadata": {},
            "outputs": [],
            "source": [
                "# List By Data Source\n",
                "!pv scan readScans --dataSourceName \"DataSource2\""
            ]
        },
        {
            "cell_type": "markdown",
            "metadata": {},
            "source": [
                "## System Scan Rulesets"
            ]
        },
        {
            "cell_type": "code",
            "execution_count": null,
            "metadata": {},
            "outputs": [],
            "source": [
                "# Get\n",
                "!pv scan readSystemScanRuleset --dataSourceType \"AdlsGen2\""
            ]
        },
        {
            "cell_type": "code",
            "execution_count": null,
            "metadata": {},
            "outputs": [],
            "source": [
                "# Get By Version\n",
                "!pv scan readSystemScanRulesetVersion --version \"2\" --dataSourceType \"AdlsGen2\""
            ]
        },
        {
            "cell_type": "code",
            "execution_count": null,
            "metadata": {},
            "outputs": [],
            "source": [
                "# Get Latest\n",
                "!pv scan readSystemScanRulesetLatest --dataSourceType \"AdlsGen2\""
            ]
        },
        {
            "cell_type": "code",
            "execution_count": null,
            "metadata": {},
            "outputs": [],
            "source": [
                "# List All\n",
                "!pv scan readSystemScanRulesets"
            ]
        },
        {
            "cell_type": "code",
            "execution_count": null,
            "metadata": {},
            "outputs": [],
            "source": [
                "# List Versions By Data Source\n",
                "!pv scan readSystemScanRulesetVersions --dataSourceType \"AdlsGen2\""
            ]
        },
        {
            "cell_type": "markdown",
            "metadata": {},
            "source": [
                "## Triggers"
            ]
        },
        {
            "cell_type": "code",
            "execution_count": null,
            "metadata": {},
            "outputs": [],
            "source": [
                "# Create\n",
                "!pv scan putTrigger --dataSourceName \"DataSource2\" --scanName \"myScan\" --payload-file \"C:\\Users\\tarifat\\Downloads\\purviewcli\\samples\\json\\scan\\scan_trigger.json\""
            ]
        },
        {
            "cell_type": "code",
            "execution_count": null,
            "metadata": {},
            "outputs": [],
            "source": [
                "# Delete\n",
                "!pv scan deleteTrigger --dataSourceName \"DataSource2\" --scanName \"myScan"
            ]
        },
        {
            "cell_type": "code",
            "execution_count": null,
            "metadata": {},
            "outputs": [],
            "source": [
                "# Get\n",
                "!pv scan readTrigger --dataSourceName \"DataSource2\" --scanName \"myScan"
            ]
        }
    ],
    "metadata": {
        "interpreter": {
            "hash": "12e36838d520b1a5d9d0c411170e079c62a783e05fdada350eba99892041e52f"
        },
        "kernelspec": {
            "display_name": "Python 3.9.2 64-bit ('env': venv)",
            "name": "python3"
        },
        "language_info": {
            "name": "python",
            "version": ""
        },
        "metadata": {
            "interpreter": {
                "hash": "12e36838d520b1a5d9d0c411170e079c62a783e05fdada350eba99892041e52f"
            }
        }
    },
    "nbformat": 4,
    "nbformat_minor": 2
}