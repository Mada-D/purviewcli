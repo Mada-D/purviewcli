{
    "metadata": {
        "kernelspec": {
            "name": "python3",
            "display_name": "Python 3",
            "language": "python"
        },
        "language_info": {
            "name": "python",
            "version": "3.6.6",
            "mimetype": "text/x-python",
            "codemirror_mode": {
                "name": "ipython",
                "version": 3
            },
            "pygments_lexer": "ipython3",
            "nbconvert_exporter": "python",
            "file_extension": ".py"
        }
    },
    "nbformat_minor": 2,
    "nbformat": 4,
    "cells": [
        {
            "cell_type": "markdown",
            "source": [
                "# Types\n",
                "\n",
                "### **Pre-requisite**\n",
                "\n",
                "Install required Python packages."
            ],
            "metadata": {
                "azdata_cell_guid": "42fb003c-adf1-4eed-a34a-ebf8d53dc75e"
            }
        },
        {
            "cell_type": "code",
            "source": [
                "%pip install --upgrade purviewcli"
            ],
            "metadata": {
                "azdata_cell_guid": "fa059e9f-27cd-4b93-b8cc-4f68bff46116"
            },
            "outputs": [],
            "execution_count": null
        },
        {
            "cell_type": "markdown",
            "source": [
                "**Set the Environment Variable**\n",
                "\n",
                "Before purviewcli can be used, the environment variable `PURVIEW_NAME` needs to be set."
            ],
            "metadata": {
                "azdata_cell_guid": "f2c9d29c-d3b2-48aa-9c37-f85b2adb8d58"
            }
        },
        {
            "cell_type": "code",
            "source": [
                "%env PURVIEW_NAME=purview-sandbox"
            ],
            "metadata": {
                "azdata_cell_guid": "c5ec8581-3c04-4b60-b3e9-3b41571832fc"
            },
            "outputs": [],
            "execution_count": null
        },
        {
            "cell_type": "markdown",
            "source": [
                "## Examples"
            ],
            "metadata": {
                "azdata_cell_guid": "76bec8ed-fff9-49b5-80d9-d4b045d3ffb1"
            }
        },
        {
            "cell_type": "code",
            "source": [
                "# Get Typedefs Headers\n",
                "!pv types readTypedefsHeaders"
            ],
            "metadata": {
                "azdata_cell_guid": "96ea4dbd-8e47-46ce-a4db-03b1e1382445"
            },
            "outputs": [],
            "execution_count": null
        },
        {
            "cell_type": "code",
            "source": [
                "# Get Typedefs by Category\n",
                "category = 'relationship'\n",
                "!pv types readTypedefs --type {category}"
            ],
            "metadata": {
                "azdata_cell_guid": "d804fbdd-f23e-43bd-aef8-78809c649738"
            },
            "outputs": [],
            "execution_count": null
        },
        {
            "cell_type": "code",
            "source": [
                "# Get Typedef by Name\n",
                "name = 'azure_sql_table'\n",
                "!pv types readTypedef --name {name}"
            ],
            "metadata": {
                "azdata_cell_guid": "403bccb8-a00c-4a2c-aeac-bd42fdbd1e6c"
            },
            "outputs": [],
            "execution_count": null
        },
        {
            "cell_type": "code",
            "source": [
                "# Create a Typedef\n",
                "category = 'ENTITY'\n",
                "defName = 'my_entity_def'\n",
                "!pv types createTypedefs --category {category} --defName {defName}"
            ],
            "metadata": {
                "azdata_cell_guid": "dcb659ac-e96a-46b1-ae0e-612154fa7a9e"
            },
            "outputs": [],
            "execution_count": null
        },
        {
            "cell_type": "code",
            "source": [
                "# Delete a Typedef\n",
                "!pv types deleteTypedefs --defName 'my_entity_def'"
            ],
            "metadata": {
                "azdata_cell_guid": "ce292839-d80b-44d7-886f-ed7c1eb4e23b"
            },
            "outputs": [],
            "execution_count": null
        }
    ]
}