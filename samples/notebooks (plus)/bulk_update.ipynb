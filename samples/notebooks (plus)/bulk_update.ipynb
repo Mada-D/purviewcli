{
 "cells": [
  {
   "cell_type": "markdown",
   "metadata": {},
   "source": [
    "# Update Entity Description from CSV"
   ]
  },
  {
   "cell_type": "code",
   "execution_count": 54,
   "metadata": {},
   "outputs": [
    {
     "name": "stdout",
     "output_type": "stream",
     "text": [
      "env: PURVIEW_NAME=pvdemofm2ie-pv\n"
     ]
    }
   ],
   "source": [
    "# Set the environment variable\n",
    "%env PURVIEW_NAME=pvdemofm2ie-pv"
   ]
  },
  {
   "cell_type": "code",
   "execution_count": 55,
   "metadata": {},
   "outputs": [],
   "source": [
    "# Helper Methods\n",
    "import json\n",
    "def getJSON(raw_output):\n",
    "    output = ''.join(raw_output)\n",
    "    json_obj = json.loads(output)\n",
    "    return json_obj"
   ]
  },
  {
   "cell_type": "code",
   "execution_count": 56,
   "metadata": {},
   "outputs": [],
   "source": [
    "# Get GUID via Fully Qualified Name\n",
    "def getGuid(type_name, fully_qualified_name):\n",
    " data = !pv entity readUniqueAttribute --typeName {type_name} --qualifiedName {fully_qualified_name}\n",
    " data = getJSON(data)\n",
    " guid = data['entity']['guid']\n",
    " return guid"
   ]
  },
  {
   "cell_type": "code",
   "execution_count": 57,
   "metadata": {},
   "outputs": [
    {
     "name": "stdout",
     "output_type": "stream",
     "text": [
      "fa4b7d27-c672-4950-b0a9-08f6f6f60000 This is a long description, hello world.\n",
      "1d87bcd0-1428-424c-9ff8-45b854f73037 Another description ABC.\n",
      "93d777ec-6c30-430c-8587-4eda92fb0231 Another description XYZ.\n"
     ]
    }
   ],
   "source": [
    "# Update Entity Description from CSV\n",
    "from csv import reader\n",
    "with open (\"../csv/entities.csv\", \"r\") as csv_file:\n",
    "    csv_reader = reader(csv_file)\n",
    "    next(csv_reader)\n",
    "    for row in csv_reader:\n",
    "        type_name, fully_qualified_name, description = row[0], row[1], row[2]\n",
    "        guid = getGuid(type_name, fully_qualified_name)\n",
    "        !pv entity put --guid {guid} --attrName \"description\" --attrValue \"{description}\" > \"{guid}.json\"\n",
    "        print(guid, description)"
   ]
  }
 ],
 "metadata": {
  "interpreter": {
   "hash": "12e36838d520b1a5d9d0c411170e079c62a783e05fdada350eba99892041e52f"
  },
  "kernelspec": {
   "display_name": "Python 3.9.2 64-bit ('env': venv)",
   "language": "python",
   "name": "python3"
  },
  "language_info": {
   "codemirror_mode": {
    "name": "ipython",
    "version": 3
   },
   "file_extension": ".py",
   "mimetype": "text/x-python",
   "name": "python",
   "nbconvert_exporter": "python",
   "pygments_lexer": "ipython3",
   "version": "3.9.2"
  },
  "orig_nbformat": 4
 },
 "nbformat": 4,
 "nbformat_minor": 2
}
