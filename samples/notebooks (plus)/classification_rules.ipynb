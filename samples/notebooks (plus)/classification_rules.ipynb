{
 "cells": [
  {
   "cell_type": "markdown",
   "metadata": {},
   "source": [
    "# Classification Rules\n",
    "Example on how to work with classification rules in Azure Purview."
   ]
  },
  {
   "cell_type": "code",
   "execution_count": 2,
   "metadata": {},
   "outputs": [
    {
     "name": "stdout",
     "output_type": "stream",
     "text": [
      "env: PURVIEW_NAME=pvdemofm2ie-pv\n"
     ]
    }
   ],
   "source": [
    "%env PURVIEW_NAME=pvdemofm2ie-pv"
   ]
  },
  {
   "cell_type": "code",
   "execution_count": 3,
   "metadata": {},
   "outputs": [],
   "source": [
    "# Initialise Helper Method\n",
    "import json\n",
    "def getJSON(raw_output):\n",
    "    output = ''.join(raw_output)\n",
    "    json_obj = json.loads(output)\n",
    "    return json_obj"
   ]
  },
  {
   "cell_type": "code",
   "execution_count": 4,
   "metadata": {},
   "outputs": [],
   "source": [
    "# Get Classification Rules\n",
    "data = !pv scan readClassificationRules\n",
    "data = getJSON(data)"
   ]
  },
  {
   "cell_type": "code",
   "execution_count": 5,
   "metadata": {},
   "outputs": [
    {
     "name": "stdout",
     "output_type": "stream",
     "text": [
      "Name:\t\tTwitterHandleRule\n",
      "Classification:\tTwitter Handle\n",
      "Data Pattern:\t[{'kind': 'Regex', 'pattern': '^@[a-zA-Z0-9]{5,15}$'}]\n",
      "Bloom Filter:\tNone\n",
      "\n",
      "\n",
      "Name:\t\tanother_rule\n",
      "Classification:\tMICROSOFT.PERSONAL.AGE\n",
      "Data Pattern:\t[{'kind': 'Regex', 'pattern': '$*$'}]\n",
      "Bloom Filter:\tNone\n",
      "\n",
      "\n",
      "Name:\t\tdict_rule\n",
      "Classification:\tMICROSOFT.GOVERNMENT.AUSTRALIA.MEDICAL_ACCOUNT_NUMBER\n",
      "Data Pattern:\t[]\n",
      "Bloom Filter:\t{'bloomFilterName': 'custom-bf-4ec4d025-b2fd-4868-a523-b09203d115cf', 'cookedBloomFilter': None, 'sourceFileName': 'partners.csv'}\n",
      "\n",
      "\n"
     ]
    }
   ],
   "source": [
    "# Print Classification Rules\n",
    "for rule in data['value']:\n",
    "    print(f\"Name:\\t\\t{rule['name']}\")\n",
    "    print(f\"Classification:\\t{rule['properties']['classificationName']}\")\n",
    "    print(f\"Data Pattern:\\t{rule['properties']['dataPatterns']}\")\n",
    "    print(f\"Bloom Filter:\\t{rule['properties']['classificationRuleBloomFilter']}\")\n",
    "    print(\"\\n\")"
   ]
  }
 ],
 "metadata": {
  "interpreter": {
   "hash": "574e4e3fa2caffcca541e866ecc3c3fa6a3324d93e0b2e094715f4fe33f8825b"
  },
  "kernelspec": {
   "display_name": "Python 3.9.2 64-bit",
   "name": "python3"
  },
  "language_info": {
   "codemirror_mode": {
    "name": "ipython",
    "version": 3
   },
   "file_extension": ".py",
   "mimetype": "text/x-python",
   "name": "python",
   "nbconvert_exporter": "python",
   "pygments_lexer": "ipython3",
   "version": "3.9.2"
  },
  "orig_nbformat": 4
 },
 "nbformat": 4,
 "nbformat_minor": 2
}
