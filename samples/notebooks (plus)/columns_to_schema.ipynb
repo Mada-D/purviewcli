{
 "metadata": {
  "language_info": {
   "codemirror_mode": {
    "name": "ipython",
    "version": 3
   },
   "file_extension": ".py",
   "mimetype": "text/x-python",
   "name": "python",
   "nbconvert_exporter": "python",
   "pygments_lexer": "ipython3",
   "version": "3.9.2"
  },
  "orig_nbformat": 2,
  "kernelspec": {
   "name": "python392jvsc74a57bd0574e4e3fa2caffcca541e866ecc3c3fa6a3324d93e0b2e094715f4fe33f8825b",
   "display_name": "Python 3.9.2 64-bit"
  },
  "metadata": {
   "interpreter": {
    "hash": "574e4e3fa2caffcca541e866ecc3c3fa6a3324d93e0b2e094715f4fe33f8825b"
   }
  }
 },
 "nbformat": 4,
 "nbformat_minor": 2,
 "cells": [
  {
   "source": [
    "# Column to Tabular Schema\n",
    "This notebook is an example of how purviewcli can be used to:  \n",
    "\n",
    "  1. Create a batch of entities (typeName: column).\n",
    "  2. Programatically associate those entities to a tabular schema by establishing a \"relationship\"."
   ],
   "cell_type": "markdown",
   "metadata": {}
  },
  {
   "source": [
    "## Pre-requisites"
   ],
   "cell_type": "markdown",
   "metadata": {}
  },
  {
   "cell_type": "code",
   "execution_count": null,
   "metadata": {},
   "outputs": [],
   "source": [
    "# Initialise Helper Method\n",
    "import json\n",
    "def getJSON(raw_output):\n",
    "    output = ''.join(raw_output)\n",
    "    json_obj = json.loads(output)\n",
    "    return json_obj"
   ]
  },
  {
   "cell_type": "code",
   "execution_count": null,
   "metadata": {},
   "outputs": [],
   "source": [
    "# Install/Upgrade purviewcli package\n",
    "%pip install --upgrade purviewcli"
   ]
  },
  {
   "cell_type": "code",
   "execution_count": null,
   "metadata": {},
   "outputs": [],
   "source": [
    "# Set Environment Variables\n",
    "%env PURVIEW_NAME=YOUR_PURVIEW_ACCOUNT\n",
    "%env AZURE_CLIENT_ID=YOUR_CLIENT_ID\n",
    "%env AZURE_TENANT_ID=YOUR_TENANT_ID\n",
    "%env AZURE_CLIENT_SECRET=YOUR_CLIENT_SECRET"
   ]
  },
  {
   "source": [
    "## Script"
   ],
   "cell_type": "markdown",
   "metadata": {}
  },
  {
   "cell_type": "code",
   "execution_count": null,
   "metadata": {},
   "outputs": [],
   "source": [
    "# Step 1: Create a batch of entities (typeName: column)\n",
    "data = !pv entity createBulk --payload-file \"C:\\Users\\tarifat\\Downloads\\temp\\notebooks\\column_entities.json\"\n",
    "response = getJSON(data)\n",
    "print(response)"
   ]
  },
  {
   "cell_type": "code",
   "execution_count": null,
   "metadata": {},
   "outputs": [],
   "source": [
    "# Step 2: Loop through entities and establish a relationship to the parent tabular schema (relationship type: tabular_schema_columns)\n",
    "counter = 0\n",
    "for entity in response['mutatedEntities']['CREATE']:\n",
    "    counter += 1\n",
    "    guid = entity['guid']\n",
    "    qualifiedName = entity['attributes']['qualifiedName']\n",
    "    relationship_payload = {\n",
    "        \"end1\": {\n",
    "            \"guid\": \"540e4f2f-66ac-49b0-b5c1-98f6f6f60000\",\n",
    "            \"typeName\": \"tabular_schema\",\n",
    "            \"uniqueAttributes\": {\n",
    "                \"qualifiedName\": \"https://adls8951.dfs.core.windows.net/other/lots_of_cols.csv#__tabular_schema\"\n",
    "            }\n",
    "        },\n",
    "        \"end2\": {\n",
    "            \"guid\": f\"{guid}\",\n",
    "            \"typeName\": \"column\",\n",
    "            \"uniqueAttributes\": {\n",
    "                \"qualifiedName\": f\"{qualifiedName}\"\n",
    "            }\n",
    "        },\n",
    "        \"status\": \"ACTIVE\",\n",
    "        \"typeName\": \"tabular_schema_columns\"\n",
    "    }\n",
    "    filename = f'rel_{counter}.json'\n",
    "    with open(filename,'w') as f:\n",
    "        json.dump(relationship_payload, f)\n",
    "    !pv relationship create --payload-file {filename}"
   ]
  },
  {
   "cell_type": "code",
   "execution_count": null,
   "metadata": {},
   "outputs": [],
   "source": []
  }
 ]
}