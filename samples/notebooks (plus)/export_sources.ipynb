{
 "cells": [
  {
   "cell_type": "markdown",
   "metadata": {},
   "source": [
    "# Export Data Sources and Collections\n",
    "This notebook is an example of how to export sources to CSV."
   ]
  },
  {
   "cell_type": "code",
   "execution_count": 1,
   "metadata": {},
   "outputs": [],
   "source": [
    "purviewName = \"purview-sandbox\""
   ]
  },
  {
   "cell_type": "code",
   "execution_count": 2,
   "metadata": {},
   "outputs": [],
   "source": [
    "# Helper Methods\n",
    "import json\n",
    "def getJSON(raw_output):\n",
    "    output = ''.join(raw_output)\n",
    "    json_obj = json.loads(output)\n",
    "    return json_obj\n",
    "\n",
    "import csv\n",
    "def export(table):\n",
    "    with open('output.csv', 'w',newline='', encoding=\"utf-8\") as output:\n",
    "        csv_writer = csv.writer(output)\n",
    "        csv_writer.writerows(table)"
   ]
  },
  {
   "cell_type": "code",
   "execution_count": 3,
   "metadata": {},
   "outputs": [
    {
     "name": "stdout",
     "output_type": "stream",
     "text": [
      "We found 26 sources in account purview-sandbox.\n"
     ]
    }
   ],
   "source": [
    "# Get list of all data sources\n",
    "data = !pv scan readDataSources --purviewName {purviewName}\n",
    "sources = getJSON(data)\n",
    "count = sources['count']\n",
    "print(f'We found {count} sources in account {purviewName}.')"
   ]
  },
  {
   "cell_type": "code",
   "execution_count": 4,
   "metadata": {},
   "outputs": [
    {
     "name": "stdout",
     "output_type": "stream",
     "text": [
      "There are 20 sources and 6 collections.\n"
     ]
    }
   ],
   "source": [
    "# Get source attributes (name, kind, parent)\n",
    "mapCollectionParent = {}\n",
    "sourcesList = []\n",
    "for source in sources['value']:\n",
    "    name = source['name']\n",
    "    kind = source['kind']\n",
    "    if source['properties']['parentCollection'] is not None:\n",
    "        parent = source['properties']['parentCollection']['referenceName']\n",
    "    else:\n",
    "        parent = None\n",
    "\n",
    "    if kind == 'Collection' and parent is not None:\n",
    "        mapCollectionParent[name] = parent\n",
    "    elif kind != 'Collection':\n",
    "        item = {\n",
    "            'name': name,\n",
    "            'kind': kind,\n",
    "            'parent': parent\n",
    "        }\n",
    "        sourcesList.append(item)\n",
    "\n",
    "numberOfSources = len(sourcesList)\n",
    "numberOfCollections = count - numberOfSources\n",
    "print(f'There are {numberOfSources} sources and {numberOfCollections} collections.')\n",
    "    "
   ]
  },
  {
   "cell_type": "code",
   "execution_count": 5,
   "metadata": {},
   "outputs": [
    {
     "name": "stdout",
     "output_type": "stream",
     "text": [
      "Constructed full path names for each collection.\n"
     ]
    }
   ],
   "source": [
    "# Build a map of collection name to collection path\n",
    "mapCollectionPath = {}\n",
    "for collection in mapCollectionParent:\n",
    "    hasParent = True\n",
    "    path = collection\n",
    "    parentCollection = mapCollectionParent[collection]\n",
    "    while hasParent:\n",
    "        path = parentCollection + \" > \" + path\n",
    "        if parentCollection in mapCollectionParent:\n",
    "            parentCollection = mapCollectionParent[parentCollection]\n",
    "        else:\n",
    "            hasParent = False\n",
    "    mapCollectionPath[collection] = path\n",
    "print('Constructed full path names for each collection.')"
   ]
  },
  {
   "cell_type": "code",
   "execution_count": 6,
   "metadata": {},
   "outputs": [
    {
     "name": "stdout",
     "output_type": "stream",
     "text": [
      "Sources exported to CSV.\n"
     ]
    }
   ],
   "source": [
    "# Export to CSV\n",
    "table = []\n",
    "headers = ('name','kind','path')\n",
    "table.append(headers)\n",
    "\n",
    "for source in sourcesList:\n",
    "    parent = source['parent']\n",
    "    path = mapCollectionPath[parent]\n",
    "    row = (source['name'], source['kind'], path)\n",
    "    table.append(row) \n",
    "\n",
    "export(table)\n",
    "print('Sources exported to CSV.')"
   ]
  }
 ],
 "metadata": {
  "interpreter": {
   "hash": "12e36838d520b1a5d9d0c411170e079c62a783e05fdada350eba99892041e52f"
  },
  "kernelspec": {
   "display_name": "Python 3.9.2 64-bit ('env': venv)",
   "name": "python3"
  },
  "language_info": {
   "codemirror_mode": {
    "name": "ipython",
    "version": 3
   },
   "file_extension": ".py",
   "mimetype": "text/x-python",
   "name": "python",
   "nbconvert_exporter": "python",
   "pygments_lexer": "ipython3",
   "version": "3.9.2"
  },
  "orig_nbformat": 4
 },
 "nbformat": 4,
 "nbformat_minor": 2
}
