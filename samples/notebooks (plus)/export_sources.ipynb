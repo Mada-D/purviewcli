{
 "cells": [
  {
   "cell_type": "markdown",
   "metadata": {},
   "source": [
    "# Export Data Sources and Collections\r\n",
    "This notebook is an example of how to export sources to CSV."
   ]
  },
  {
   "cell_type": "code",
   "execution_count": 1,
   "metadata": {},
   "outputs": [],
   "source": [
    "purviewName = \"purview-sandbox\""
   ]
  },
  {
   "cell_type": "code",
   "execution_count": 2,
   "metadata": {},
   "outputs": [],
   "source": [
    "# Helper Methods\r\n",
    "import json\r\n",
    "def getJSON(raw_output):\r\n",
    "    output = ''.join(raw_output)\r\n",
    "    json_obj = json.loads(output)\r\n",
    "    return json_obj\r\n",
    "\r\n",
    "import csv\r\n",
    "def export(table):\r\n",
    "    with open('output.csv', 'w',newline='', encoding=\"utf-8\") as output:\r\n",
    "        csv_writer = csv.writer(output)\r\n",
    "        csv_writer.writerows(table)"
   ]
  },
  {
   "cell_type": "code",
   "execution_count": 3,
   "metadata": {},
   "outputs": [
    {
     "name": "stdout",
     "output_type": "stream",
     "text": [
      "We found 26 sources in account purview-sandbox.\n"
     ]
    }
   ],
   "source": [
    "# Get list of all data sources\r\n",
    "data = !pv scan readDatasources --purviewName {purviewName}\r\n",
    "sources = getJSON(data)\r\n",
    "count = sources['count']\r\n",
    "print(f'We found {count} sources in account {purviewName}.')"
   ]
  },
  {
   "cell_type": "code",
   "execution_count": 4,
   "metadata": {},
   "outputs": [
    {
     "name": "stdout",
     "output_type": "stream",
     "text": [
      "There are 20 sources and 6 collections.\n"
     ]
    }
   ],
   "source": [
    "# Get source attributes (name, kind, parent)\r\n",
    "mapCollectionParent = {}\r\n",
    "sourcesList = []\r\n",
    "for source in sources['value']:\r\n",
    "    name = source['name']\r\n",
    "    kind = source['kind']\r\n",
    "    if source['properties']['parentCollection'] is not None:\r\n",
    "        parent = source['properties']['parentCollection']['referenceName']\r\n",
    "    else:\r\n",
    "        parent = None\r\n",
    "\r\n",
    "    if kind == 'Collection' and parent is not None:\r\n",
    "        mapCollectionParent[name] = parent\r\n",
    "    elif kind != 'Collection':\r\n",
    "        item = {\r\n",
    "            'name': name,\r\n",
    "            'kind': kind,\r\n",
    "            'parent': parent\r\n",
    "        }\r\n",
    "        sourcesList.append(item)\r\n",
    "\r\n",
    "numberOfSources = len(sourcesList)\r\n",
    "numberOfCollections = count - numberOfSources\r\n",
    "print(f'There are {numberOfSources} sources and {numberOfCollections} collections.')\r\n",
    "    "
   ]
  },
  {
   "cell_type": "code",
   "execution_count": 5,
   "metadata": {},
   "outputs": [
    {
     "name": "stdout",
     "output_type": "stream",
     "text": [
      "Constructed full path names for each collection.\n"
     ]
    }
   ],
   "source": [
    "# Build a map of collection name to collection path\r\n",
    "mapCollectionPath = {}\r\n",
    "for collection in mapCollectionParent:\r\n",
    "    hasParent = True\r\n",
    "    path = collection\r\n",
    "    parentCollection = mapCollectionParent[collection]\r\n",
    "    while hasParent:\r\n",
    "        path = parentCollection + \" > \" + path\r\n",
    "        if parentCollection in mapCollectionParent:\r\n",
    "            parentCollection = mapCollectionParent[parentCollection]\r\n",
    "        else:\r\n",
    "            hasParent = False\r\n",
    "    mapCollectionPath[collection] = path\r\n",
    "print('Constructed full path names for each collection.')"
   ]
  },
  {
   "cell_type": "code",
   "execution_count": 6,
   "metadata": {},
   "outputs": [
    {
     "name": "stdout",
     "output_type": "stream",
     "text": [
      "Sources exported to CSV.\n"
     ]
    }
   ],
   "source": [
    "# Export to CSV\r\n",
    "table = []\r\n",
    "headers = ('name','kind','path')\r\n",
    "table.append(headers)\r\n",
    "\r\n",
    "for source in sourcesList:\r\n",
    "    parent = source['parent']\r\n",
    "    path = mapCollectionPath[parent]\r\n",
    "    row = (source['name'], source['kind'], path)\r\n",
    "    table.append(row) \r\n",
    "\r\n",
    "export(table)\r\n",
    "print('Sources exported to CSV.')"
   ]
  }
 ],
 "metadata": {
  "interpreter": {
   "hash": "12e36838d520b1a5d9d0c411170e079c62a783e05fdada350eba99892041e52f"
  },
  "kernelspec": {
   "display_name": "Python 3.9.2 64-bit ('env': venv)",
   "name": "python3"
  },
  "language_info": {
   "codemirror_mode": {
    "name": "ipython",
    "version": 3
   },
   "file_extension": ".py",
   "mimetype": "text/x-python",
   "name": "python",
   "nbconvert_exporter": "python",
   "pygments_lexer": "ipython3",
   "version": "3.9.2"
  },
  "orig_nbformat": 4
 },
 "nbformat": 4,
 "nbformat_minor": 2
}