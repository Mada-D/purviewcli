{
 "metadata": {
  "language_info": {
   "codemirror_mode": {
    "name": "ipython",
    "version": 3
   },
   "file_extension": ".py",
   "mimetype": "text/x-python",
   "name": "python",
   "nbconvert_exporter": "python",
   "pygments_lexer": "ipython3",
   "version": "3.9.2"
  },
  "orig_nbformat": 2,
  "kernelspec": {
   "name": "python392jvsc74a57bd0574e4e3fa2caffcca541e866ecc3c3fa6a3324d93e0b2e094715f4fe33f8825b",
   "display_name": "Python 3.9.2 64-bit"
  },
  "metadata": {
   "interpreter": {
    "hash": "574e4e3fa2caffcca541e866ecc3c3fa6a3324d93e0b2e094715f4fe33f8825b"
   }
  }
 },
 "nbformat": 4,
 "nbformat_minor": 2,
 "cells": [
  {
   "cell_type": "code",
   "execution_count": null,
   "metadata": {},
   "outputs": [],
   "source": [
    "# Install/Upgrade purviewcli package\n",
    "%pip install --upgrade purviewcli"
   ]
  },
  {
   "cell_type": "code",
   "execution_count": 2,
   "metadata": {},
   "outputs": [
    {
     "output_type": "stream",
     "name": "stdout",
     "text": [
      "env: PURVIEW_NAME=purview-sandbox\n"
     ]
    }
   ],
   "source": [
    "# Environment Variables\n",
    "%env PURVIEW_NAME=YOUR_PURVIEW_ACCOUNT\n",
    "%env AZURE_CLIENT_ID=YOUR_CLIENT_ID\n",
    "%env AZURE_TENANT_ID=YOUR_TENANT_ID\n",
    "%env AZURE_CLIENT_SECRET=YOUR_CLIENT_SECRET"
   ]
  },
  {
   "cell_type": "code",
   "execution_count": 3,
   "metadata": {},
   "outputs": [],
   "source": [
    "# Helper Methods\n",
    "import json\n",
    "def getJSON(raw_output):\n",
    "    output = ''.join(raw_output)\n",
    "    json_obj = json.loads(output)\n",
    "    return json_obj\n",
    "\n",
    "import csv\n",
    "def export(table):\n",
    "    with open('output.csv', 'w',newline='', encoding=\"utf-8\") as output:\n",
    "        csv_writer = csv.writer(output)\n",
    "        csv_writer.writerows(table)"
   ]
  },
  {
   "cell_type": "code",
   "execution_count": 4,
   "metadata": {},
   "outputs": [
    {
     "output_type": "stream",
     "name": "stdout",
     "text": [
      "[INFO] Retrieving Sources...\n",
      "1. [AdlsGen2] AzureDataLakeStorage-kl2\n",
      "2. [AdlsGen1] AdlsGen1\n",
      "3. [AdlsGen2] AdlsGen2\n",
      "4. [AzureStorage] AzureStorage\n",
      "5. [AzureSqlDatabase] AzureSqlDatabase\n",
      "6. [AzureSqlDataWarehouse] AzureSqlDataWarehouse\n",
      "7. [SqlServerDatabase] SqlServerDatabase\n",
      "8. [AzureSqlDatabaseManagedInstance] AzureSqlDatabaseManagedInstance\n",
      "9. [AzureCosmosDb] AzureCosmosDb\n",
      "10. [AzureDataExplorer] AzureDataExplorer\n",
      "11. [PowerBI] PowerBI\n",
      "12. [Teradata] Teradata\n",
      "13. [SapEcc] SapEcc\n",
      "14. [SapS4Hana] SapS4Hana\n",
      "15. [Hive] Hive\n",
      "16. [AmazonS3] AmazonS3\n",
      "17. [AzureSqlDatabase] AzureSqlDatabase-JND\n",
      "18. [Oracle] Oracle-htl\n",
      "19. [AzureSubscription] AzureResource-S2g\n",
      "20. [AdlsGen2] AzureDataLakeStorage-omK\n",
      "21. [AzureStorage] DataSource1\n",
      "22. [AdlsGen2] DataSource2\n",
      "[INFO] Complete!\n"
     ]
    }
   ],
   "source": [
    "# 1. Get Sources\n",
    "print('[INFO] Retrieving Sources...')\n",
    "data = !pv scan readDatasources\n",
    "sources = getJSON(data)\n",
    "\n",
    "filtered_sources = []\n",
    "counter = 0\n",
    "for source in sources['value']:\n",
    "    if source['kind'] != 'Collection':\n",
    "        counter += 1\n",
    "        datasource = source['name']\n",
    "        filtered_sources.append(datasource)\n",
    "        print('{0}. [{1}] {2}'.format(counter, source['kind'], datasource))\n",
    "print('[INFO] Complete!')"
   ]
  },
  {
   "cell_type": "code",
   "execution_count": 5,
   "metadata": {},
   "outputs": [
    {
     "output_type": "stream",
     "name": "stdout",
     "text": [
      "[INFO] Retrieving Scans...\n",
      "1 of 22 (Source: AzureDataLakeStorage-kl2; Scans: 21)\n",
      "2 of 22 (Source: AdlsGen1; Scans: 0)\n",
      "3 of 22 (Source: AdlsGen2; Scans: 0)\n",
      "4 of 22 (Source: AzureStorage; Scans: 0)\n",
      "5 of 22 (Source: AzureSqlDatabase; Scans: 0)\n",
      "6 of 22 (Source: AzureSqlDataWarehouse; Scans: 0)\n",
      "7 of 22 (Source: SqlServerDatabase; Scans: 0)\n",
      "8 of 22 (Source: AzureSqlDatabaseManagedInstance; Scans: 0)\n",
      "9 of 22 (Source: AzureCosmosDb; Scans: 0)\n",
      "10 of 22 (Source: AzureDataExplorer; Scans: 0)\n",
      "11 of 22 (Source: PowerBI; Scans: 0)\n",
      "12 of 22 (Source: Teradata; Scans: 0)\n",
      "13 of 22 (Source: SapEcc; Scans: 0)\n",
      "14 of 22 (Source: SapS4Hana; Scans: 0)\n",
      "15 of 22 (Source: Hive; Scans: 0)\n",
      "16 of 22 (Source: AmazonS3; Scans: 0)\n",
      "17 of 22 (Source: AzureSqlDatabase-JND; Scans: 3)\n",
      "18 of 22 (Source: Oracle-htl; Scans: 0)\n",
      "19 of 22 (Source: AzureResource-S2g; Scans: 0)\n",
      "20 of 22 (Source: AzureDataLakeStorage-omK; Scans: 0)\n",
      "21 of 22 (Source: DataSource1; Scans: 0)\n",
      "22 of 22 (Source: DataSource2; Scans: 1)\n",
      "[INFO] Complete!\n"
     ]
    }
   ],
   "source": [
    "# 2. Get Scans\n",
    "scans = {}\n",
    "number_of_sources = len(filtered_sources)\n",
    "counter = 0\n",
    "\n",
    "print('[INFO] Retrieving Scans...')\n",
    "for source in filtered_sources:\n",
    "    counter += 1\n",
    "    data2 = !pv scan readScans --dataSourceName {source}\n",
    "    scan = getJSON(data2)\n",
    "    print('{0} of {1} (Source: {2}; Scans: {3})'.format(counter, number_of_sources, source, len(scan['value'])))\n",
    "    scans[source] = scan\n",
    "print('[INFO] Complete!')"
   ]
  },
  {
   "cell_type": "code",
   "execution_count": 6,
   "metadata": {},
   "outputs": [
    {
     "output_type": "stream",
     "name": "stdout",
     "text": [
      "[INFO] Retrieving Scan History...\n",
      "[1 of 22] Datasource AzureDataLakeStorage-kl2 has 21 scans.\n",
      " - Getting Scan History for Scan: Scan-oYy\n",
      " - Getting Scan History for Scan: Scan-0Sk\n",
      " - Getting Scan History for Scan: Scan-5LW\n",
      " - Getting Scan History for Scan: Scan-J2D\n",
      " - Getting Scan History for Scan: Scan-2tJ\n",
      " - Getting Scan History for Scan: Scan-ier\n",
      " - Getting Scan History for Scan: Scan-jOI\n",
      " - Getting Scan History for Scan: Scan-blo\n",
      " - Getting Scan History for Scan: Scan-Mt7\n",
      " - Getting Scan History for Scan: Scan-Joe\n",
      " - Getting Scan History for Scan: Scan-myz\n",
      " - Getting Scan History for Scan: Scan-RqM\n",
      " - Getting Scan History for Scan: Scan-qvF\n",
      " - Getting Scan History for Scan: Scan-nEm\n",
      " - Getting Scan History for Scan: Scan-Ojs\n",
      " - Getting Scan History for Scan: Scan-JCZ\n",
      " - Getting Scan History for Scan: Scan-dZY\n",
      " - Getting Scan History for Scan: Scan-52q\n",
      " - Getting Scan History for Scan: Scan-zqO\n",
      " - Getting Scan History for Scan: Scan-HcH\n",
      " - Getting Scan History for Scan: Scan-vbs\n",
      "[2 of 22] Datasource AdlsGen1 has 0 scans.\n",
      "[3 of 22] Datasource AdlsGen2 has 0 scans.\n",
      "[4 of 22] Datasource AzureStorage has 0 scans.\n",
      "[5 of 22] Datasource AzureSqlDatabase has 0 scans.\n",
      "[6 of 22] Datasource AzureSqlDataWarehouse has 0 scans.\n",
      "[7 of 22] Datasource SqlServerDatabase has 0 scans.\n",
      "[8 of 22] Datasource AzureSqlDatabaseManagedInstance has 0 scans.\n",
      "[9 of 22] Datasource AzureCosmosDb has 0 scans.\n",
      "[10 of 22] Datasource AzureDataExplorer has 0 scans.\n",
      "[11 of 22] Datasource PowerBI has 0 scans.\n",
      "[12 of 22] Datasource Teradata has 0 scans.\n",
      "[13 of 22] Datasource SapEcc has 0 scans.\n",
      "[14 of 22] Datasource SapS4Hana has 0 scans.\n",
      "[15 of 22] Datasource Hive has 0 scans.\n",
      "[16 of 22] Datasource AmazonS3 has 0 scans.\n",
      "[17 of 22] Datasource AzureSqlDatabase-JND has 3 scans.\n",
      " - Getting Scan History for Scan: Scan-kOo\n",
      " - Getting Scan History for Scan: Scan-JA9\n",
      " - Getting Scan History for Scan: Scan-qWI\n",
      "[18 of 22] Datasource Oracle-htl has 0 scans.\n",
      "[19 of 22] Datasource AzureResource-S2g has 0 scans.\n",
      "[20 of 22] Datasource AzureDataLakeStorage-omK has 0 scans.\n",
      "[21 of 22] Datasource DataSource1 has 0 scans.\n",
      "[22 of 22] Datasource DataSource2 has 1 scans.\n",
      " - Getting Scan History for Scan: myScan\n",
      "[INFO] Complete!\n"
     ]
    }
   ],
   "source": [
    "# 3. Get Scan History\n",
    "results = []\n",
    "headers = [\"assetsClassified\", \"assetsDiscovered\", \"dataSourceType\", \"endTime\", \"error\", \"errorMessage\", \"id\", \"parentId\", \"pipelineStartTime\", \"queuedTime\", \"resourceId\", \"runType\", \"scanLevelType\", \"scanRulesetType\", \"scanRulesetVersion\", \"startTime\", \"status\", \"source\", \"scanName\"]\n",
    "results.append(headers)\n",
    "counter = 0\n",
    "\n",
    "print('[INFO] Retrieving Scan History...')\n",
    "for datasource in scans:\n",
    "    counter += 1\n",
    "    print('[{0} of {1}] Datasource {2} has {3} scans.'.format(\n",
    "        counter,\n",
    "        number_of_sources,\n",
    "        datasource,\n",
    "        len(scans[datasource]['value'])\n",
    "        )\n",
    "    )\n",
    "    for scan in scans[datasource]['value']:\n",
    "        print(' - Getting Scan History for Scan: {0}'.format(scan['name']))\n",
    "        history = !pv scan readScanHistory --dataSourceName {datasource} --scanName {scan['name']}\n",
    "        history = getJSON(history)\n",
    "        for record in history['value']:\n",
    "            record.pop('diagnostics')\n",
    "            values = list(record.values())\n",
    "            values.append(datasource)\n",
    "            values.append(scan['name'])\n",
    "            results.append(values) \n",
    "print('[INFO] Complete!')       "
   ]
  },
  {
   "cell_type": "code",
   "execution_count": 7,
   "metadata": {},
   "outputs": [
    {
     "output_type": "stream",
     "name": "stdout",
     "text": [
      "[INFO] Scan history has been exported to output.csv\n"
     ]
    }
   ],
   "source": [
    "# 4. Export to CSV\n",
    "export(results)\n",
    "print('[INFO] Scan history has been exported to output.csv')"
   ]
  },
  {
   "cell_type": "code",
   "execution_count": null,
   "metadata": {},
   "outputs": [],
   "source": []
  }
 ]
}