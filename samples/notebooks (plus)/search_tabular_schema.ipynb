{
 "metadata": {
  "language_info": {
   "codemirror_mode": {
    "name": "ipython",
    "version": 3
   },
   "file_extension": ".py",
   "mimetype": "text/x-python",
   "name": "python",
   "nbconvert_exporter": "python",
   "pygments_lexer": "ipython3",
   "version": "3.9.1"
  },
  "orig_nbformat": 4,
  "kernelspec": {
   "name": "python3",
   "display_name": "Python 3.9.1  ('env': venv)"
  },
  "interpreter": {
   "hash": "38dab8daf3a14bb76ce346c948212f800f160c39f9c84db991f8e443a619a3a6"
  }
 },
 "nbformat": 4,
 "nbformat_minor": 2,
 "cells": [
  {
   "source": [
    "# Advanced Search\n",
    "Find entities that have a tabular_schema"
   ],
   "cell_type": "markdown",
   "metadata": {}
  },
  {
   "cell_type": "code",
   "execution_count": 28,
   "metadata": {},
   "outputs": [
    {
     "output_type": "stream",
     "name": "stdout",
     "text": [
      "env: PURVIEW_NAME=purviewninjacatalog\n"
     ]
    }
   ],
   "source": [
    "# Set Environment Variables\n",
    "%env PURVIEW_NAME=YOUR_PURVIEW_ACCOUNT"
   ]
  },
  {
   "cell_type": "code",
   "execution_count": 29,
   "metadata": {},
   "outputs": [],
   "source": [
    "# Helper Methods\n",
    "import json\n",
    "def getJSON(raw_output):\n",
    "    output = ''.join(raw_output)\n",
    "    json_obj = json.loads(output)\n",
    "    return json_obj"
   ]
  },
  {
   "cell_type": "code",
   "execution_count": 30,
   "metadata": {},
   "outputs": [],
   "source": [
    "# Get Search Results\n",
    "data = !pv search query --keywords \"*\" --limit 1000\n",
    "data = getJSON(data)"
   ]
  },
  {
   "cell_type": "code",
   "execution_count": 31,
   "metadata": {},
   "outputs": [
    {
     "output_type": "stream",
     "name": "stdout",
     "text": [
      "Batch 1 of 8\n",
      "Batch 2 of 8\n",
      "Batch 3 of 8\n",
      "Batch 4 of 8\n",
      "Batch 5 of 8\n",
      "Batch 6 of 8\n",
      "Batch 7 of 8\n",
      "Batch 8 of 8\n"
     ]
    }
   ],
   "source": [
    "# Get Bulk Entities\n",
    "import math\n",
    "entity_collection = []\n",
    "guid_args = \"\"\n",
    "counter, batch, batch_size = 0, 0, 100\n",
    "number_of_batches = math.ceil(len(data['value'])/batch_size)\n",
    "\n",
    "for item in data['value']:\n",
    "    counter += 1\n",
    "    guid_args += f\" --guid {item['id']}\"\n",
    "    if counter == batch_size:\n",
    "        batch += 1\n",
    "        print(f'Batch {batch} of {number_of_batches}')\n",
    "        bulk = !pv entity readBulk {guid_args}\n",
    "        bulk = getJSON(bulk)\n",
    "        \n",
    "        for item in bulk['entities']:\n",
    "            entity_collection.append(item)\n",
    "        counter, guid_args = 0, \"\"\n",
    "\n",
    "batch += 1\n",
    "print(f'Batch {batch} of {number_of_batches}')\n",
    "bulk = !pv entity readBulk {guid_args}\n",
    "bulk = getJSON(bulk)\n",
    "for item in bulk['entities']:\n",
    "    entity_collection.append(item)"
   ]
  },
  {
   "cell_type": "code",
   "execution_count": 32,
   "metadata": {},
   "outputs": [
    {
     "output_type": "stream",
     "name": "stdout",
     "text": [
      "aws_s3_v2_object\tAustralia project bank accounts.csv\nazure_datalake_gen2_path\tCustomers.csv\nazure_datalake_gen2_path\tActors.csv\nazure_blob_path\tDimAccountOwner.csv\nazure_blob_resource_set\tgreen tripdata\naws_s3_v2_object\tUsers.csv\nazure_blob_path\tTrendsByAccount.csv\nazure_blob_path\tProduct Mix.csv\nazure_datalake_gen2_resource_set\tfhv tripdata\nazure_datalake_gen2_resource_set\tuserdata\nazure_blob_resource_set\tuserdata\nazure_datalake_gen2_path\tMovies.csv\nazure_blob_path\tCountry.csv\nazure_blob_resource_set\tPatientv\nazure_datalake_gen2_resource_set\tgreen tripdata\nazure_blob_path\tProductMixCategory.csv\nazure_datalake_gen2_resource_set\tyellow tripdata\nazure_blob_resource_set\tevents\nazure_datalake_gen2_resource_set\tPurView dataset\nazure_datalake_gen2_resource_set\tuserdata\nazure_datalake_gen2_path\tMovieActors.csv\nazure_blob_path\tDimProduct.csv\nazure_datalake_gen2_path\tTransactions.csv\naws_s3_v2_object\tHR_report_January.parquet\nazure_blob_resource_set\tuserdata\nazure_blob_path\tTxnOpportunity.csv\nazure_blob_path\tCountryRegionBudget.csv\nazure_blob_path\tDimDates.csv\nazure_blob_path\tQuota.csv\nazure_blob_resource_set\tdataset\nazure_datalake_gen2_path\tpom.xml\nazure_blob_path\tOffice Team Specs.xml\nazure_blob_path\tCustomers List.csv\nazure_blob_path\tDimAccount.csv\nazure_blob_path\tCountryKPI.csv\nazure_blob_path\tMargin.csv\nazure_datalake_gen2_path\tDimension.Employee.txt\naws_s3_v2_object\tempdetails.parquet\nazure_blob_path\tpom.xml\nazure_blob_path\tProducts.csv\nazure_blob_path\tQuotaStats.csv\n"
     ]
    }
   ],
   "source": [
    "# Loop through relationshipAttributes for tabular_schema\n",
    "for entity in entity_collection:\n",
    "    for attr in entity['relationshipAttributes']:\n",
    "        if attr == 'tabular_schema':\n",
    "            print(f\"{entity['typeName']}\\t{entity['attributes']['name']}\")"
   ]
  },
  {
   "cell_type": "code",
   "execution_count": null,
   "metadata": {},
   "outputs": [],
   "source": []
  }
 ]
}