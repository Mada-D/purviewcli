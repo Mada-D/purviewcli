{
 "cells": [
  {
   "cell_type": "markdown",
   "source": [
    "# Sources\r\n",
    "Example notebook on how to create sources (including collections)."
   ],
   "metadata": {}
  },
  {
   "cell_type": "code",
   "execution_count": null,
   "source": [
    "# Create a Source\n",
    "# Note: See samples/json/sources for examples on how to construct the JSON payloads for different kinds of sources (e.g.AdlsGen2, AmazonS3, Hive, etc).\n",
    "!pv scan putDataSource --dataSourceName \"AzureSynapseWorkspace\" --payload-file \"C:\\Users\\tarifat\\Downloads\\purviewcli\\samples\\json\\source\\AzureSynapseWorkspace.json\" --purviewName \"purview-sandbox\""
   ],
   "outputs": [],
   "metadata": {}
  },
  {
   "cell_type": "code",
   "execution_count": null,
   "source": [
    "# Create Sources\n",
    "# Note: Azure Purview does not currently surface a bulk endpoint to create multiple sources in a single operation.\n",
    "# The sample code below demonstrates how this can be achieved by reading a JSON document which contains an array of sources.\n",
    "import json, tempfile\n",
    "\n",
    "with open('/Users/taygan/Documents/Developer/purviewcli/purviewcli/samples/json/sources/sources.json') as f:\n",
    "    sources = json.load(f)\n",
    "\n",
    "for source in sources:\n",
    "    tfile = tempfile.NamedTemporaryFile(mode='w+', suffix='.json')\n",
    "    json.dump(source, tfile)\n",
    "    tfile.flush()\n",
    "    !pv scan putDataSource --dataSourceName {source['name']} --payload-file {tfile.name} --purviewName \"purview-sandbox\"\n"
   ],
   "outputs": [],
   "metadata": {}
  },
  {
   "cell_type": "code",
   "execution_count": null,
   "source": [],
   "outputs": [],
   "metadata": {}
  }
 ],
 "metadata": {
  "interpreter": {
   "hash": "06a38955b8ad85bbf3b14ddaf9620713de55cfb2da467adc159ddbd05253a687"
  },
  "kernelspec": {
   "name": "python3",
   "display_name": "Python 3.9.6 64-bit ('env': venv)"
  },
  "language_info": {
   "name": "python",
   "version": "3.9.6",
   "mimetype": "text/x-python",
   "codemirror_mode": {
    "name": "ipython",
    "version": 3
   },
   "pygments_lexer": "ipython3",
   "nbconvert_exporter": "python",
   "file_extension": ".py"
  },
  "orig_nbformat": 4
 },
 "nbformat": 4,
 "nbformat_minor": 2
}