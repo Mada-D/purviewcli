{
 "metadata": {
  "language_info": {
   "codemirror_mode": {
    "name": "ipython",
    "version": 3
   },
   "file_extension": ".py",
   "mimetype": "text/x-python",
   "name": "python",
   "nbconvert_exporter": "python",
   "pygments_lexer": "ipython3",
   "version": "3.9.1-final"
  },
  "orig_nbformat": 2,
  "kernelspec": {
   "name": "python3",
   "display_name": "Python 3.9.1 64-bit",
   "metadata": {
    "interpreter": {
     "hash": "574e4e3fa2caffcca541e866ecc3c3fa6a3324d93e0b2e094715f4fe33f8825b"
    }
   }
  }
 },
 "nbformat": 4,
 "nbformat_minor": 2,
 "cells": [
  {
   "cell_type": "code",
   "execution_count": null,
   "metadata": {},
   "outputs": [],
   "source": [
    "%pip install --upgrade purviewcli"
   ]
  },
  {
   "cell_type": "code",
   "execution_count": 1,
   "metadata": {},
   "outputs": [
    {
     "output_type": "stream",
     "name": "stdout",
     "text": [
      "env: PURVIEW_NAME=purview-sandbox\n"
     ]
    }
   ],
   "source": [
    "%env PURVIEW_NAME=purview-sandbox"
   ]
  },
  {
   "cell_type": "code",
   "execution_count": null,
   "metadata": {},
   "outputs": [],
   "source": [
    "!pv entity createClassifications --guid \"a9078efb-a589-4881-8736-61c89f6bedf4\" --classificationName \"MICROSOFT.MISCELLANEOUS.IPADDRESS\""
   ]
  },
  {
   "cell_type": "code",
   "execution_count": null,
   "metadata": {},
   "outputs": [],
   "source": [
    "!pv scan createSource --datasource=<val> --kind=<val> [--accountUri=<val> --subscriptionId=<val> --resourceGroup=<val> --location=<val> --resourceName=<val> --endpoint=<val> --serverEndpoint=<val> --tenant=<val> --parentCollection=<val> --host=<val> --applicationServer=<val> --systemNumber=<val> --clusterUrl=<val> --roleARN=<val> --serviceUrl=<val>]\n"
   ]
  },
  {
   "cell_type": "code",
   "execution_count": 8,
   "metadata": {
    "tags": []
   },
   "outputs": [
    {
     "output_type": "stream",
     "name": "stdout",
     "text": [
      "83\n"
     ]
    }
   ],
   "source": [
    "import os\n",
    "import json\n",
    "import subprocess\n",
    "import pandas as pd\n",
    "\n",
    "# Set Azure Purview environment variable\n",
    "os.environ[\"PURVIEW_NAME\"] = \"purview-sandbox\"\n",
    "\n",
    "# Initialise Variables\n",
    "batch_size = 500\n",
    "offset = 0\n",
    "my_items = []\n",
    "\n",
    "# Initial Query\n",
    "result = subprocess.run([\"pv\", \"search\", \"advanced\",'--keywords','*','--limit',str(batch_size)], capture_output=True)\n",
    "data = json.loads(result.stdout)\n",
    "my_items.extend(data['value'])\n",
    "offset += batch_size\n",
    "\n",
    "# Additional Requests\n",
    "search_count = data['@search.count']\n",
    "\n",
    "# Loop till all items processed\n",
    "while offset < search_count:\n",
    "    result = subprocess.run([\"pv\", \"search\", \"advanced\",'--keywords','*','--limit',str(batch_size),'--offset',str(offset)], capture_output=True)\n",
    "    data = json.loads(result.stdout)\n",
    "    my_items.extend(data['value'])\n",
    "    offset += batch_size\n",
    "\n",
    "# Print\n",
    "print(len(my_items))\n",
    "\n",
    "def "
   ]
  },
  {
   "cell_type": "code",
   "execution_count": null,
   "metadata": {},
   "outputs": [],
   "source": []
  }
 ]
}