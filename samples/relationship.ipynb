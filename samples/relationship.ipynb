{
    "metadata": {
        "kernelspec": {
            "name": "python3",
            "display_name": "Python 3",
            "language": "python"
        },
        "language_info": {
            "name": "python",
            "version": "3.6.6",
            "mimetype": "text/x-python",
            "codemirror_mode": {
                "name": "ipython",
                "version": 3
            },
            "pygments_lexer": "ipython3",
            "nbconvert_exporter": "python",
            "file_extension": ".py"
        }
    },
    "nbformat_minor": 2,
    "nbformat": 4,
    "cells": [
        {
            "cell_type": "markdown",
            "source": [
                "# Relationship\n",
                "\n",
                "### **Pre-requisite**\n",
                "\n",
                "Install required Python packages."
            ],
            "metadata": {
                "azdata_cell_guid": "42fb003c-adf1-4eed-a34a-ebf8d53dc75e"
            }
        },
        {
            "cell_type": "code",
            "source": [
                "%pip install --upgrade purviewcli"
            ],
            "metadata": {
                "azdata_cell_guid": "fa059e9f-27cd-4b93-b8cc-4f68bff46116"
            },
            "outputs": [],
            "execution_count": null
        },
        {
            "cell_type": "markdown",
            "source": [
                "**Set the Environment Variable**\n",
                "\n",
                "Before purviewcli can be used, the environment variable `PURVIEW_NAME` needs to be set."
            ],
            "metadata": {
                "azdata_cell_guid": "f2c9d29c-d3b2-48aa-9c37-f85b2adb8d58"
            }
        },
        {
            "cell_type": "code",
            "source": [
                "%env PURVIEW_NAME=purview-sandbox"
            ],
            "metadata": {
                "azdata_cell_guid": "c5ec8581-3c04-4b60-b3e9-3b41571832fc"
            },
            "outputs": [],
            "execution_count": null
        },
        {
            "cell_type": "markdown",
            "source": [
                "## Examples"
            ],
            "metadata": {
                "azdata_cell_guid": "0365ad22-a4a9-4627-99d3-9cebc1f687e1"
            }
        },
        {
            "cell_type": "code",
            "source": [
                "# Create a Relationship (Custom Lineage)\n",
                "typeName = 'process_dataset_outputs'\n",
                "end1Guid = '2ab5525b-115a-4d82-93ea-63c33778020e'\n",
                "end1Type = 'azure_datalake_gen2_path'\n",
                "end2Guid = '9eb55cd7-911b-43b6-8fc6-bdf57c3e7d2a'\n",
                "end2Type = 'adf_copy_activity'\n",
                "!pv relationship create --typeName {typeName} --end1Guid {end1Guid} --end1Type {end1Type} --end2Guid {end2Guid} --end2Type {end2Type}"
            ],
            "metadata": {
                "azdata_cell_guid": "7147b492-5b3d-4343-93dd-29543328765f",
                "tags": []
            },
            "outputs": [],
            "execution_count": null
        },
        {
            "cell_type": "code",
            "source": [
                "# Read a Relationship\n",
                "relationshipGuid = '626245ee-8ad9-43d6-896b-a628c7a9acd0'\n",
                "!pv relationship read --relationshipGuid {relationshipGuid}"
            ],
            "metadata": {
                "azdata_cell_guid": "7c13acea-0276-47fc-a8e3-3e4338bca487"
            },
            "outputs": [],
            "execution_count": null
        },
        {
            "cell_type": "code",
            "source": [
                "# Update a Relationship\n",
                "relationshipGuid = '626245ee-8ad9-43d6-896b-a628c7a9acd0'\n",
                "!pv relationship update --relationshipGuid {relationshipGuid} --status 'DELETED'"
            ],
            "metadata": {
                "azdata_cell_guid": "89347d9a-4721-4027-81bf-de2e219a8605"
            },
            "outputs": [],
            "execution_count": null
        },
        {
            "cell_type": "code",
            "source": [
                "# Delete a Relationship\n",
                "relationshipGuid = '626245ee-8ad9-43d6-896b-a628c7a9acd0'\n",
                "!pv relationship delete --relationshipGuid {relationshipGuid}"
            ],
            "metadata": {
                "azdata_cell_guid": "fbfd21a2-1136-48b9-8bd7-753d57fdf5e8"
            },
            "outputs": [],
            "execution_count": null
        }
    ]
}