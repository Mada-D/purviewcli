{
    "metadata": {
        "kernelspec": {
            "name": "python3",
            "display_name": "Python 3",
            "language": "python"
        },
        "language_info": {
            "name": "python",
            "version": "3.6.6",
            "mimetype": "text/x-python",
            "codemirror_mode": {
                "name": "ipython",
                "version": 3
            },
            "pygments_lexer": "ipython3",
            "nbconvert_exporter": "python",
            "file_extension": ".py"
        }
    },
    "nbformat_minor": 2,
    "nbformat": 4,
    "cells": [
        {
            "cell_type": "markdown",
            "source": [
                "# Relationship\n",
                "\n",
                "### **Pre-requisite**\n",
                "\n",
                "Install required Python packages."
            ],
            "metadata": {
                "azdata_cell_guid": "c5c4511d-5ebc-4acc-9766-a3187a27d2ee"
            }
        },
        {
            "cell_type": "code",
            "source": [
                "%pip install -U purviewcli"
            ],
            "metadata": {
                "azdata_cell_guid": "be889d79-5e1a-4ea6-90ad-eeb54a307f41"
            },
            "outputs": [],
            "execution_count": null
        },
        {
            "cell_type": "markdown",
            "source": [
                "**1\\. Set the Environment Variable**\n",
                "\n",
                "Before purviewcli can be used, the environment variable `PURVIEW_NAME` needs to be set."
            ],
            "metadata": {
                "azdata_cell_guid": "34ee1405-3925-4b1c-a3b6-b35f864ec0f4",
                "language": "markdown"
            }
        },
        {
            "cell_type": "code",
            "source": [
                "%env PURVIEW_NAME=purview-sandbox"
            ],
            "metadata": {
                "azdata_cell_guid": "8a0f4250-5861-45e6-9746-c925c6c6e873"
            },
            "outputs": [],
            "execution_count": null
        },
        {
            "cell_type": "markdown",
            "source": [
                "### **2\\. \\[CREATE\\] Create a Relationship**"
            ],
            "metadata": {
                "azdata_cell_guid": "7860e01f-4935-4597-94f9-073b168666e8"
            }
        },
        {
            "cell_type": "code",
            "source": [
                "import json\n",
                "typeName = 'azure_sql_db_schemas'\n",
                "status = 'ACTIVE'\n",
                "end1Guid = 'd1e515e7-9c0a-43cb-b902-89b87bc002ee' # Azure SQL Database\n",
                "end2Guid = 'c486feaa-a299-4660-b0c2-9649560a2142' # Azure SQL Schema\n",
                "output = !pv createRelationship --typeName=\"{typeName}\" --status=\"{status}\" --end1Guid=\"{end1Guid}\" --end2Guid=\"{end2Guid}\"\n",
                "joutput = json.loads(''.join(output))\n",
                "print(json.dumps(joutput, indent=4, sort_keys=True))"
            ],
            "metadata": {
                "azdata_cell_guid": "6dd140aa-2082-44be-9202-7b134d01ab6f",
                "tags": []
            },
            "outputs": [],
            "execution_count": null
        },
        {
            "cell_type": "markdown",
            "source": [
                "### **3.** **\\[READ\\]** **Get a Relationship**"
            ],
            "metadata": {
                "azdata_cell_guid": "c63c3035-6c82-48f8-9a7f-24355d981e6e"
            }
        },
        {
            "cell_type": "code",
            "source": [
                "!pv getRelationship --guid \"{joutput['guid']}\""
            ],
            "metadata": {
                "azdata_cell_guid": "cf82172f-b666-4c23-9ee5-ae5ea9d0a5e5",
                "language": "markdown"
            },
            "outputs": [],
            "execution_count": null
        },
        {
            "cell_type": "markdown",
            "source": [
                "### **4.** **\\[UPDATE\\]** **Update a Relationship**"
            ],
            "metadata": {
                "azdata_cell_guid": "5db75c97-3f97-498d-aa28-959c01cbe13c"
            }
        },
        {
            "cell_type": "code",
            "source": [
                "# TBC"
            ],
            "metadata": {
                "azdata_cell_guid": "40d49755-0258-44b6-8888-b11a9226d999"
            },
            "outputs": [],
            "execution_count": null
        },
        {
            "cell_type": "markdown",
            "source": [
                "### **5.** **\\[DELETE\\]** **Delete a Relationship**"
            ],
            "metadata": {
                "azdata_cell_guid": "a8ccf43f-a23d-44c9-9c8c-bad9dc14038f"
            }
        },
        {
            "cell_type": "code",
            "source": [
                "!pv deleteRelationship --guid \"{joutput['guid']}\""
            ],
            "metadata": {
                "azdata_cell_guid": "1f038287-8b0e-48ea-8e82-9d60d588ff78"
            },
            "outputs": [],
            "execution_count": null
        },
        {
            "cell_type": "markdown",
            "source": [
                "### **6.** **Get a Relationship Definition**"
            ],
            "metadata": {
                "azdata_cell_guid": "ff69c054-29b0-448d-9b35-3aeac2eef035"
            }
        },
        {
            "cell_type": "code",
            "source": [
                "!pv getRelationshipdef --name 'azure_sql_db_schemas'"
            ],
            "metadata": {
                "azdata_cell_guid": "d8ec50b4-f201-4378-9198-aae6803f3ab6"
            },
            "outputs": [],
            "execution_count": null
        },
        {
            "cell_type": "markdown",
            "source": [
                "### **7.** **Get Relationship Definitions**"
            ],
            "metadata": {
                "azdata_cell_guid": "275e3775-cde7-4af5-a922-bb017e8b7a86"
            }
        },
        {
            "cell_type": "code",
            "source": [
                "import json\n",
                "import pandas as pd\n",
                "\n",
                "# Get Definitions\n",
                "typedefs = !pv getTypedefs --type 'relationship'\n",
                "jtypes = json.loads(''.join(typedefs))\n",
                "\n",
                "df = pd.DataFrame(jtypes['relationshipDefs'])"
            ],
            "metadata": {
                "azdata_cell_guid": "100078ed-4e67-43c4-95b4-2772003961db"
            },
            "outputs": [],
            "execution_count": null
        },
        {
            "cell_type": "code",
            "source": [
                "for name in df['name'].values:\n",
                "    if 'azure_sql_db' in name:\n",
                "        print(name)"
            ],
            "metadata": {
                "azdata_cell_guid": "f9c73e45-39aa-42d5-aa66-4871f20d5ef5"
            },
            "outputs": [],
            "execution_count": null
        }
    ]
}