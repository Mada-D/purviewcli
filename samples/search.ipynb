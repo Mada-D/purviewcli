{
    "metadata": {
        "kernelspec": {
            "name": "python391jvsc74a57bd084ba2c6bc7b4d2f438fcc8af86b72648be8f0a08f2bb91d98ff62e4a166230df",
            "display_name": "Python 3.9.1 64-bit ('env': venv)"
        },
        "language_info": {
            "name": "python",
            "version": "3.9.1",
            "mimetype": "text/x-python",
            "codemirror_mode": {
                "name": "ipython",
                "version": 3
            },
            "pygments_lexer": "ipython3",
            "nbconvert_exporter": "python",
            "file_extension": ".py"
        }
    },
    "nbformat_minor": 2,
    "nbformat": 4,
    "cells": [
        {
            "cell_type": "markdown",
            "source": [
                "# Search\n",
                "\n",
                "### **Pre-requisite**\n",
                "\n",
                "Install required Python packages."
            ],
            "metadata": {
                "azdata_cell_guid": "42fb003c-adf1-4eed-a34a-ebf8d53dc75e"
            }
        },
        {
            "cell_type": "code",
            "source": [
                "# Install/Upgrade purviewcli package\n",
                "%pip install --upgrade purviewcli"
            ],
            "metadata": {
                "azdata_cell_guid": "fa059e9f-27cd-4b93-b8cc-4f68bff46116"
            },
            "outputs": [],
            "execution_count": null
        },
        {
            "cell_type": "markdown",
            "source": [
                "**Set the Environment Variable**\n",
                "\n",
                "Before purviewcli can be used, the environment variable `PURVIEW_NAME` needs to be set."
            ],
            "metadata": {
                "azdata_cell_guid": "f2c9d29c-d3b2-48aa-9c37-f85b2adb8d58"
            }
        },
        {
            "cell_type": "code",
            "source": [
                "# Environment Variables\n",
                "%env PURVIEW_NAME=purview-sandbox"
            ],
            "metadata": {
                "azdata_cell_guid": "c5ec8581-3c04-4b60-b3e9-3b41571832fc"
            },
            "outputs": [],
            "execution_count": null
        },
        {
            "cell_type": "code",
            "execution_count": null,
            "metadata": {},
            "outputs": [],
            "source": [
                "filter_object = {\n",
                "        \"and\": [\n",
                "            {\n",
                "                \"not\": {\n",
                "                    \"or\": [\n",
                "                        {\n",
                "                            \"attributeName\": \"size\",\n",
                "                            \"operator\": \"eq\",\n",
                "                            \"attributeValue\": 0\n",
                "                        },\n",
                "                        {\n",
                "                            \"attributeName\": \"fileSize\",\n",
                "                            \"operator\": \"eq\",\n",
                "                            \"attributeValue\": 0\n",
                "                        }\n",
                "                    ]\n",
                "                }\n",
                "            },\n",
                "            {\n",
                "                \"not\": {\n",
                "                    \"classification\": \"MICROSOFT.SYSTEM.TEMP_FILE\"\n",
                "                }\n",
                "            },\n",
                "            {\n",
                "                \"not\": {\n",
                "                    \"or\": [\n",
                "                        {\n",
                "                            \"entityType\": \"AtlasGlossaryTerm\"\n",
                "                        },\n",
                "                        {\n",
                "                            \"entityType\": \"AtlasGlossary\"\n",
                "                        }\n",
                "                    ]\n",
                "                }\n",
                "            }\n",
                "        ]\n",
                "    }\n",
                "filter_str = json.dumps(filter_object)"
            ]
        },
        {
            "cell_type": "code",
            "source": [
                "# Search by keyword\n",
                "!pv search query --filter \"{filter_str}\""
            ],
            "metadata": {
                "azdata_cell_guid": "61587b9b-a5e1-48c8-a442-ece568874d3a"
            },
            "outputs": [],
            "execution_count": null
        }
    ]
}