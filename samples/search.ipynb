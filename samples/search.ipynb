{
    "metadata": {
        "kernelspec": {
            "name": "python392jvsc74a57bd0574e4e3fa2caffcca541e866ecc3c3fa6a3324d93e0b2e094715f4fe33f8825b",
            "display_name": "Python 3.9.2 64-bit"
        },
        "language_info": {
            "name": "python",
            "version": "3.9.2",
            "mimetype": "text/x-python",
            "codemirror_mode": {
                "name": "ipython",
                "version": 3
            },
            "pygments_lexer": "ipython3",
            "nbconvert_exporter": "python",
            "file_extension": ".py"
        },
        "metadata": {
            "interpreter": {
                "hash": "574e4e3fa2caffcca541e866ecc3c3fa6a3324d93e0b2e094715f4fe33f8825b"
            }
        }
    },
    "nbformat_minor": 2,
    "nbformat": 4,
    "cells": [
        {
            "cell_type": "markdown",
            "source": [
                "# Search"
            ],
            "metadata": {
                "azdata_cell_guid": "42fb003c-adf1-4eed-a34a-ebf8d53dc75e"
            }
        },
        {
            "cell_type": "code",
            "source": [
                "# Install/Upgrade purviewcli package\n",
                "%pip install --upgrade purviewcli"
            ],
            "metadata": {
                "azdata_cell_guid": "fa059e9f-27cd-4b93-b8cc-4f68bff46116"
            },
            "outputs": [],
            "execution_count": null
        },
        {
            "cell_type": "code",
            "source": [
                "# Environment Variables\n",
                "%env PURVIEW_NAME=YOUR_PURVIEW_ACCOUNT\n",
                "%env AZURE_CLIENT_ID=YOUR_CLIENT_ID\n",
                "%env AZURE_TENANT_ID=YOUR_TENANT_ID\n",
                "%env AZURE_CLIENT_SECRET=YOUR_CLIENT_SECRET"
            ],
            "metadata": {
                "azdata_cell_guid": "c5ec8581-3c04-4b60-b3e9-3b41571832fc"
            },
            "outputs": [],
            "execution_count": null
        },
        {
            "cell_type": "code",
            "execution_count": null,
            "metadata": {},
            "outputs": [],
            "source": [
                "# Basic Search (minmal parameters, no filters applied, no keyword passed)\n",
                "!pv search query"
            ]
        },
        {
            "cell_type": "code",
            "execution_count": null,
            "metadata": {},
            "outputs": [],
            "source": [
                "# Simply Search (keyword)\n",
                "!pv search query --keyword \"Hello\""
            ]
        },
        {
            "cell_type": "code",
            "execution_count": null,
            "metadata": {},
            "outputs": [],
            "source": [
                "# Advanced Search (filters and facets)\n",
                "!pv search query --keyword \"*\" --limit 10 --offset 0 --filter-file \"C:\\Users\\tarifat\\Downloads\\purviewcli\\samples\\filter.json\" --facets-file \"C:\\Users\\tarifat\\Downloads\\purviewcli\\samples\\facets.json\""
            ]
        },
        {
            "cell_type": "code",
            "execution_count": null,
            "metadata": {},
            "outputs": [],
            "source": []
        }
    ]
}