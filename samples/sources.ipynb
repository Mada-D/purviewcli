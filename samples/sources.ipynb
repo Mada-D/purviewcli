{
    "metadata": {
        "kernelspec": {
            "name": "powershell",
            "display_name": "PowerShell",
            "language": "powershell"
        },
        "language_info": {
            "name": "powershell",
            "codemirror_mode": "shell",
            "mimetype": "text/x-sh",
            "file_extension": ".ps1"
        }
    },
    "nbformat_minor": 2,
    "nbformat": 4,
    "cells": [
        {
            "cell_type": "markdown",
            "source": [
                "# Sources"
            ],
            "metadata": {
                "azdata_cell_guid": "01926273-6f46-42c8-b213-a576ebba3a36"
            }
        },
        {
            "cell_type": "markdown",
            "source": [
                "### **Pre-requisite**\n",
                "\n",
                "You will need to install the purviewcli package."
            ],
            "metadata": {
                "azdata_cell_guid": "f4c8843a-023d-4c34-9031-c89200ffbd20"
            }
        },
        {
            "cell_type": "code",
            "source": [
                "pip install purviewcli --upgrade"
            ],
            "metadata": {
                "azdata_cell_guid": "de59592a-3659-4b18-8109-429dd08bab9e"
            },
            "outputs": [],
            "execution_count": null
        },
        {
            "cell_type": "markdown",
            "source": [
                "### **1\\. Set the Environment Variable**  \n",
                "\n",
                "Before purviewcli can be used, the environment variable `PURVIEW_NAME` needs to be set."
            ],
            "metadata": {
                "azdata_cell_guid": "2e4b9eba-ebb8-46cd-a0f7-14a71ac64023"
            }
        },
        {
            "cell_type": "code",
            "source": [
                " $env:PURVIEW_NAME = \"purview-sandbox\""
            ],
            "metadata": {
                "azdata_cell_guid": "35d48d02-e04d-457b-a434-d12177d63213"
            },
            "outputs": [],
            "execution_count": null
        },
        {
            "cell_type": "markdown",
            "source": [
                "### **2\\. Create a Collection**"
            ],
            "metadata": {
                "azdata_cell_guid": "4700765b-b99d-442c-a4f1-842b79b3a17c"
            }
        },
        {
            "cell_type": "code",
            "source": [
                "pv createCollection --collection 'ParentCollection'"
            ],
            "metadata": {
                "azdata_cell_guid": "628e5250-16e5-4723-8874-52fc7f81b244"
            },
            "outputs": [],
            "execution_count": null
        },
        {
            "cell_type": "markdown",
            "source": [
                "### **3\\. Create a Collection under a Parent Collection**"
            ],
            "metadata": {
                "azdata_cell_guid": "6f5e6085-adba-484e-90c6-cd40e5082357"
            }
        },
        {
            "cell_type": "code",
            "source": [
                "pv createCollection --collection 'CollectionName' --parentCollection 'ParentCollection'"
            ],
            "metadata": {
                "azdata_cell_guid": "5f41645f-2fe2-49e6-9747-f07376e87e1e"
            },
            "outputs": [],
            "execution_count": null
        },
        {
            "cell_type": "markdown",
            "source": [
                "### **4\\. Delete a Collection**"
            ],
            "metadata": {
                "azdata_cell_guid": "dc03a668-ec75-4094-ad53-938b8023d53f"
            }
        },
        {
            "cell_type": "code",
            "source": [
                "pv deleteCollection --collection 'CollectionName'"
            ],
            "metadata": {
                "azdata_cell_guid": "718285d7-e343-465a-895c-f99456bdabb4"
            },
            "outputs": [],
            "execution_count": null
        },
        {
            "cell_type": "markdown",
            "source": [
                "### **5\\. Register a Source**"
            ],
            "metadata": {
                "azdata_cell_guid": "a0de54db-9321-4999-bd80-e36f36dc7465"
            }
        },
        {
            "cell_type": "code",
            "source": [
                "$datasource = 'MyDataLake'\n",
                "$kind = 'AdlsGen2'\n",
                "$endpoint = 'https://adlsname.dfs.core.windows.net/'\n",
                "$subscriptionId = '123456789'\n",
                "$resourceGroup = 'resourceGroupName'\n",
                "$location = 'resourceLocation'\n",
                "$resourceName = 'resourceName'\n",
                "$parentCollection = 'ParentCollection'\n",
                "pv registerSource --datasource $datasource --kind $kind --endpoint $endpoint --subscriptionId $subscriptionId --resourceGroup $resourceGroup --location $location --resourceName $resourceName --parentCollection $parentCollection"
            ],
            "metadata": {
                "azdata_cell_guid": "1815dabb-592b-4c43-a89d-fa70edbdee4e"
            },
            "outputs": [],
            "execution_count": null
        },
        {
            "cell_type": "markdown",
            "source": [
                "### **6\\. Delete a Source**"
            ],
            "metadata": {
                "azdata_cell_guid": "9239ac53-e901-4d57-a51a-7d0b67cee7b9"
            }
        },
        {
            "cell_type": "code",
            "source": [
                "pv deleteSource --datasource 'MyDataLake'"
            ],
            "metadata": {
                "azdata_cell_guid": "30691a14-7e0a-42df-85da-88077f1b4d06"
            },
            "outputs": [],
            "execution_count": null
        }
    ]
}