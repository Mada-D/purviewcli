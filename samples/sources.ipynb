{
    "metadata": {
        "kernelspec": {
            "name": "powershell",
            "display_name": "PowerShell",
            "language": "powershell"
        },
        "language_info": {
            "name": "powershell",
            "codemirror_mode": "shell",
            "mimetype": "text/x-sh",
            "file_extension": ".ps1"
        }
    },
    "nbformat_minor": 2,
    "nbformat": 4,
    "cells": [
        {
            "cell_type": "markdown",
            "source": [
                "# Sources"
            ],
            "metadata": {
                "azdata_cell_guid": "01926273-6f46-42c8-b213-a576ebba3a36"
            }
        },
        {
            "cell_type": "markdown",
            "source": [
                "### **Pre-requisite**\n",
                "\n",
                "You will need to install the purviewcli package.\n",
                "\n",
                "```\n",
                "pip install purviewcli\n",
                "```\n",
                "\n",
                "### **1\\. Set the Environment Variable**\n",
                "\n",
                "Before purviewcli can be used, the environment variable `PURVIEW_NAME` needs to be set."
            ],
            "metadata": {
                "azdata_cell_guid": "2e4b9eba-ebb8-46cd-a0f7-14a71ac64023"
            }
        },
        {
            "cell_type": "code",
            "source": [
                " $env:PURVIEW_NAME = \"purview-sandbox\""
            ],
            "metadata": {
                "azdata_cell_guid": "35d48d02-e04d-457b-a434-d12177d63213"
            },
            "outputs": [],
            "execution_count": null
        },
        {
            "cell_type": "markdown",
            "source": [
                "### **2\\. Create a Collection**"
            ],
            "metadata": {
                "azdata_cell_guid": "4700765b-b99d-442c-a4f1-842b79b3a17c"
            }
        },
        {
            "cell_type": "code",
            "source": [
                "pv createCollection --collection 'ParentCollection'"
            ],
            "metadata": {
                "azdata_cell_guid": "628e5250-16e5-4723-8874-52fc7f81b244"
            },
            "outputs": [],
            "execution_count": null
        },
        {
            "cell_type": "markdown",
            "source": [
                "### **3\\. Create a Collection under a Parent Collection**"
            ],
            "metadata": {
                "azdata_cell_guid": "6f5e6085-adba-484e-90c6-cd40e5082357"
            }
        },
        {
            "cell_type": "code",
            "source": [
                "pv createCollection --collection 'CollectionName' --parentCollection 'ParentCollection'"
            ],
            "metadata": {
                "azdata_cell_guid": "5f41645f-2fe2-49e6-9747-f07376e87e1e"
            },
            "outputs": [],
            "execution_count": null
        },
        {
            "cell_type": "markdown",
            "source": [
                "### **4\\. Delete a Collection**"
            ],
            "metadata": {
                "azdata_cell_guid": "dc03a668-ec75-4094-ad53-938b8023d53f"
            }
        },
        {
            "cell_type": "code",
            "source": [
                "pv deleteCollection --collection 'CollectionName'"
            ],
            "metadata": {
                "azdata_cell_guid": "718285d7-e343-465a-895c-f99456bdabb4"
            },
            "outputs": [
                {
                    "name": "stdout",
                    "text": "{\n    \"reason\": \"OK\",\n    \"status_code\": 200,\n    \"url\": \"https://purview-sandbox.scan.purview.azure.com/datasources/CollectionName\"\n}\n",
                    "output_type": "stream"
                },
                {
                    "name": "stdout",
                    "text": "",
                    "output_type": "stream"
                }
            ],
            "execution_count": 8
        }
    ]
}