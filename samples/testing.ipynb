{
 "metadata": {
  "language_info": {
   "codemirror_mode": {
    "name": "ipython",
    "version": 3
   },
   "file_extension": ".py",
   "mimetype": "text/x-python",
   "name": "python",
   "nbconvert_exporter": "python",
   "pygments_lexer": "ipython3",
   "version": "3.7.6-final"
  },
  "orig_nbformat": 2,
  "kernelspec": {
   "name": "python3",
   "display_name": "Python 3",
   "language": "python"
  }
 },
 "nbformat": 4,
 "nbformat_minor": 2,
 "cells": [
  {
   "cell_type": "code",
   "execution_count": null,
   "metadata": {},
   "outputs": [],
   "source": [
    "# Set Environment Variable\n",
    "%env PURVIEW_NAME=purview-sandbox"
   ]
  },
  {
   "cell_type": "code",
   "execution_count": null,
   "metadata": {},
   "outputs": [],
   "source": [
    "guid = \"d0e5f74f-7b3c-42ee-8315-034e15733531\"\n",
    "\n",
    "!pv lineage read --guid {guid}"
   ]
  },
  {
   "cell_type": "code",
   "execution_count": 53,
   "metadata": {},
   "outputs": [
    {
     "output_type": "stream",
     "name": "stdout",
     "text": [
      "{\n    \"errorCode\": \"RequestUriNotFound\",\n    \"errorMessage\": \"null for uri: https://management-babylon-brazilsouth.catalog.clouddatahub.net/api/atlas/v2/lineage/uniqueAttribute/type/azure_datalake_gen2_path?depth=3&direction=BOTH&attr%3AqualifiedName=BankChurners\",\n    \"requestId\": \"843b2255-15b1-4cf3-8efd-246614de7786\"\n}\n"
     ]
    }
   ],
   "source": [
    "typeName = \"azure_datalake_gen2_path\"\n",
    "attrName = \"qualifiedName\"\n",
    "attrValue = \"BankChurners\"\n",
    "!pv lineage readUniqueAttributeType --typeName {typeName} --attrName {attrName} --attrValue {attrValue}"
   ]
  },
  {
   "cell_type": "code",
   "execution_count": 54,
   "metadata": {},
   "outputs": [
    {
     "output_type": "stream",
     "name": "stdout",
     "text": [
      "{\n    \"errorCode\": \"RequestInvalid\",\n    \"errorMessage\": \"Request is not recognized. Please verify the HTTP method, header or URL\",\n    \"requestId\": \"894b2a99-02f4-406b-b914-6654ef6dd374\"\n}\n"
     ]
    }
   ],
   "source": [
    "!pv glossary uploadTemplate"
   ]
  }
 ]
}