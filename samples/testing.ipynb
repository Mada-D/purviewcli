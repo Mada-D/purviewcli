{
 "metadata": {
  "language_info": {
   "codemirror_mode": {
    "name": "ipython",
    "version": 3
   },
   "file_extension": ".py",
   "mimetype": "text/x-python",
   "name": "python",
   "nbconvert_exporter": "python",
   "pygments_lexer": "ipython3",
   "version": "3.7.6-final"
  },
  "orig_nbformat": 2,
  "kernelspec": {
   "name": "python3",
   "display_name": "Python 3",
   "language": "python"
  }
 },
 "nbformat": 4,
 "nbformat_minor": 2,
 "cells": [
  {
   "cell_type": "code",
   "execution_count": null,
   "metadata": {},
   "outputs": [],
   "source": [
    "# Set Environment Variable\n",
    "%env PURVIEW_NAME=purview-sandbox"
   ]
  },
  {
   "cell_type": "code",
   "execution_count": null,
   "metadata": {},
   "outputs": [],
   "source": [
    "# Detailed Glossary\n",
    "import json\n",
    "cli_output = !pv glossary read\n",
    "glossary = json.loads(''.join(cli_output))\n",
    "default_glossary = glossary[0]"
   ]
  },
  {
   "cell_type": "code",
   "execution_count": null,
   "metadata": {},
   "outputs": [],
   "source": [
    "term = !pv glossary createTerm --glossaryGuid {default_glossary['guid']} --termName='3240' --expertId '095354ff-cae8-44ff-8120-22ec5a941b40' --expertId 'ac2b4099-7d5a-4d71-b9e4-65325a82c487' --stewardId '095354ff-cae8-44ff-8120-22ec5a941b40' --stewardId 'ac2b4099-7d5a-4d71-b9e4-65325a82c487' --status 'Approved' --abbreviation 'MT' --longDescription 'This is a long definition' --resourceName 'Taygan' --resourceUrl 'https://taygan.co' --synonym '584ce923-b360-4fad-8c32-d4a2a216f47f' --related '584ce923-b360-4fad-8c32-d4a2a216f47f'\n",
    "term"
   ]
  },
  {
   "cell_type": "code",
   "execution_count": null,
   "metadata": {},
   "outputs": [],
   "source": [
    "!pv glossary updateTerm --termGuid '61b27feb-fa63-4e33-9637-6779d990a067' --resourceName 'Google' --resourceUrl 'https://google.com'"
   ]
  },
  {
   "cell_type": "code",
   "execution_count": null,
   "metadata": {},
   "outputs": [],
   "source": [
    "# !pv glossary\n",
    "!pv glossary createTerms --glossaryGuid {default_glossary['guid']} --termName '60' --status 'Approved' --longDescription 'This is a long def 60' --termName '20' --status 'Approved' --longDescription 'This is a long def 20' --termName '30' --status 'Approved' --longDescription 'This is a long def 30' --termName '40' --status 'Approved' --longDescription 'This is a long def 40'"
   ]
  },
  {
   "source": [
    "glossaries = !pv glossary read\n",
    "print(glossaries)"
   ],
   "cell_type": "code",
   "metadata": {},
   "execution_count": null,
   "outputs": []
  },
  {
   "cell_type": "code",
   "execution_count": null,
   "metadata": {},
   "outputs": [],
   "source": [
    "for glossary in glossaries:\n",
    "    !pv glossary delete --glossaryGuid {glossary['guid']}"
   ]
  },
  {
   "cell_type": "code",
   "execution_count": null,
   "metadata": {},
   "outputs": [],
   "source": [
    "glossaries = !pv glossary read\n",
    "glossaries = json.loads(''.join(glossaries))\n",
    "default_glossary = glossaries[0]"
   ]
  },
  {
   "cell_type": "code",
   "execution_count": null,
   "metadata": {},
   "outputs": [],
   "source": [
    "default_glossary['guid']"
   ]
  },
  {
   "cell_type": "code",
   "execution_count": null,
   "metadata": {},
   "outputs": [],
   "source": [
    "!pv glossary createCategory --glossaryGuid {default_glossary['guid']} --categoryName 'MyFirstCategory' "
   ]
  },
  {
   "cell_type": "code",
   "execution_count": null,
   "metadata": {},
   "outputs": [],
   "source": [
    "!pv glossary createCategories --glossaryGuid {default_glossary['guid']} --categoryName 'Category1' --categoryName 'Category2' --categoryName 'Category3' --categoryName 'Category4' "
   ]
  },
  {
   "cell_type": "code",
   "execution_count": 90,
   "metadata": {},
   "outputs": [],
   "source": [
    "glossaries = !pv glossary read\n",
    "glossaries = json.loads(''.join(glossaries))\n",
    "default_glossary = glossaries[0]\n"
   ]
  },
  {
   "cell_type": "code",
   "execution_count": null,
   "metadata": {},
   "outputs": [],
   "source": [
    "for category in default_glossary['categories']:\n",
    "    print(category['categoryGuid'])\n",
    "    !pv glossary deleteCategory --categoryGuid {category['categoryGuid']}"
   ]
  },
  {
   "cell_type": "code",
   "execution_count": 91,
   "metadata": {},
   "outputs": [
    {
     "output_type": "execute_result",
     "data": {
      "text/plain": [
       "{'guid': 'b5544147-c1c5-401c-b835-d3e93e7eaae2',\n",
       " 'lastModifiedTS': '1',\n",
       " 'name': 'Glossary',\n",
       " 'qualifiedName': 'Glossary',\n",
       " 'terms': [{'displayText': 'MyTerm',\n",
       "   'relationGuid': '03752bbc-57f0-47d0-a685-3620bb73a80b',\n",
       "   'termGuid': '6eb3cfe3-1ed6-4c64-934f-e38ce2c2ffec'}]}"
      ]
     },
     "metadata": {},
     "execution_count": 91
    }
   ],
   "source": [
    "default_glossary"
   ]
  },
  {
   "cell_type": "code",
   "execution_count": 92,
   "metadata": {},
   "outputs": [],
   "source": [
    "new_glossary = !pv glossary create --glossaryName 'NewGlossary'"
   ]
  },
  {
   "cell_type": "code",
   "execution_count": 94,
   "metadata": {},
   "outputs": [
    {
     "output_type": "execute_result",
     "data": {
      "text/plain": [
       "{'guid': '77546e7a-f608-4dda-a858-8cc4b48039ed',\n",
       " 'lastModifiedTS': '1',\n",
       " 'name': 'NewGlossary',\n",
       " 'qualifiedName': 'NewGlossary'}"
      ]
     },
     "metadata": {},
     "execution_count": 94
    }
   ],
   "source": [
    "new_glossary = json.loads(''.join(new_glossary))\n",
    "new_glossary"
   ]
  },
  {
   "cell_type": "code",
   "execution_count": 98,
   "metadata": {},
   "outputs": [
    {
     "output_type": "execute_result",
     "data": {
      "text/plain": [
       "['{',\n",
       " '    \"guid\": \"77546e7a-f608-4dda-a858-8cc4b48039ed\",',\n",
       " '    \"language\": \"NewGlossaryName\",',\n",
       " '    \"lastModifiedTS\": \"2\",',\n",
       " '    \"name\": \"NewGlossary\",',\n",
       " '    \"qualifiedName\": \"NewGlossary\"',\n",
       " '}']"
      ]
     },
     "metadata": {},
     "execution_count": 98
    }
   ],
   "source": [
    "updated_glossary = !pv glossary update --glossaryGuid {new_glossary['guid']} --glossaryName 'NewGlossaryName'\n",
    "updated_glossary"
   ]
  },
  {
   "cell_type": "code",
   "execution_count": 99,
   "metadata": {},
   "outputs": [
    {
     "output_type": "execute_result",
     "data": {
      "text/plain": [
       "{'guid': '77546e7a-f608-4dda-a858-8cc4b48039ed',\n",
       " 'language': 'NewGlossaryName',\n",
       " 'lastModifiedTS': '2',\n",
       " 'name': 'NewGlossary',\n",
       " 'qualifiedName': 'NewGlossary'}"
      ]
     },
     "metadata": {},
     "execution_count": 99
    }
   ],
   "source": [
    "updated_glossary = json.loads(''.join(updated_glossary))\n",
    "updated_glossary"
   ]
  },
  {
   "cell_type": "code",
   "execution_count": null,
   "metadata": {},
   "outputs": [],
   "source": []
  }
 ]
}