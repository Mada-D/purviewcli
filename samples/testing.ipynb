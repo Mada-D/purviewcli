{
 "metadata": {
  "language_info": {
   "codemirror_mode": {
    "name": "ipython",
    "version": 3
   },
   "file_extension": ".py",
   "mimetype": "text/x-python",
   "name": "python",
   "nbconvert_exporter": "python",
   "pygments_lexer": "ipython3",
   "version": "3.7.6-final"
  },
  "orig_nbformat": 2,
  "kernelspec": {
   "name": "python3",
   "display_name": "Python 3",
   "language": "python"
  }
 },
 "nbformat": 4,
 "nbformat_minor": 2,
 "cells": [
  {
   "cell_type": "code",
   "execution_count": null,
   "metadata": {},
   "outputs": [],
   "source": [
    "# Set Environment Variable\n",
    "%env PURVIEW_NAME=purview-sandbox"
   ]
  },
  {
   "cell_type": "code",
   "execution_count": null,
   "metadata": {},
   "outputs": [],
   "source": [
    "import json\n",
    "guid = '7ccc6d67-7a15-42a6-8fd8-39f6f6f60001'\n",
    "classifications = !pv entity readClassifications --guid {guid}\n",
    "classifications = json.loads(''.join(classifications))\n",
    "classifications"
   ]
  },
  {
   "cell_type": "code",
   "execution_count": null,
   "metadata": {},
   "outputs": [],
   "source": [
    "typeName = classifications['list'][0]['typeName']\n",
    "entityGuid = classifications['list'][0]['entityGuid']\n",
    "!pv entity deleteClassification --guid {entityGuid} --classificationName {typeName}"
   ]
  },
  {
   "cell_type": "code",
   "execution_count": null,
   "metadata": {},
   "outputs": [],
   "source": [
    "!pv entity readHeader --guid {entityGuid}"
   ]
  },
  {
   "cell_type": "code",
   "execution_count": null,
   "metadata": {},
   "outputs": [],
   "source": [
    "guid = '7ccc6d67-7a15-42a6-8fd8-39f6f6f60001'\n",
    "!pv entity createBulkClassification --classificationName 'CUSTOM.WINE.TWITTER_HANDLE' --guid {guid}"
   ]
  },
  {
   "cell_type": "code",
   "execution_count": null,
   "metadata": {},
   "outputs": [],
   "source": [
    "typeName = 'azure_sql_column'\n",
    "attrKey = 'qualifiedName'\n",
    "attrVal = 'mssql://sqlsvr8951.database.windows.net/sqldb8951/Taygan/TwitterOne#HANDLE'\n",
    "# !pv entity readUniqueAttributeType --typeName {typeName} --attrKey {attrKey} --attrVal {attrVal}\n",
    "!pv entity readUniqueAttributeType --typeName {typeName} --attrKey {attrKey} --attrVal {attrVal}"
   ]
  },
  {
   "cell_type": "code",
   "execution_count": null,
   "metadata": {},
   "outputs": [],
   "source": [
    "typeName = 'azure_sql_column'\n",
    "attrKey = 'qualifiedName'\n",
    "attrVal = 'mssql://sqlsvr8951.database.windows.net/sqldb8951/Taygan/TwitterOne#HANDLE'\n",
    "!pv entity readBulkUniqueAttributeType --typeName {typeName} --attrKey {attrKey} --attrVal {attrVal}"
   ]
  },
  {
   "cell_type": "code",
   "execution_count": 84,
   "metadata": {},
   "outputs": [
    {
     "output_type": "stream",
     "name": "stdout",
     "text": [
      "{\n    \"operation\": \"[POST] https://purview-sandbox.catalog.purview.azure.com/api/atlas/v2/entity/uniqueAttribute/type/azure_sql_table/classifications?attr%3AqualifiedName=mssql%3A%2F%2Fsqlsvr8951.database.windows.net%2Fsqldb8951%2FTaygan%2FTwitter01\",\n    \"status\": \"The server successfully processed the request\"\n}\n"
     ]
    }
   ],
   "source": [
    "typeName = 'azure_sql_table'\n",
    "attrKey = 'qualifiedName'\n",
    "attrVal = 'mssql://sqlsvr8951.database.windows.net/sqldb8951/Taygan/Twitter01'\n",
    "classification1 = 'MICROSOFT.GOVERNMENT.IRELAND.PERSONAL_PUBLIC_SERVICE_NUMBER'\n",
    "classification2 = 'MICROSOFT.GOVERNMENT.BRAZIL.LEGAL_IDENTITY_ID_CARD'\n",
    "classification3 = 'MICROSOFT.GOVERNMENT.ARGENTINA.DNI_NUMBER'\n",
    "!pv entity createUniqueAttributeTypeClassifications --typeName {typeName} --attrKey {attrKey} --attrVal {attrVal} --classificationName {classification1} --classificationName {classification2} --classificationName {classification3}"
   ]
  },
  {
   "cell_type": "code",
   "execution_count": 88,
   "metadata": {},
   "outputs": [
    {
     "output_type": "stream",
     "name": "stdout",
     "text": [
      "{\n    \"operation\": \"[DELETE] https://purview-sandbox.catalog.purview.azure.com/api/atlas/v2/entity/uniqueAttribute/type/azure_sql_table/classification/MICROSOFT.GOVERNMENT.IRELAND.PERSONAL_PUBLIC_SERVICE_NUMBER?attr%3AqualifiedName=mssql%3A%2F%2Fsqlsvr8951.database.windows.net%2Fsqldb8951%2FTaygan%2FTwitter01\",\n    \"status\": \"The server successfully processed the request\"\n}\n"
     ]
    }
   ],
   "source": [
    "typeName = 'azure_sql_table'\n",
    "attrKey = 'qualifiedName'\n",
    "attrVal = 'mssql://sqlsvr8951.database.windows.net/sqldb8951/Taygan/Twitter01'\n",
    "classification1 = 'MICROSOFT.GOVERNMENT.IRELAND.PERSONAL_PUBLIC_SERVICE_NUMBER'\n",
    "!pv entity deleteUniqueAttributeTypeClassification --typeName {typeName} --attrKey {attrKey} --attrVal {attrVal} --classificationName {classification1}"
   ]
  },
  {
   "cell_type": "code",
   "execution_count": 91,
   "metadata": {},
   "outputs": [
    {
     "output_type": "stream",
     "name": "stdout",
     "text": [
      "{\n    \"errorCode\": \"RequestUriNotFound\",\n    \"errorMessage\": \"null for uri: https://management-babylon-brazilsouth.catalog.clouddatahub.net/api/atlas/v2/entity/guid/7087e849-7bd7-45e1-85a3-5cf6f6f60000/audit?auditAction=ENTITY_CREATE&count=100\",\n    \"requestId\": \"a1deafcb-0efd-44df-b19e-40d7c0f2d4aa\"\n}\n"
     ]
    }
   ],
   "source": [
    "guid = '7087e849-7bd7-45e1-85a3-5cf6f6f60000'\n",
    "auditAction = 'ENTITY_CREATE'\n",
    "!pv entity readAudit --guid {guid} --auditAction {auditAction}"
   ]
  },
  {
   "cell_type": "code",
   "execution_count": 94,
   "metadata": {},
   "outputs": [
    {
     "output_type": "stream",
     "name": "stdout",
     "text": [
      "{\n    \"errorCode\": \"InternalServerError\",\n    \"errorMessage\": \"There was an error processing your request. This could be a transient issue and you may re-run the operation. If it fails again continuously, contact customer support with ID f7cfec9a-6b03-433f-988a-61aedbe97cd9.\",\n    \"requestId\": \"f7cfec9a-6b03-433f-988a-61aedbe97cd9\"\n}\n"
     ]
    }
   ],
   "source": [
    "!pv entity CreateBulkSetClassifications"
   ]
  },
  {
   "cell_type": "code",
   "execution_count": 96,
   "metadata": {},
   "outputs": [
    {
     "output_type": "stream",
     "name": "stdout",
     "text": [
      "{\n    \"errorCode\": \"RequestUriNotFound\",\n    \"errorMessage\": \"null for uri: https://management-babylon-brazilsouth.catalog.clouddatahub.net/api/atlas/v2/entity/guid/7087e849-7bd7-45e1-85a3-5cf6f6f60000/labels\",\n    \"requestId\": \"c5a7f048-6829-4462-ad20-ca10f14e184e\"\n}\n"
     ]
    }
   ],
   "source": [
    "!pv entity createLabels --guid='7087e849-7bd7-45e1-85a3-5cf6f6f60000' --label='MyLabel'"
   ]
  },
  {
   "cell_type": "code",
   "execution_count": 106,
   "metadata": {},
   "outputs": [
    {
     "output_type": "stream",
     "name": "stdout",
     "text": [
      "{\n    \"operation\": \"[PUT] https://purview-sandbox.catalog.purview.azure.com/api/atlas/v2/entity/uniqueAttribute/type/azure_sql_column/classifications?attr%3AqualifiedName=mssql%3A%2F%2Fsqlsvr8951.database.windows.net%2Fsqldb8951%2FTaygan%2FTwitterOne%23HANDLE\",\n    \"status\": \"The server successfully processed the request\"\n}\n"
     ]
    }
   ],
   "source": [
    "typeName = 'azure_sql_column'\n",
    "attrKey = 'qualifiedName'\n",
    "attrVal = 'mssql://sqlsvr8951.database.windows.net/sqldb8951/Taygan/TwitterOne#HANDLE'\n",
    "classificationName = 'CUSTOM.WINE.TWITTER_HANDLE'\n",
    "!pv entity updateUniqueAttributeTypeClassifications --typeName {typeName} --attrKey {attrKey} --attrVal {attrVal} --classificationName {classificationName}"
   ]
  },
  {
   "cell_type": "code",
   "execution_count": null,
   "metadata": {},
   "outputs": [],
   "source": []
  }
 ]
}