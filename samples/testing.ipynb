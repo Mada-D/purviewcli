{
 "metadata": {
  "language_info": {
   "codemirror_mode": {
    "name": "ipython",
    "version": 3
   },
   "file_extension": ".py",
   "mimetype": "text/x-python",
   "name": "python",
   "nbconvert_exporter": "python",
   "pygments_lexer": "ipython3",
   "version": "3.7.6-final"
  },
  "orig_nbformat": 2,
  "kernelspec": {
   "name": "python3",
   "display_name": "Python 3",
   "language": "python"
  }
 },
 "nbformat": 4,
 "nbformat_minor": 2,
 "cells": [
  {
   "cell_type": "code",
   "execution_count": null,
   "metadata": {},
   "outputs": [],
   "source": [
    "# Set Environment Variable\n",
    "%env PURVIEW_NAME=purview-sandbox"
   ]
  },
  {
   "cell_type": "code",
   "execution_count": null,
   "metadata": {
    "tags": []
   },
   "outputs": [],
   "source": [
    "import json\n",
    "headers = !pv types readTypedefsHeaders\n",
    "headers = json.loads(''.join(headers))\n",
    "headers\n"
   ]
  },
  {
   "cell_type": "code",
   "execution_count": 119,
   "metadata": {
    "tags": []
   },
   "outputs": [
    {
     "output_type": "execute_result",
     "data": {
      "text/plain": [
       "{'ENUM': 17,\n",
       " 'STRUCT': 11,\n",
       " 'CLASSIFICATION': 108,\n",
       " 'ENTITY': 274,\n",
       " 'RELATIONSHIP': 238}"
      ]
     },
     "metadata": {},
     "execution_count": 119
    }
   ],
   "source": [
    "# Count TypeDefs by Category\n",
    "import json\n",
    "types = !pv types readTypedefsHeaders\n",
    "types = json.loads(''.join(types))\n",
    "categories = {}\n",
    "for x in types:\n",
    "    categories[x['category']] = 1 + categories.get(x['category'],0)\n",
    "categories"
   ]
  },
  {
   "cell_type": "code",
   "execution_count": null,
   "metadata": {},
   "outputs": [],
   "source": [
    "!pv types createTypedefs --category='CLASSIFICATION' --defName='MyClassification1' --defDescription='This is a long definition.' --category='CLASSIFICATION' --defName='MyClassification2' --defDescription='This is a long definition.' --category='CLASSIFICATION' --defName='MyClassification3' --defDescription='This is a long definition.' --category='CLASSIFICATION' --defName='MyClassification4' --defDescription='This is a long definition.'"
   ]
  },
  {
   "cell_type": "code",
   "execution_count": null,
   "metadata": {},
   "outputs": [],
   "source": [
    "!pv types deleteTypedefName --name='MyClassification1'\n",
    "!pv types deleteTypedefName --name='MyClassification2'\n",
    "!pv types deleteTypedefName --name='MyClassification3'\n",
    "!pv types deleteTypedefName --name='MyClassification4'"
   ]
  },
  {
   "cell_type": "code",
   "execution_count": 118,
   "metadata": {},
   "outputs": [
    {
     "output_type": "stream",
     "name": "stdout",
     "text": [
      "{'classificationDefs': [{'category': 'CLASSIFICATION', 'createTime': 1613813269805, 'createdBy': '095354ff-cae8-44ff-8120-22ec5a941b40', 'dateFormatter': None, 'description': 'This is a long definition.', 'guid': '563fc09a-c5f5-45d5-be5f-2afd7696ec42', 'name': 'MyClassification1', 'options': None, 'serviceType': None, 'typeVersion': '1.0', 'updateTime': 1613813269805, 'updatedBy': '095354ff-cae8-44ff-8120-22ec5a941b40', 'version': 1, 'lastModifiedTS': None}, {'category': 'CLASSIFICATION', 'createTime': 1613813269815, 'createdBy': '095354ff-cae8-44ff-8120-22ec5a941b40', 'dateFormatter': None, 'description': 'This is a long definition.', 'guid': '5fe90433-1ba8-493e-9d39-cf1728b2cae0', 'name': 'MyClassification2', 'options': None, 'serviceType': None, 'typeVersion': '1.0', 'updateTime': 1613813269815, 'updatedBy': '095354ff-cae8-44ff-8120-22ec5a941b40', 'version': 1, 'lastModifiedTS': None}, {'category': 'CLASSIFICATION', 'createTime': 1613813269823, 'createdBy': '095354ff-cae8-44ff-8120-22ec5a941b40', 'dateFormatter': None, 'description': 'This is a long definition.', 'guid': 'bc5c1bf5-0098-4b9a-9114-10ecd65916f4', 'name': 'MyClassification3', 'options': None, 'serviceType': None, 'typeVersion': '1.0', 'updateTime': 1613813269823, 'updatedBy': '095354ff-cae8-44ff-8120-22ec5a941b40', 'version': 1, 'lastModifiedTS': None}, {'category': 'CLASSIFICATION', 'createTime': 1613813269832, 'createdBy': '095354ff-cae8-44ff-8120-22ec5a941b40', 'dateFormatter': None, 'description': 'This is a long definition.', 'guid': '0d6a3ea1-bf8b-4622-b754-3ec4b2909c6f', 'name': 'MyClassification4', 'options': None, 'serviceType': None, 'typeVersion': '1.0', 'updateTime': 1613813269832, 'updatedBy': '095354ff-cae8-44ff-8120-22ec5a941b40', 'version': 1, 'lastModifiedTS': None}], 'entityDefs': [], 'enumDefs': [], 'relationshipDefs': [], 'structDefs': []}\n",
      "{\n",
      "    \"operation\": \"[DELETE] https://purview-sandbox.catalog.purview.azure.com/api/atlas/v2/types/typedefs\",\n",
      "    \"status\": \"The server successfully processed the request\"\n",
      "}\n"
     ]
    }
   ],
   "source": [
    "!pv types deleteTypedefs --defName='MyClassification1' --defName='MyClassification2' --defName='MyClassification3' --defName='MyClassification4'"
   ]
  },
  {
   "cell_type": "code",
   "execution_count": null,
   "metadata": {},
   "outputs": [],
   "source": [
    "!pv types updateTypedefs --category='CLASSIFICATION' --defName='MyClassification1' --defDescription='This is a long definition. NEW' --category='CLASSIFICATION' --defName='MyClassification2' --defDescription='This is a long definition. NEW' --category='CLASSIFICATION' --defName='MyClassification3' --defDescription='This is a long definition. NEW' --category='CLASSIFICATION' --defName='MyClassification4' --defDescription='This is a long definition. NEW'"
   ]
  },
  {
   "cell_type": "code",
   "execution_count": null,
   "metadata": {
    "tags": [
     "outputPrepend"
    ]
   },
   "outputs": [],
   "source": [
    "headers = !pv types readTypedefsHeaders"
   ]
  },
  {
   "cell_type": "code",
   "execution_count": 115,
   "metadata": {},
   "outputs": [
    {
     "output_type": "stream",
     "name": "stdout",
     "text": [
      "usage: \n    pv types createTypedefs --category=<val>... --defName=<val>... [--defDescription=<val>...]\n    pv types readTypedefs [--type=<val>]\n    pv types updateTypedefs --category=<val>... --defName=<val>... [--defDescription=<val>...]\n    pv types deleteTypedefs --defName=<val>...\n    pv types readTypedefsHeaders\n    pv types readTypedef (--guid=<val> | --name=<val>)\n    pv types deleteTypedefName --name=<val>\n    pv types readClassificationdef (--guid=<val> | --name=<val>)\n    pv types readBusinessmetadatadef (--guid=<val> | --name=<val>)\n    pv types readEntitydef (--guid=<val> | --name=<val>)\n    pv types readEnumdef (--guid=<val> | --name=<val>)\n    pv types readRelationshipdef (--guid=<val> | --name=<val>)\n    pv types readStructdef (--guid=<val> | --name=<val>)\n"
     ]
    }
   ],
   "source": [
    "!pv types"
   ]
  },
  {
   "cell_type": "code",
   "execution_count": null,
   "metadata": {},
   "outputs": [],
   "source": []
  }
 ]
}