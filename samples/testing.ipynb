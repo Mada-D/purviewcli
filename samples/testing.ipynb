{
 "metadata": {
  "language_info": {
   "codemirror_mode": {
    "name": "ipython",
    "version": 3
   },
   "file_extension": ".py",
   "mimetype": "text/x-python",
   "name": "python",
   "nbconvert_exporter": "python",
   "pygments_lexer": "ipython3",
   "version": "3.7.6-final"
  },
  "orig_nbformat": 2,
  "kernelspec": {
   "name": "python3",
   "display_name": "Python 3",
   "language": "python"
  }
 },
 "nbformat": 4,
 "nbformat_minor": 2,
 "cells": [
  {
   "cell_type": "code",
   "execution_count": null,
   "metadata": {},
   "outputs": [],
   "source": [
    "# Set Environment Variable\n",
    "%env PURVIEW_NAME=purview-sandbox"
   ]
  },
  {
   "cell_type": "code",
   "execution_count": 127,
   "metadata": {},
   "outputs": [
    {
     "output_type": "stream",
     "name": "stdout",
     "text": [
      "{\n    \"errorCode\": \"RequestUriNotFound\",\n    \"errorMessage\": \"null for uri: https://management-babylon-brazilsouth.catalog.clouddatahub.net/api/atlas/v2/entity/bulk/headers\",\n    \"requestId\": \"7607665f-0350-443a-8cba-a58950458fdb\"\n}\n"
     ]
    }
   ],
   "source": [
    "!pv entity readBulkHeaders"
   ]
  }
 ]
}