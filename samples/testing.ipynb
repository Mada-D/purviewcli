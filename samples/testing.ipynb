{
 "metadata": {
  "language_info": {
   "codemirror_mode": {
    "name": "ipython",
    "version": 3
   },
   "file_extension": ".py",
   "mimetype": "text/x-python",
   "name": "python",
   "nbconvert_exporter": "python",
   "pygments_lexer": "ipython3",
   "version": "3.7.6-final"
  },
  "orig_nbformat": 2,
  "kernelspec": {
   "name": "python3",
   "display_name": "Python 3",
   "language": "python"
  }
 },
 "nbformat": 4,
 "nbformat_minor": 2,
 "cells": [
  {
   "cell_type": "code",
   "execution_count": null,
   "metadata": {},
   "outputs": [],
   "source": [
    "# Set Environment Variable\n",
    "%env PURVIEW_NAME=purview-sandbox"
   ]
  },
  {
   "cell_type": "code",
   "execution_count": null,
   "metadata": {},
   "outputs": [],
   "source": [
    "name = 'Twitter02'\n",
    "qualifiedName = 'mssql://sqlsvr8951.database.windows.net/sqldb8951/Taygan/Twitter02'\n",
    "typeName = 'azure_sql_table'\n",
    "source = 'Custom'\n",
    "description = 'This is a long description.'\n",
    "!pv entity create --name {name} --qualifiedName {qualifiedName} --typeName {typeName} --description 'Hello'"
   ]
  },
  {
   "cell_type": "code",
   "execution_count": 51,
   "metadata": {},
   "outputs": [
    {
     "output_type": "stream",
     "name": "stdout",
     "text": [
      "usage: \n    pv entity create --name=<val> --qualifiedName=<val> --typeName=<val> [--description=<val>]\n    pv entity read --guid=<val> [--ignoreRelationships --minExtInfo]\n    pv entity delete --guid=<val>\n    pv entity readBulk --guid=<val>... [--ignoreRelationships --minExtInfo]\n    pv entity deleteBulk --guid=<val>...\n    pv entity readHeader --guid=<val>\n    pv entity readBulkHeaders [--tagUpdateStartTime=<val>]\n    pv entity readAudit --guid=<val> [--auditAction=<val> --count=<val> --startKey=<val>]\n    pv entity readBusinessmetadataImportTemplate\n    pv entity createLabels --guid=<val> --label=<val>...\n    pv entity createClassifications --guid=<val> --classificationName=<val>...\n    pv entity readClassification --guid=<val> --classificationName=<val>\n    pv entity deleteClassification --guid=<val> --classificationName=<val>\n    pv entity readClassifications --guid=<val>\n    pv entity readUniqueAttributeType --typeName=<val> --attrKey=<val> --attrVal=<val> [--ignoreRelationships --minExtInfo]\n    pv entity readUniqueAttributeTypeHeader --typeName=<val> --attrKey=<val> --attrVal=<val>\n    pv entity readBulkUniqueAttributeType --typeName=<val> [--ignoreRelationships --minExtInfo]\n"
     ]
    }
   ],
   "source": [
    "!pv entity"
   ]
  }
 ]
}