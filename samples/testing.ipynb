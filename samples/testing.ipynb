{
 "metadata": {
  "language_info": {
   "codemirror_mode": {
    "name": "ipython",
    "version": 3
   },
   "file_extension": ".py",
   "mimetype": "text/x-python",
   "name": "python",
   "nbconvert_exporter": "python",
   "pygments_lexer": "ipython3",
   "version": "3.7.6-final"
  },
  "orig_nbformat": 2,
  "kernelspec": {
   "name": "python3",
   "display_name": "Python 3",
   "language": "python"
  }
 },
 "nbformat": 4,
 "nbformat_minor": 2,
 "cells": [
  {
   "cell_type": "code",
   "execution_count": null,
   "metadata": {},
   "outputs": [],
   "source": [
    "# Set Environment Variable\n",
    "%env PURVIEW_NAME=purview-sandbox"
   ]
  },
  {
   "cell_type": "code",
   "execution_count": null,
   "metadata": {},
   "outputs": [],
   "source": [
    "relationshipGuid = '8a495daa-d678-46c7-8e4b-24004635fb46'\n",
    "!pv relationship read --relationshipGuid {relationshipGuid}"
   ]
  },
  {
   "cell_type": "code",
   "execution_count": 12,
   "metadata": {},
   "outputs": [
    {
     "output_type": "stream",
     "name": "stdout",
     "text": [
      "DELETED\n",
      "{\n",
      "    \"createTime\": 1613730951450,\n",
      "    \"createdBy\": \"095354ff-cae8-44ff-8120-22ec5a941b40\",\n",
      "    \"end1\": {\n",
      "        \"guid\": \"85bc9357-f227-4ad9-9379-b0173766f241\",\n",
      "        \"typeName\": \"azure_sql_schema\",\n",
      "        \"uniqueAttributes\": {\n",
      "            \"qualifiedName\": \"mssql://sqlsvr8951.database.windows.net/sqldb8951/Taygan\"\n",
      "        }\n",
      "    },\n",
      "    \"end2\": {\n",
      "        \"guid\": \"fbd1a7b9-05e1-4f0c-9d17-a7f6f6f60000\",\n",
      "        \"typeName\": \"azure_sql_table\",\n",
      "        \"uniqueAttributes\": {\n",
      "            \"qualifiedName\": \"mssql://sqlsvr8951.database.windows.net/sqldb8951/Taygan/TwitterTwo\"\n",
      "        }\n",
      "    },\n",
      "    \"guid\": \"8a495daa-d678-46c7-8e4b-24004635fb46\",\n",
      "    \"label\": \"r:azure_sql_schema_tables\",\n",
      "    \"lastModifiedTS\": \"4\",\n",
      "    \"propagatedClassifications\": [],\n",
      "    \"provenanceType\": 0,\n",
      "    \"status\": \"ACTIVE\",\n",
      "    \"typeName\": \"azure_sql_schema_tables\",\n",
      "    \"updateTime\": 1613730951450,\n",
      "    \"updatedBy\": \"095354ff-cae8-44ff-8120-22ec5a941b40\",\n",
      "    \"version\": 0\n",
      "}\n"
     ]
    }
   ],
   "source": [
    "!pv relationship update --relationshipGuid {relationshipGuid} --status 'DELETED'"
   ]
  },
  {
   "cell_type": "code",
   "execution_count": 6,
   "metadata": {},
   "outputs": [
    {
     "output_type": "execute_result",
     "data": {
      "text/plain": [
       "'8a495daa-d678-46c7-8e4b-24004635fb46'"
      ]
     },
     "metadata": {},
     "execution_count": 6
    }
   ],
   "source": [
    "relationshipGuid"
   ]
  },
  {
   "cell_type": "code",
   "execution_count": null,
   "metadata": {},
   "outputs": [],
   "source": []
  }
 ]
}